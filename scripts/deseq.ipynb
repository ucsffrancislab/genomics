{
 "cells": [
  {
   "cell_type": "markdown",
   "metadata": {},
   "source": [
    "\n",
    "Based on https://chagall.med.cornell.edu/RNASEQcourse/Intro2RNAseq.pdf\n"
   ]
  },
  {
   "cell_type": "markdown",
   "metadata": {},
   "source": [
    "Make plots are wider."
   ]
  },
  {
   "cell_type": "code",
   "execution_count": null,
   "metadata": {},
   "outputs": [],
   "source": [
    "options(repr.plot.width=16, repr.plot.height=9)"
   ]
  },
  {
   "cell_type": "code",
   "execution_count": null,
   "metadata": {},
   "outputs": [],
   "source": [
    "#featureCounts='/francislab/data1/raw/20191008_Stanford71/trimmed/unpaired/subread-rna.hsa.featureCounts.miRNA_primary_transcript.csv'\n",
    "#metadata='/francislab/data1/raw/20191008_Stanford71/metadata.csv'\n",
    "featureCounts=Sys.getenv('featureCounts')\n",
    "metadata=Sys.getenv('metadata')"
   ]
  },
  {
   "cell_type": "code",
   "execution_count": null,
   "metadata": {},
   "outputs": [],
   "source": [
    "print(featureCounts)"
   ]
  },
  {
   "cell_type": "code",
   "execution_count": null,
   "metadata": {},
   "outputs": [],
   "source": [
    "print(metadata)"
   ]
  },
  {
   "cell_type": "code",
   "execution_count": null,
   "metadata": {},
   "outputs": [],
   "source": [
    "countdata <- read.table(featureCounts, header=TRUE, row.names=1, sep='\t')\n",
    "head(countdata)"
   ]
  },
  {
   "cell_type": "markdown",
   "metadata": {},
   "source": [
    "Remove first five columns (chr, start, end, strand, length)\n",
    "or df = subset(df, select=-c(Chr,Start,End,Strand,Length))"
   ]
  },
  {
   "cell_type": "code",
   "execution_count": null,
   "metadata": {},
   "outputs": [],
   "source": [
    "countdata <- countdata[ ,6:ncol(countdata)]\n",
    "head(countdata)"
   ]
  },
  {
   "cell_type": "code",
   "execution_count": null,
   "metadata": {},
   "outputs": [],
   "source": [
    "countdata <- as.matrix(countdata)\n",
    "head(countdata)"
   ]
  },
  {
   "cell_type": "code",
   "execution_count": null,
   "metadata": {},
   "outputs": [],
   "source": [
    "nrow(countdata)"
   ]
  },
  {
   "cell_type": "code",
   "execution_count": null,
   "metadata": {},
   "outputs": [],
   "source": [
    "casecontrol <- read.table(metadata, header=TRUE, row.names=1, sep=',')\n",
    "head(casecontrol)"
   ]
  },
  {
   "cell_type": "markdown",
   "metadata": {},
   "source": [
    "expecting comma separated, 2 column csf with id and cc columns"
   ]
  },
  {
   "cell_type": "code",
   "execution_count": null,
   "metadata": {},
   "outputs": [],
   "source": [
    "condition <- casecontrol$cc\n",
    "head(condition)"
   ]
  },
  {
   "cell_type": "markdown",
   "metadata": {},
   "source": [
    "Analysis with DESeq2"
   ]
  },
  {
   "cell_type": "code",
   "execution_count": null,
   "metadata": {},
   "outputs": [],
   "source": [
    "suppressMessages({\n",
    "  library(DESeq2)\n",
    "})"
   ]
  },
  {
   "cell_type": "markdown",
   "metadata": {},
   "source": [
    "Create a coldata frame and instantiate the DESeqDataSet. See ?DESeqDataSetFromMatrix"
   ]
  },
  {
   "cell_type": "code",
   "execution_count": null,
   "metadata": {
    "scrolled": false
   },
   "outputs": [],
   "source": [
    "# Why wrapped in ( parentheses )?\n",
    "(coldata <- data.frame(row.names=colnames(countdata), condition))\n",
    "head(coldata)"
   ]
  },
  {
   "cell_type": "code",
   "execution_count": null,
   "metadata": {
    "scrolled": false
   },
   "outputs": [],
   "source": [
    "dds <- DESeqDataSetFromMatrix(countData=countdata, colData=coldata, design=~condition)\n",
    "dds"
   ]
  },
  {
   "cell_type": "markdown",
   "metadata": {},
   "source": [
    "Run the DESeq pipeline"
   ]
  },
  {
   "cell_type": "code",
   "execution_count": null,
   "metadata": {},
   "outputs": [],
   "source": [
    "dds <- DESeq(dds)"
   ]
  },
  {
   "cell_type": "code",
   "execution_count": null,
   "metadata": {},
   "outputs": [],
   "source": [
    "dds"
   ]
  },
  {
   "cell_type": "markdown",
   "metadata": {},
   "source": [
    "From Intro to DGE Analysis remove genes without any counts"
   ]
  },
  {
   "cell_type": "code",
   "execution_count": null,
   "metadata": {},
   "outputs": [],
   "source": [
    "dds <- dds[rowSums(counts(dds)) > 0,]\n",
    "dds"
   ]
  },
  {
   "cell_type": "markdown",
   "metadata": {},
   "source": [
    "NORMALIZE?"
   ]
  },
  {
   "cell_type": "code",
   "execution_count": null,
   "metadata": {},
   "outputs": [],
   "source": [
    "# don't think that this needs to be explicitly called\n",
    "#dds <- estimateSizeFactors(dds)"
   ]
  },
  {
   "cell_type": "code",
   "execution_count": null,
   "metadata": {},
   "outputs": [],
   "source": [
    "dds"
   ]
  },
  {
   "cell_type": "code",
   "execution_count": null,
   "metadata": {},
   "outputs": [],
   "source": [
    "head(data.frame(sizeFactors(dds)))"
   ]
  },
  {
   "cell_type": "code",
   "execution_count": null,
   "metadata": {},
   "outputs": [],
   "source": [
    "counts.sf_normalized <- counts(dds, normalized=TRUE)\n",
    "head(counts.sf_normalized)"
   ]
  },
  {
   "cell_type": "code",
   "execution_count": null,
   "metadata": {},
   "outputs": [],
   "source": [
    "log.norm.counts <- log2(counts.sf_normalized + 1)\n",
    "head(log.norm.counts)"
   ]
  },
  {
   "cell_type": "code",
   "execution_count": null,
   "metadata": {},
   "outputs": [],
   "source": [
    "boxplot(counts.sf_normalized, notch=TRUE,\n",
    "  main='untransformed read counts', ylab='read counts')"
   ]
  },
  {
   "cell_type": "code",
   "execution_count": null,
   "metadata": {},
   "outputs": [],
   "source": [
    "boxplot(log.norm.counts, notch=TRUE,\n",
    "  main='log2-transformed read counts',\n",
    "  ylab='log2(read counts)')"
   ]
  },
  {
   "cell_type": "code",
   "execution_count": null,
   "metadata": {},
   "outputs": [],
   "source": [
    "plot(log.norm.counts[,1:2], cex=.1, main='Normalized log2(read counts)')"
   ]
  },
  {
   "cell_type": "code",
   "execution_count": null,
   "metadata": {},
   "outputs": [],
   "source": [
    "library ( vsn )\n",
    "library ( ggplot2 )"
   ]
  },
  {
   "cell_type": "code",
   "execution_count": null,
   "metadata": {},
   "outputs": [],
   "source": [
    "msd_plot<-meanSdPlot(log.norm.counts,ranks=FALSE,plot=FALSE)\n",
    "msd_plot$gg+ggtitle('sequencing depth normalized log2(read counts)')+ylab('standard deviation')"
   ]
  },
  {
   "cell_type": "code",
   "execution_count": null,
   "metadata": {},
   "outputs": [],
   "source": [
    "dds.rlog<-rlog(dds,blind=TRUE)\n",
    "rlog.norm.counts<-assay(dds.rlog)"
   ]
  },
  {
   "cell_type": "code",
   "execution_count": null,
   "metadata": {},
   "outputs": [],
   "source": [
    "msd_plot<-meanSdPlot(rlog.norm.counts,ranks=FALSE,plot=FALSE)\n",
    "msd_plot$gg+ggtitle('rlog-transformed read counts')+ylab('standard deviation')\n",
    "# cor () calculates the correlation between columns of a matrix"
   ]
  },
  {
   "cell_type": "code",
   "execution_count": null,
   "metadata": {},
   "outputs": [],
   "source": [
    "distance.m_rlog<-as.dist(1-cor(rlog.norm.counts,method='pearson'))\n",
    "head(distance.m_rlog)"
   ]
  },
  {
   "cell_type": "code",
   "execution_count": null,
   "metadata": {},
   "outputs": [],
   "source": [
    "plot(hclust(distance.m_rlog),\n",
    "  labels=colnames(rlog.norm.counts),\n",
    "  main='rlog transformed read counts distance : Pearson correlation')"
   ]
  },
  {
   "cell_type": "code",
   "execution_count": null,
   "metadata": {},
   "outputs": [],
   "source": [
    "pc<-prcomp(t(rlog.norm.counts))"
   ]
  },
  {
   "cell_type": "code",
   "execution_count": null,
   "metadata": {},
   "outputs": [],
   "source": [
    "plot(pc$x[,1],pc$x[,2],\n",
    "  col=colData(dds)[,1],\n",
    "  main='PCA of seq.depth normalized and rlog-transformed read counts')"
   ]
  },
  {
   "cell_type": "code",
   "execution_count": null,
   "metadata": {},
   "outputs": [],
   "source": [
    "P<-plotPCA(dds.rlog)\n",
    "P<-P+theme_bw()+ggtitle('Rlog transformed counts')\n",
    "P"
   ]
  },
  {
   "cell_type": "code",
   "execution_count": null,
   "metadata": {},
   "outputs": [],
   "source": [
    "res <- results(dds)\n",
    "head(results(dds, tidy=TRUE))"
   ]
  },
  {
   "cell_type": "code",
   "execution_count": null,
   "metadata": {},
   "outputs": [],
   "source": [
    "summary(res) #summary of results"
   ]
  },
  {
   "cell_type": "code",
   "execution_count": null,
   "metadata": {},
   "outputs": [],
   "source": [
    "res[res$pvalue < 0.05,]"
   ]
  },
  {
   "cell_type": "code",
   "execution_count": null,
   "metadata": {},
   "outputs": [],
   "source": [
    "res[res$pvalue < 0.1,]"
   ]
  },
  {
   "cell_type": "code",
   "execution_count": null,
   "metadata": {},
   "outputs": [],
   "source": [
    "plotMA( res, ylim = c(-1, 1) )"
   ]
  },
  {
   "cell_type": "code",
   "execution_count": null,
   "metadata": {},
   "outputs": [],
   "source": [
    "plotMA( res, ylim = c(-2, 2) )"
   ]
  },
  {
   "cell_type": "code",
   "execution_count": null,
   "metadata": {},
   "outputs": [],
   "source": [
    "plotMA( res, ylim = c(-5, 5) )"
   ]
  },
  {
   "cell_type": "code",
   "execution_count": null,
   "metadata": {},
   "outputs": [],
   "source": [
    "plotDispEsts( dds, ylim = c(1e-6, 1e1) )"
   ]
  },
  {
   "cell_type": "code",
   "execution_count": null,
   "metadata": {},
   "outputs": [],
   "source": [
    "plotDispEsts( dds, ylim = c(1e-6, 1e4) )"
   ]
  },
  {
   "cell_type": "code",
   "execution_count": null,
   "metadata": {},
   "outputs": [],
   "source": [
    "hist( res$pvalue, breaks=20, col='grey' )"
   ]
  },
  {
   "cell_type": "code",
   "execution_count": null,
   "metadata": {},
   "outputs": [],
   "source": [
    "hist( res$padj, breaks=20, col='grey' )"
   ]
  },
  {
   "cell_type": "code",
   "execution_count": null,
   "metadata": {},
   "outputs": [],
   "source": [
    "res <- res[order(res$padj),]\n",
    "head(res)"
   ]
  },
  {
   "cell_type": "code",
   "execution_count": null,
   "metadata": {
    "scrolled": false
   },
   "outputs": [],
   "source": [
    "print('Looping over head 10 padj')\n",
    "for(gene in row.names(head(res[order(res$padj),],10))){\n",
    "  plotCounts(dds, gene=gene, intgroup='condition',\n",
    "    main=paste(gene,' - pval',res[gene,]$pvalue, 'padj',res[gene,]$padj, sep=' : '))\n",
    "}\n",
    "print('end loop over head 10')"
   ]
  },
  {
   "cell_type": "code",
   "execution_count": null,
   "metadata": {
    "scrolled": false
   },
   "outputs": [],
   "source": [
    "print('Looping over head 10 pvalue')\n",
    "for(gene in row.names(head(res[order(res$pvalue),],10))){\n",
    "  plotCounts(dds, gene=gene, intgroup='condition',\n",
    "    main=paste(gene,' - pval',res[gene,]$pvalue, 'padj',res[gene,]$padj, sep=' : '))\n",
    "}\n",
    "print('end loop over head 10')"
   ]
  },
  {
   "cell_type": "markdown",
   "metadata": {},
   "source": [
    "Make a basic volcano plot"
   ]
  },
  {
   "cell_type": "code",
   "execution_count": null,
   "metadata": {},
   "outputs": [],
   "source": [
    "with(res, plot(log2FoldChange, -log10(pvalue), pch=20, main='Volcano plot', xlim=c(-3,3)))"
   ]
  },
  {
   "cell_type": "code",
   "execution_count": null,
   "metadata": {},
   "outputs": [],
   "source": [
    "with(res, plot(log2FoldChange, -log10(pvalue), pch=20, main='Volcano plot', xlim=c(-3,3)))\n",
    "with(subset(res, padj<.01 ), points(log2FoldChange, -log10(pvalue), pch=20, col='blue'))\n",
    "with(subset(res, padj<.01 & abs(log2FoldChange)>2), points(log2FoldChange, -log10(pvalue), pch=20, col='red'))\n",
    "with(subset(res, padj<.001 ), points(log2FoldChange, -log10(pvalue), pch=20, col='green'))\n",
    "with(subset(res, padj<.001 & abs(log2FoldChange)>2), points(log2FoldChange, -log10(pvalue), pch=20, col='yellow'))\n",
    "legend('topright',\n",
    "  legend=c('All','padj<0.01','padj<0.01 & abs>2','padj<0.001','padj<0.001 & abs>2'),\n",
    "  col=c('black','blue','red','green','yellow'),\n",
    "  pch = 20,\n",
    "  lty=1:2, cex=0.8)"
   ]
  },
  {
   "cell_type": "code",
   "execution_count": null,
   "metadata": {},
   "outputs": [],
   "source": [
    "rld <- rlog(dds)"
   ]
  },
  {
   "cell_type": "code",
   "execution_count": null,
   "metadata": {},
   "outputs": [],
   "source": [
    "plotPCA(rld, intgroup=c( 'condition' ))"
   ]
  },
  {
   "cell_type": "markdown",
   "metadata": {},
   "source": [
    "also possible to perform custom transformation:\n",
    "estimateSizeFactors"
   ]
  },
  {
   "cell_type": "code",
   "execution_count": null,
   "metadata": {},
   "outputs": [],
   "source": [
    "dds"
   ]
  },
  {
   "cell_type": "code",
   "execution_count": null,
   "metadata": {},
   "outputs": [],
   "source": [
    "# don't think that this needs to be explicitly called\n",
    "#dds <- estimateSizeFactors(dds) # why do I keep running this? (too many cut-n-paste tutorials)"
   ]
  },
  {
   "cell_type": "code",
   "execution_count": null,
   "metadata": {},
   "outputs": [],
   "source": [
    "dds"
   ]
  },
  {
   "cell_type": "markdown",
   "metadata": {},
   "source": [
    "shifted log of normalized counts\n",
    "SummarizedExperiment"
   ]
  },
  {
   "cell_type": "code",
   "execution_count": null,
   "metadata": {},
   "outputs": [],
   "source": [
    "se <- SummarizedExperiment(log2(counts(dds, normalized=TRUE) + 1), colData=colData(dds))"
   ]
  },
  {
   "cell_type": "markdown",
   "metadata": {},
   "source": [
    "the call to DESeqTransform() is needed to\n",
    "trigger our plotPCA method.\n",
    "plotPCA"
   ]
  },
  {
   "cell_type": "code",
   "execution_count": null,
   "metadata": {},
   "outputs": [],
   "source": [
    "plotPCA( DESeqTransform( se ), intgroup=c( 'condition' ) )"
   ]
  },
  {
   "cell_type": "markdown",
   "metadata": {},
   "source": [
    "Concentration of counts over total sum of counts\n",
    "estimateSizeFactors"
   ]
  },
  {
   "cell_type": "code",
   "execution_count": null,
   "metadata": {},
   "outputs": [],
   "source": [
    "# don't think that this needs to be explicitly called\n",
    "#dds <- estimateSizeFactors(dds) # why do I keep running this?"
   ]
  },
  {
   "cell_type": "code",
   "execution_count": null,
   "metadata": {},
   "outputs": [],
   "source": [
    "plotSparsity(dds)"
   ]
  },
  {
   "cell_type": "markdown",
   "metadata": {},
   "source": [
    "Cluster Dendrogram\n",
    "varianceStabilizingTransformation"
   ]
  },
  {
   "cell_type": "code",
   "execution_count": null,
   "metadata": {},
   "outputs": [],
   "source": [
    "vsd <- varianceStabilizingTransformation(dds)"
   ]
  },
  {
   "cell_type": "code",
   "execution_count": null,
   "metadata": {},
   "outputs": [],
   "source": [
    "dists <- dist(t(assay(vsd)))"
   ]
  },
  {
   "cell_type": "code",
   "execution_count": null,
   "metadata": {},
   "outputs": [],
   "source": [
    "head(dists)"
   ]
  },
  {
   "cell_type": "code",
   "execution_count": null,
   "metadata": {},
   "outputs": [],
   "source": [
    "plot(hclust(dists))"
   ]
  },
  {
   "cell_type": "code",
   "execution_count": null,
   "metadata": {},
   "outputs": [],
   "source": [
    "plotDispEsts(dds, main='Dispersion plot')"
   ]
  },
  {
   "cell_type": "markdown",
   "metadata": {},
   "source": [
    "Regularized log transformation for clustering/heatmaps, etc"
   ]
  },
  {
   "cell_type": "code",
   "execution_count": null,
   "metadata": {},
   "outputs": [],
   "source": [
    "rld <- rlogTransformation(dds)\n",
    "head(assay(rld))"
   ]
  },
  {
   "cell_type": "code",
   "execution_count": null,
   "metadata": {},
   "outputs": [],
   "source": [
    "hist(assay(rld))\n",
    "# Colors for plots below\n",
    "## Ugly:\n",
    "## (mycols <- 1:length(unique(condition)))\n",
    "## Use RColorBrewer, better"
   ]
  },
  {
   "cell_type": "code",
   "execution_count": null,
   "metadata": {},
   "outputs": [],
   "source": [
    "library(RColorBrewer)\n",
    "# Why wrapped in (parentheses)?\n",
    "(mycols <- brewer.pal(8, 'Dark2')[1:length(unique(condition))])"
   ]
  },
  {
   "cell_type": "markdown",
   "metadata": {},
   "source": [
    "Sample distance heatmap"
   ]
  },
  {
   "cell_type": "code",
   "execution_count": null,
   "metadata": {},
   "outputs": [],
   "source": [
    "sampleDists <- as.matrix(dist(t(assay(rld))))\n",
    "library(gplots)"
   ]
  },
  {
   "cell_type": "code",
   "execution_count": null,
   "metadata": {},
   "outputs": [],
   "source": [
    "heatmap.2(as.matrix(sampleDists), key=F, trace='none',\n",
    "  col=colorpanel(100, 'black', 'white'),\n",
    "  ColSideColors=mycols[condition], RowSideColors=mycols[condition],\n",
    "  margin=c(10, 10), main='Sample Distance Matrix')"
   ]
  },
  {
   "cell_type": "markdown",
   "metadata": {},
   "source": [
    "Principal components analysis\n",
    "Could do with built-in DESeq2 function:\n",
    "DESeq2::plotPCA(rld, intgroup='condition')\n",
    "I like mine better:\n",
    "define rld_pca"
   ]
  },
  {
   "cell_type": "code",
   "execution_count": null,
   "metadata": {},
   "outputs": [],
   "source": [
    "rld_pca <- function (rld, intgroup = 'condition', ntop = 500, colors=NULL,\n",
    "    legendpos='bottomleft', main='PCA Biplot', textcx=1, ...) {\n",
    "  require(genefilter)\n",
    "  require(calibrate)\n",
    "  require(RColorBrewer)\n",
    "  rv = rowVars(assay(rld))\n",
    "  select = order(rv, decreasing = TRUE)[seq_len(min(ntop, length(rv)))]\n",
    "  pca = prcomp(t(assay(rld)[select, ]))\n",
    "  fac = factor(apply(as.data.frame(colData(rld)[, intgroup, drop = FALSE]), 1, paste, collapse = ' : '))\n",
    "  if (is.null(colors)) {\n",
    "    if (nlevels(fac) >= 3) {\n",
    "      colors = brewer.pal(nlevels(fac), 'Paired')\n",
    "    } else {\n",
    "      colors = c('black', 'red')\n",
    "    }\n",
    "  }\n",
    "  pc1var <- round(summary(pca)$importance[2,1]*100, digits=1)\n",
    "  pc2var <- round(summary(pca)$importance[2,2]*100, digits=1)\n",
    "  pc1lab <- paste0('PC1 (',as.character(pc1var),'%)')\n",
    "  pc2lab <- paste0('PC1 (',as.character(pc2var),'%)')\n",
    "  plot(PC2~PC1, data=as.data.frame(pca$x), bg=colors[fac], pch=21, xlab=pc1lab, ylab=pc2lab, main=main, ...)\n",
    "  with(as.data.frame(pca$x), textxy(PC1, PC2, labs=rownames(as.data.frame(pca$x)), cex=textcx))\n",
    "  legend(legendpos, legend=levels(fac), col=colors, pch=20)\n",
    "  #     rldyplot(PC2 ~ PC1, groups = fac, data = as.data.frame(pca$rld),\n",
    "  #            pch = 16, cerld = 2, aspect = 'iso', col = colours, main = draw.key(key = list(rect = list(col = colours),\n",
    "  #                                                                                         terldt = list(levels(fac)), rep = FALSE)))\n",
    "}"
   ]
  },
  {
   "cell_type": "code",
   "execution_count": null,
   "metadata": {},
   "outputs": [],
   "source": [
    "rld_pca(rld, colors=mycols, intgroup='condition', xlim=c(-75, 35))"
   ]
  },
  {
   "cell_type": "markdown",
   "metadata": {},
   "source": [
    "Get differential expression results"
   ]
  },
  {
   "cell_type": "code",
   "execution_count": null,
   "metadata": {},
   "outputs": [],
   "source": [
    "res <- results(dds)\n",
    "table(res$padj<0.05)"
   ]
  },
  {
   "cell_type": "markdown",
   "metadata": {},
   "source": [
    "Order by adjusted p-value"
   ]
  },
  {
   "cell_type": "code",
   "execution_count": null,
   "metadata": {},
   "outputs": [],
   "source": [
    "res <- res[order(res$padj), ]"
   ]
  },
  {
   "cell_type": "markdown",
   "metadata": {},
   "source": [
    "Merge with normalized count data"
   ]
  },
  {
   "cell_type": "code",
   "execution_count": null,
   "metadata": {},
   "outputs": [],
   "source": [
    "resdata <- merge(as.data.frame(res), as.data.frame(counts(dds, normalized=TRUE)), by='row.names', sort=FALSE)"
   ]
  },
  {
   "cell_type": "code",
   "execution_count": null,
   "metadata": {},
   "outputs": [],
   "source": [
    "names(resdata)[1] <- 'Gene'"
   ]
  },
  {
   "cell_type": "code",
   "execution_count": null,
   "metadata": {},
   "outputs": [],
   "source": [
    "head(resdata)"
   ]
  },
  {
   "cell_type": "code",
   "execution_count": null,
   "metadata": {},
   "outputs": [],
   "source": [
    "## Write results\n",
    "#print('write csv')\n",
    "#write.csv(resdata, file=paste0(opt$featureCounts,'.deseq.diffexpr-results.csv'))"
   ]
  },
  {
   "cell_type": "markdown",
   "metadata": {},
   "source": [
    "Examine plot of p-values\n",
    "hist"
   ]
  },
  {
   "cell_type": "code",
   "execution_count": null,
   "metadata": {},
   "outputs": [],
   "source": [
    "hist(res$pvalue, breaks=50, col='grey')"
   ]
  },
  {
   "cell_type": "markdown",
   "metadata": {},
   "source": [
    "Examine independent filtering\n",
    "attr filterThreshold"
   ]
  },
  {
   "cell_type": "code",
   "execution_count": null,
   "metadata": {},
   "outputs": [],
   "source": [
    "attr(res, 'filterThreshold')"
   ]
  },
  {
   "cell_type": "markdown",
   "metadata": {},
   "source": [
    "MA plot\n",
    "Could do with built-in DESeq2 function:\n",
    "DESeq2::plotMA(dds, ylim=c(-1,1), cex=1)\n",
    "I like mine better:\n",
    "define mplot"
   ]
  },
  {
   "cell_type": "code",
   "execution_count": null,
   "metadata": {},
   "outputs": [],
   "source": [
    "maplot <- function (res, thresh=0.05, labelsig=TRUE, textcx=1, ...) {\n",
    "  with(res, plot(baseMean, log2FoldChange, pch=20, cex=.5, log='x', ...))\n",
    "  with(subset(res, padj<thresh), points(baseMean, log2FoldChange, col='red', pch=20, cex=1.5))\n",
    "  if (labelsig) {\n",
    "    require(calibrate)\n",
    "    with(subset(res, padj<thresh), textxy(baseMean, log2FoldChange, labs=Gene, cex=textcx, col=2))\n",
    "  }\n",
    "}"
   ]
  },
  {
   "cell_type": "code",
   "execution_count": null,
   "metadata": {},
   "outputs": [],
   "source": [
    "maplot(resdata, main='MA Plot')"
   ]
  },
  {
   "cell_type": "markdown",
   "metadata": {},
   "source": [
    "Volcano plot with 'significant' genes labeled\n",
    "define volcanoplot"
   ]
  },
  {
   "cell_type": "code",
   "execution_count": null,
   "metadata": {},
   "outputs": [],
   "source": [
    "volcanoplot <- function (res, lfcthresh=2, sigthresh=0.05, main='Volcano Plot',\n",
    "    legendpos='bottomright', labelsig=TRUE, textcx=1, ...) {\n",
    "  with(res, plot(log2FoldChange, -log10(pvalue), pch=20, main=main, ...))\n",
    "  with(subset(res, padj<sigthresh ), points(log2FoldChange,\n",
    "    -log10(pvalue), pch=20, col='red', ...))\n",
    "  with(subset(res, abs(log2FoldChange)>lfcthresh), points(log2FoldChange,\n",
    "    -log10(pvalue), pch=20, col='orange', ...))\n",
    "  with(subset(res, padj<sigthresh & abs(log2FoldChange)>lfcthresh),\n",
    "    points(log2FoldChange, -log10(pvalue), pch=20, col='green', ...))\n",
    "  if (labelsig) {\n",
    "    require(calibrate)\n",
    "    with(subset(res, padj<sigthresh & abs(log2FoldChange)>lfcthresh),\n",
    "      textxy(log2FoldChange, -log10(pvalue), labs=Gene, cex=textcx, ...))\n",
    "  }\n",
    "  legend(legendpos, xjust=1, yjust=1,\n",
    "    legend=c(paste('FDR<',sigthresh,sep=''),\n",
    "    paste('|LogFC|>',lfcthresh,sep=''), 'both'),\n",
    "    pch=20, col=c('red','orange','green'))\n",
    "}"
   ]
  },
  {
   "cell_type": "code",
   "execution_count": null,
   "metadata": {},
   "outputs": [],
   "source": [
    "volcanoplot(resdata, lfcthresh=1, sigthresh=0.05, textcx=.8, xlim=c(-2.3, 2))"
   ]
  },
  {
   "cell_type": "code",
   "execution_count": null,
   "metadata": {},
   "outputs": [],
   "source": []
  },
  {
   "cell_type": "code",
   "execution_count": null,
   "metadata": {},
   "outputs": [],
   "source": [
    "# don't think that this needs to be explicitly called\n",
    "#dds <- estimateSizeFactors ( dds ) # sequencing depth normalization between the samples\n",
    "#dds <- estimateDispersions ( dds ) # gene - wise dispersion estimates across all samples\n",
    "dds <- nbinomWaldTest ( dds ) # this fits a negative binomial GLM and applies Wald statistics to each gene"
   ]
  },
  {
   "cell_type": "code",
   "execution_count": null,
   "metadata": {},
   "outputs": [],
   "source": [
    "dds.results <- results( dds , independentFiltering = TRUE , alpha = 0.05)\n",
    "summary ( dds.results )"
   ]
  },
  {
   "cell_type": "code",
   "execution_count": null,
   "metadata": {},
   "outputs": [],
   "source": [
    "# the DESeqResult object can basically be handled like a data . frame\n",
    "head ( dds.results )"
   ]
  },
  {
   "cell_type": "code",
   "execution_count": null,
   "metadata": {},
   "outputs": [],
   "source": [
    "table ( dds.results $ padj < 0.05)"
   ]
  },
  {
   "cell_type": "code",
   "execution_count": null,
   "metadata": {},
   "outputs": [],
   "source": [
    "rownames ( subset ( dds.results , padj < 0.05) )"
   ]
  },
  {
   "cell_type": "code",
   "execution_count": null,
   "metadata": {},
   "outputs": [],
   "source": [
    "hist ( dds.results$pvalue ,\n",
    "  col='grey', border='white', xlab='', ylab='',\n",
    "  main='frequencies of p-values' )"
   ]
  },
  {
   "cell_type": "code",
   "execution_count": null,
   "metadata": {},
   "outputs": [],
   "source": [
    "# plotMA ( dds.results , alpha = 0.05 , main = \"WT vs. SNF2 mutants\", ylim = c( -4 ,4) )"
   ]
  },
  {
   "cell_type": "code",
   "execution_count": null,
   "metadata": {},
   "outputs": [],
   "source": [
    "# load the library with the aheatmap () function\n",
    "library ( NMF )\n",
    "\n",
    "# aheatmap needs a matrix of values , e.g. , a matrix of DE genes with the transformed read counts for each replicate\n",
    "# sort the results according to the adjusted p- value\n",
    "dds.results.sorted <- dds.results [ order ( dds.results$padj ) , ]\n",
    "\n",
    "# identify genes with the desired adjusted p- value cut -off\n",
    "DGEgenes <- rownames ( subset ( dds.results.sorted , padj < 0.05) )\n",
    "\n",
    "# extract the normalized read counts for DE genes into a matrix\n",
    "hm.mat_DGEgenes <- log.norm.counts [ DGEgenes , ]\n",
    "\n",
    "# plot the normalized read counts of DE genes sorted by the adjusted p- value\n",
    "#aheatmap ( hm.mat_DGEgenes , Rowv = NA , Colv = NA )\n",
    "\n",
    "#Error in dimnames(x) <- dn: length of 'dimnames' [1] not equal to array extent\n",
    "#Traceback:\n",
    "#1. aheatmap(hm.mat_DGEgenes, Rowv = NA, Colv = NA)\n",
    "#2. `rownames<-`(`*tmp*`, value = generate_dimnames(labRow, nrow(mat), \n",
    "# .     rownames(mat)))\n",
    "\n",
    "# combine the heatmap with hierarchical clustering\n",
    "#aheatmap ( hm.mat_DGEgenes ,\n",
    "#  Rowv = TRUE , Colv = TRUE , # add dendrograms to rows and columns\n",
    "#  distfun = \"euclidean\" , hclustfun = \"average\" )\n",
    "\n",
    "# scale the read counts per gene to emphasize the sample -type - specific differences\n",
    "#aheatmap ( hm.mat_DGEgenes ,\n",
    "#  Rowv = TRUE , Colv = TRUE ,\n",
    "#  distfun = \"euclidean\" , hclustfun = \"average\" ,\n",
    "#  scale = \"row\" )\n",
    "# values are transformed into distances from the center of the row - specific average : ( actual value - mean of the group ) / standard deviation"
   ]
  }
 ],
 "metadata": {
  "kernelspec": {
   "display_name": "R",
   "language": "R",
   "name": "ir"
  },
  "language_info": {
   "codemirror_mode": "r",
   "file_extension": ".r",
   "mimetype": "text/x-r-source",
   "name": "R",
   "pygments_lexer": "r",
   "version": "3.6.1"
  }
 },
 "nbformat": 4,
 "nbformat_minor": 2
}
