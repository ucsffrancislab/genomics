{
 "metadata": {
  "kernelspec": {
   "display_name": "R",
   "language": "R",
   "name": "ir"
  },
  "language_info": {
   "codemirror_mode": "r",
   "file_extension": ".r",
   "mimetype": "text/x-r-source",
   "name": "R",
   "pygments_lexer": "r",
   "version": "3.4.3"
  }
 },
 "nbformat": 4,
 "nbformat_minor": 2,
 "cells": [
   { "cell_type": "code", "execution_count": null, "metadata": {}, "outputs": [], "source": [
      "options(repr.plot.width=16, repr.plot.height=9)"
   ] }, { "cell_type": "code", "execution_count": null, "metadata": {}, "outputs": [], "source": [
     "featureCounts='/francislab/data1/raw/20191008_Stanford71/trimmed/unpaired/subread-rna.hsa.featureCounts.miRNA_primary_transcript.csv'\n",
     "metadata='/francislab/data1/raw/20191008_Stanford71/metadata.csv'"
   ] }, { "cell_type": "code", "execution_count": null, "metadata": {}, "outputs": [], "source": [
     "countdata <- read.table(featureCounts, header=TRUE, row.names=1)"
   ] }, { "cell_type": "markdown", "metadata": {}, "source": [
     "Remove first five columns (chr, start, end, strand, length)\n",
     "#df = subset(df, select=-c(Chr,Start,End,Strand,Length))"
   ] }, { "cell_type": "code", "execution_count": null, "metadata": {}, "outputs": [], "source": [
     "countdata <- countdata[ ,6:ncol(countdata)]"
   ] }, { "cell_type": "code", "execution_count": null, "metadata": {}, "outputs": [], "source": [
     "countdata <- as.matrix(countdata)\n",
     "head(countdata)"
   ] }, { "cell_type": "code", "execution_count": null, "metadata": {}, "outputs": [], "source": [
     "casecontrol <- read.table(metadata, header=TRUE, row.names=1, sep=',')"
   ] }, { "cell_type": "markdown", "metadata": {}, "source": [
     "expecting comma separated, 2 column csf with id and cc columns"
   ] }, { "cell_type": "code", "execution_count": null, "metadata": {}, "outputs": [], "source": [
     "condition <- casecontrol$cc"
   ] }, { "cell_type": "markdown", "metadata": {}, "source": [
     "Analysis with DESeq2 ----------------------------------------------------"
   ] }, { "cell_type": "code", "execution_count": null, "metadata": {}, "outputs": [], "source": [
     "library(DESeq2)"
   ] }, { "cell_type": "markdown", "metadata": {}, "source": [
     "Create a coldata frame and instantiate the DESeqDataSet. See ?DESeqDataSetFromMatrix"
   ] }, { "cell_type": "code", "execution_count": null, "metadata": {}, "outputs": [], "source": [
     "(coldata <- data.frame(row.names=colnames(countdata), condition))\n",
     "dds <- DESeqDataSetFromMatrix(countData=countdata, colData=coldata, design=~condition)\n",
     "dds"
   ] }, { "cell_type": "markdown", "metadata": {}, "source": [
     "Run the DESeq pipeline"
   ] }, { "cell_type": "code", "execution_count": null, "metadata": {}, "outputs": [], "source": [
     "dds <- DESeq(dds)"
   ] }, { "cell_type": "markdown", "metadata": {}, "source": [
     "20191220 - From Intro to DGE Analysis\n",
     "remove genes without any counts"
   ] }, { "cell_type": "code", "execution_count": null, "metadata": {}, "outputs": [], "source": [
     "dds <- dds[rowSums(counts(dds)) > 0,]"
   ] }, { "cell_type": "markdown", "metadata": {}, "source": [
     "NORMALIZE"
   ] }, { "cell_type": "code", "execution_count": null, "metadata": {}, "outputs": [], "source": [
     "dds <- estimateSizeFactors(dds)"
   ] }, { "cell_type": "code", "execution_count": null, "metadata": {}, "outputs": [], "source": [
     "sizeFactors(dds)"
   ] }, { "cell_type": "code", "execution_count": null, "metadata": {}, "outputs": [], "source": [
     "counts.sf_normalized <- counts(dds, normalized=TRUE)"
   ] }, { "cell_type": "code", "execution_count": null, "metadata": {}, "outputs": [], "source": [
     "log.norm.counts <- log2(counts.sf_normalized + 1)"
   ] }, { "cell_type": "code", "execution_count": null, "metadata": {}, "outputs": [], "source": [
     "par(mfrow=c(2,1))"
   ] }, { "cell_type": "markdown", "metadata": {}, "source": [
     "print('boxplot(counts.sf_normalized')"
   ] }, { "cell_type": "code", "execution_count": null, "metadata": {}, "outputs": [], "source": [
     "boxplot(counts.sf_normalized, notch=TRUE,\n",
     "  main='untransformed read counts', ylab='read counts')"
   ] }, { "cell_type": "markdown", "metadata": {}, "source": [
     "print('boxplot(log.norm.counts')"
   ] }, { "cell_type": "code", "execution_count": null, "metadata": {}, "outputs": [], "source": [
     "boxplot(log.norm.counts, notch=TRUE,\n",
     "  main='log2-transformed read counts',\n",
     "  ylab='log2(read counts)')"
   ] }, { "cell_type": "markdown", "metadata": {}, "source": [
     "print('plot(log.norm.counts[,1:2]')"
   ] }, { "cell_type": "code", "execution_count": null, "metadata": {}, "outputs": [], "source": [
     "plot(log.norm.counts[,1:2], cex=.1, main='Normalized log2(read counts)')"
   ] }, { "cell_type": "code", "execution_count": null, "metadata": {}, "outputs": [], "source": [
     "library ( vsn )\n",
     "library ( ggplot2 )"
   ] }, { "cell_type": "markdown", "metadata": {}, "source": [
     "meanSdPlot(log.norm.counts')"
   ] }, { "cell_type": "code", "execution_count": null, "metadata": {}, "outputs": [], "source": [
     "msd_plot<-meanSdPlot(log.norm.counts,ranks=FALSE,plot=FALSE)\n",
     "msd_plot$gg+ggtitle('sequencing depth normalized log2(read counts)')+ylab('standard deviation')"
   ] }, { "cell_type": "code", "execution_count": null, "metadata": {}, "outputs": [], "source": [
     "dds.rlog<-rlog(dds,blind=TRUE)\n",
     "rlog.norm.counts<-assay(dds.rlog)"
   ] }, { "cell_type": "markdown", "metadata": {}, "source": [
     "# mean-sd plot for rlog - transformed data\n",
     "print('meanSdPlot(rlog.norm.counts')"
   ] }, { "cell_type": "code", "execution_count": null, "metadata": {}, "outputs": [], "source": [
     "msd_plot<-meanSdPlot(rlog.norm.counts,ranks=FALSE,plot=FALSE)\n",
     "msd_plot$gg+ggtitle('rlog-transformed read counts')+ylab('standard deviation')\n",
     "# cor () calculates the correlation between columns of a matrix"
   ] }, { "cell_type": "code", "execution_count": null, "metadata": {}, "outputs": [], "source": [
     "distance.m_rlog<-as.dist(1-cor(rlog.norm.counts,method='pearson'))"
   ] }, { "cell_type": "markdown", "metadata": {}, "source": [
     "# plot () can directly interpret the output of hclust ()\n",
     "print('plot(hclust(distance.m_rlog)')"
   ] }, { "cell_type": "code", "execution_count": null, "metadata": {}, "outputs": [], "source": [
     "plot(hclust(distance.m_rlog),\n",
     "  labels=colnames(rlog.norm.counts),\n",
     "  main='rlog transformed read counts\ndistance : Pearson correlation')"
   ] }, { "cell_type": "code", "execution_count": null, "metadata": {}, "outputs": [], "source": [
     "pc<-prcomp(t(rlog.norm.counts))"
   ] }, { "cell_type": "markdown", "metadata": {}, "source": [
     "print('plot(pc$x[,1],pc$x[,2],')"
   ] }, { "cell_type": "code", "execution_count": null, "metadata": {}, "outputs": [], "source": [
     "plot(pc$x[,1],pc$x[,2],\n",
     "  col=colData(dds)[,1],\n",
     "  main='PCA of seq.depth normalized\nand rlog-transformed read counts')"
   ] }, { "cell_type": "markdown", "metadata": {}, "source": [
     "# PCA\n",
     "print('plotPCA')"
   ] }, { "cell_type": "code", "execution_count": null, "metadata": {}, "outputs": [], "source": [
     "P<-plotPCA(dds.rlog)\n",
     "P<-P+theme_bw()+ggtitle('Rlog transformed counts')\n",
     "print(P)"
   ] }, { "cell_type": "markdown", "metadata": {}, "source": [
     "#  reset par"
   ] }, { "cell_type": "code", "execution_count": null, "metadata": {}, "outputs": [], "source": [
     "par(mfrow=c(1,1))"
   ] }, { "cell_type": "markdown", "metadata": {}, "source": [
     "##################################################"
   ] }, { "cell_type": "code", "execution_count": null, "metadata": {}, "outputs": [], "source": [
     "res <- results(dds)\n",
     "head(results(dds, tidy=TRUE))"
   ] }, { "cell_type": "code", "execution_count": null, "metadata": {}, "outputs": [], "source": [
     "summary(res) #summary of results"
   ] }, { "cell_type": "markdown", "metadata": {}, "source": [
     "print('plotMA')"
   ] }, { "cell_type": "code", "execution_count": null, "metadata": {}, "outputs": [], "source": [
     "plotMA( res, ylim = c(-1, 1) )"
   ] }, { "cell_type": "code", "execution_count": null, "metadata": {}, "outputs": [], "source": [
     "plotMA( res, ylim = c(-2, 2) )"
   ] }, { "cell_type": "code", "execution_count": null, "metadata": {}, "outputs": [], "source": [
     "plotMA( res, ylim = c(-5, 5) )"
   ] }, { "cell_type": "markdown", "metadata": {}, "source": [
     "print('plotDispEsts')"
   ] }, { "cell_type": "code", "execution_count": null, "metadata": {}, "outputs": [], "source": [
     "plotDispEsts( dds, ylim = c(1e-6, 1e1) )"
   ] }, { "cell_type": "code", "execution_count": null, "metadata": {}, "outputs": [], "source": [
     "plotDispEsts( dds, ylim = c(1e-6, 1e4) )"
   ] }, { "cell_type": "markdown", "metadata": {}, "source": [
     "print('hist pvalue')"
   ] }, { "cell_type": "code", "execution_count": null, "metadata": {}, "outputs": [], "source": [
     "hist( res$pvalue, breaks=20, col='grey' )"
   ] }, { "cell_type": "markdown", "metadata": {}, "source": [
     "print('hist padj')"
   ] }, { "cell_type": "code", "execution_count": null, "metadata": {}, "outputs": [], "source": [
     "hist( res$padj, breaks=20, col='grey' )"
   ] }, { "cell_type": "markdown", "metadata": {}, "source": [
     "print('res')"
   ] }, { "cell_type": "code", "execution_count": null, "metadata": {}, "outputs": [], "source": [
     "res <- res[order(res$padj),]\n",
     "head(res)"
   ] }, { "cell_type": "markdown", "metadata": {}, "source": [
     "#par(mfrow=c(2,3))"
   ] }, { "cell_type": "code", "execution_count": null, "metadata": {}, "outputs": [], "source": [
     "print('Looping over head 10')\n",
     "for(gene in row.names(head(res,10))){\n",
     "  print(gene)\n",
     "  #print(plotCounts(dds, gene=gene, intgroup='cc'))\n",
     "  print(plotCounts(dds, gene=gene, intgroup='condition'))\n",
     "}\n",
     "print('end loop over head 10')"
   ] }, { "cell_type": "markdown", "metadata": {}, "source": [
     "#  Not sure if this is sorted in the correct order"
   ] }, { "cell_type": "code", "execution_count": null, "metadata": {}, "outputs": [], "source": [
     "print('Looping over tail 10')\n",
     "for(gene in row.names(tail(res,10))){\n",
     "  print(gene)\n",
     "  #print(plotCounts(dds, gene=gene, intgroup='cc'))\n",
     "  print(plotCounts(dds, gene=gene, intgroup='condition'))\n",
     "}\n",
     "print('end loop over tail 10')\n",
     "#reset par\n",
     "#par(mfrow=c(1,1))"
   ] }, { "cell_type": "markdown", "metadata": {}, "source": [
     "# Make a basic volcano plot"
   ] }, { "cell_type": "code", "execution_count": null, "metadata": {}, "outputs": [], "source": [
     "with(res, plot(log2FoldChange, -log10(pvalue), pch=20, main='Volcano plot', xlim=c(-3,3)))\n",
     "# Add colored points: blue if padj<0.01, red if log2FC>1 and padj<0.05)"
   ] }, { "cell_type": "code", "execution_count": null, "metadata": {}, "outputs": [], "source": [
     "with(subset(res, padj<.01 ), points(log2FoldChange, -log10(pvalue), pch=20, col='blue'))\n",
     "with(subset(res, padj<.01 & abs(log2FoldChange)>2), points(log2FoldChange, -log10(pvalue), pch=20, col='red'))\n",
     "with(subset(res, padj<.001 ), points(log2FoldChange, -log10(pvalue), pch=20, col='green'))\n",
     "with(subset(res, padj<.001 & abs(log2FoldChange)>2), points(log2FoldChange, -log10(pvalue), pch=20, col='yellow'))\n",
     "legend('topright',\n",
     "  legend=c('All','padj<0.01','padj<0.01 & abs>2','padj<0.001','padj<0.001 & abs>2'),\n",
     "  col=c('black','blue','red','green','yellow'),\n",
     "  pch = 20,\n",
     "  lty=1:2, cex=0.8)"
   ] }, { "cell_type": "markdown", "metadata": {}, "source": [
     "print('rlog')"
   ] }, { "cell_type": "code", "execution_count": null, "metadata": {}, "outputs": [], "source": [
     "rld <- rlog(dds)"
   ] }, { "cell_type": "markdown", "metadata": {}, "source": [
     "print('plotPCA')"
   ] }, { "cell_type": "code", "execution_count": null, "metadata": {}, "outputs": [], "source": [
     "plotPCA(rld, intgroup=c( 'condition' ))"
   ] }, { "cell_type": "markdown", "metadata": {}, "source": [
     "# also possible to perform custom transformation:\n",
     "print('estimateSizeFactors')"
   ] }, { "cell_type": "code", "execution_count": null, "metadata": {}, "outputs": [], "source": [
     "dds <- estimateSizeFactors(dds)"
   ] }, { "cell_type": "markdown", "metadata": {}, "source": [
     "# shifted log of normalized counts\n",
     "print('SummarizedExperiment')"
   ] }, { "cell_type": "code", "execution_count": null, "metadata": {}, "outputs": [], "source": [
     "se <- SummarizedExperiment(log2(counts(dds, normalized=TRUE) + 1), colData=colData(dds))"
   ] }, { "cell_type": "markdown", "metadata": {}, "source": [
     "# the call to DESeqTransform() is needed to\n",
     "# trigger our plotPCA method.\n",
     "print('plotPCA')"
   ] }, { "cell_type": "code", "execution_count": null, "metadata": {}, "outputs": [], "source": [
     "plotPCA( DESeqTransform( se ), intgroup=c( 'condition' ) )"
   ] }, { "cell_type": "markdown", "metadata": {}, "source": [
     "#  Concentration of counts over total sum of counts\n",
     "print('estimateSizeFactors')"
   ] }, { "cell_type": "code", "execution_count": null, "metadata": {}, "outputs": [], "source": [
     "dds <- estimateSizeFactors(dds)"
   ] }, { "cell_type": "markdown", "metadata": {}, "source": [
     "print('plotSparsity')"
   ] }, { "cell_type": "code", "execution_count": null, "metadata": {}, "outputs": [], "source": [
     "plotSparsity(dds)"
   ] }, { "cell_type": "markdown", "metadata": {}, "source": [
     "#  Cluster Dendrogram\n",
     "print('varianceStabilizingTransformation')"
   ] }, { "cell_type": "code", "execution_count": null, "metadata": {}, "outputs": [], "source": [
     "vsd <- varianceStabilizingTransformation(dds)"
   ] }, { "cell_type": "markdown", "metadata": {}, "source": [
     "print('dist(t(assay(vsd)))')"
   ] }, { "cell_type": "code", "execution_count": null, "metadata": {}, "outputs": [], "source": [
     "dists <- dist(t(assay(vsd)))"
   ] }, { "cell_type": "markdown", "metadata": {}, "source": [
     "print('plot(hclust(dists))')"
   ] }, { "cell_type": "code", "execution_count": null, "metadata": {}, "outputs": [], "source": [
     "plot(hclust(dists))"
   ] }, { "cell_type": "markdown", "metadata": {}, "source": [
     "# Plot dispersions\n",
     "print('plotDispEsts')"
   ] }, { "cell_type": "code", "execution_count": null, "metadata": {}, "outputs": [], "source": [
     "plotDispEsts(dds, main='Dispersion plot')"
   ] }, { "cell_type": "markdown", "metadata": {}, "source": [
     "# Regularized log transformation for clustering/heatmaps, etc"
   ] }, { "cell_type": "code", "execution_count": null, "metadata": {}, "outputs": [], "source": [
     "rld <- rlogTransformation(dds)\n",
     "head(assay(rld))"
   ] }, { "cell_type": "code", "execution_count": null, "metadata": {}, "outputs": [], "source": [
     "hist(assay(rld))\n",
     "# Colors for plots below\n",
     "## Ugly:\n",
     "## (mycols <- 1:length(unique(condition)))\n",
     "## Use RColorBrewer, better"
   ] }, { "cell_type": "code", "execution_count": null, "metadata": {}, "outputs": [], "source": [
     "library(RColorBrewer)\n",
     "(mycols <- brewer.pal(8, 'Dark2')[1:length(unique(condition))])"
   ] }, { "cell_type": "markdown", "metadata": {}, "source": [
     "# Sample distance heatmap"
   ] }, { "cell_type": "code", "execution_count": null, "metadata": {}, "outputs": [], "source": [
     "sampleDists <- as.matrix(dist(t(assay(rld))))\n",
     "library(gplots)\n",
     "print('heatmap.2')"
   ] }, { "cell_type": "code", "execution_count": null, "metadata": {}, "outputs": [], "source": [
     "heatmap.2(as.matrix(sampleDists), key=F, trace='none',\n",
     "  col=colorpanel(100, 'black', 'white'),\n",
     "  ColSideColors=mycols[condition], RowSideColors=mycols[condition],\n",
     "  margin=c(10, 10), main='Sample Distance Matrix')"
   ] }, { "cell_type": "markdown", "metadata": {}, "source": [
     "# Principal components analysis\n",
     "## Could do with built-in DESeq2 function:\n",
     "## DESeq2::plotPCA(rld, intgroup='condition')\n",
     "## I like mine better:\n",
     "print('define rld_pca')"
   ] }, { "cell_type": "code", "execution_count": null, "metadata": {}, "outputs": [], "source": [
     "rld_pca <- function (rld, intgroup = 'condition', ntop = 500, colors=NULL,\n",
     "    legendpos='bottomleft', main='PCA Biplot', textcx=1, ...) {\n",
     "  require(genefilter)\n",
     "  require(calibrate)\n",
     "  require(RColorBrewer)\n",
     "  rv = rowVars(assay(rld))\n",
     "  select = order(rv, decreasing = TRUE)[seq_len(min(ntop, length(rv)))]\n",
     "  pca = prcomp(t(assay(rld)[select, ]))\n",
     "  fac = factor(apply(as.data.frame(colData(rld)[, intgroup, drop = FALSE]), 1, paste, collapse = ' : '))\n",
     "  if (is.null(colors)) {\n",
     "    if (nlevels(fac) >= 3) {\n",
     "      colors = brewer.pal(nlevels(fac), 'Paired')\n",
     "    } else {\n",
     "      colors = c('black', 'red')\n",
     "    }\n",
     "  }\n",
     "  pc1var <- round(summary(pca)$importance[2,1]*100, digits=1)\n",
     "  pc2var <- round(summary(pca)$importance[2,2]*100, digits=1)\n",
     "  pc1lab <- paste0('PC1 (',as.character(pc1var),'%)')\n",
     "  pc2lab <- paste0('PC1 (',as.character(pc2var),'%)')\n",
     "  plot(PC2~PC1, data=as.data.frame(pca$x), bg=colors[fac], pch=21, xlab=pc1lab, ylab=pc2lab, main=main, ...)\n",
     "  with(as.data.frame(pca$x), textxy(PC1, PC2, labs=rownames(as.data.frame(pca$x)), cex=textcx))\n",
     "  legend(legendpos, legend=levels(fac), col=colors, pch=20)\n",
     "  #     rldyplot(PC2 ~ PC1, groups = fac, data = as.data.frame(pca$rld),\n",
     "  #            pch = 16, cerld = 2, aspect = 'iso', col = colours, main = draw.key(key = list(rect = list(col = colours),\n",
     "  #                                                                                         terldt = list(levels(fac)), rep = FALSE)))\n",
     "}"
   ] }, { "cell_type": "markdown", "metadata": {}, "source": [
     "print('rld_pca')"
   ] }, { "cell_type": "code", "execution_count": null, "metadata": {}, "outputs": [], "source": [
     "rld_pca(rld, colors=mycols, intgroup='condition', xlim=c(-75, 35))"
   ] }, { "cell_type": "markdown", "metadata": {}, "source": [
     "# Get differential expression results"
   ] }, { "cell_type": "code", "execution_count": null, "metadata": {}, "outputs": [], "source": [
     "res <- results(dds)\n",
     "table(res$padj<0.05)"
   ] }, { "cell_type": "markdown", "metadata": {}, "source": [
     "## Order by adjusted p-value"
   ] }, { "cell_type": "code", "execution_count": null, "metadata": {}, "outputs": [], "source": [
     "res <- res[order(res$padj), ]"
   ] }, { "cell_type": "markdown", "metadata": {}, "source": [
     "## Merge with normalized count data"
   ] }, { "cell_type": "code", "execution_count": null, "metadata": {}, "outputs": [], "source": [
     "resdata <- merge(as.data.frame(res), as.data.frame(counts(dds, normalized=TRUE)), by='row.names', sort=FALSE)\n",
     "names(resdata)[1] <- 'Gene'\n",
     "head(resdata)\n",
     "## Write results\n",
     "#print('write csv')\n",
     "#write.csv(resdata, file=paste0(opt$featureCounts,'.deseq.diffexpr-results.csv'))"
   ] }, { "cell_type": "markdown", "metadata": {}, "source": [
     "## Examine plot of p-values\n",
     "print('hist')"
   ] }, { "cell_type": "code", "execution_count": null, "metadata": {}, "outputs": [], "source": [
     "hist(res$pvalue, breaks=50, col='grey')"
   ] }, { "cell_type": "markdown", "metadata": {}, "source": [
     "## Examine independent filtering\n",
     "print('attr filterThreshold')"
   ] }, { "cell_type": "code", "execution_count": null, "metadata": {}, "outputs": [], "source": [
     "attr(res, 'filterThreshold')"
   ] }, { "cell_type": "markdown", "metadata": {}, "source": [
     "## MA plot\n",
     "## Could do with built-in DESeq2 function:\n",
     "## DESeq2::plotMA(dds, ylim=c(-1,1), cex=1)\n",
     "## I like mine better:\n",
     "print('define mplot')"
   ] }, { "cell_type": "code", "execution_count": null, "metadata": {}, "outputs": [], "source": [
     "maplot <- function (res, thresh=0.05, labelsig=TRUE, textcx=1, ...) {\n",
     "  with(res, plot(baseMean, log2FoldChange, pch=20, cex=.5, log='x', ...))\n",
     "  with(subset(res, padj<thresh), points(baseMean, log2FoldChange, col='red', pch=20, cex=1.5))\n",
     "  if (labelsig) {\n",
     "    require(calibrate)\n",
     "    with(subset(res, padj<thresh), textxy(baseMean, log2FoldChange, labs=Gene, cex=textcx, col=2))\n",
     "  }\n",
     "}"
   ] }, { "cell_type": "markdown", "metadata": {}, "source": [
     "print('maplot')"
   ] }, { "cell_type": "code", "execution_count": null, "metadata": {}, "outputs": [], "source": [
     "maplot(resdata, main='MA Plot')"
   ] }, { "cell_type": "markdown", "metadata": {}, "source": [
     "## Volcano plot with 'significant' genes labeled\n",
     "print('define volcanoplot')"
   ] }, { "cell_type": "code", "execution_count": null, "metadata": {}, "outputs": [], "source": [
     "volcanoplot <- function (res, lfcthresh=2, sigthresh=0.05, main='Volcano Plot',\n",
     "    legendpos='bottomright', labelsig=TRUE, textcx=1, ...) {\n",
     "  with(res, plot(log2FoldChange, -log10(pvalue), pch=20, main=main, ...))\n",
     "  with(subset(res, padj<sigthresh ), points(log2FoldChange,\n",
     "    -log10(pvalue), pch=20, col='red', ...))\n",
     "  with(subset(res, abs(log2FoldChange)>lfcthresh), points(log2FoldChange,\n",
     "    -log10(pvalue), pch=20, col='orange', ...))\n",
     "  with(subset(res, padj<sigthresh & abs(log2FoldChange)>lfcthresh),\n",
     "    points(log2FoldChange, -log10(pvalue), pch=20, col='green', ...))\n",
     "  if (labelsig) {\n",
     "    require(calibrate)\n",
     "    with(subset(res, padj<sigthresh & abs(log2FoldChange)>lfcthresh),\n",
     "      textxy(log2FoldChange, -log10(pvalue), labs=Gene, cex=textcx, ...))\n",
     "  }\n",
     "  legend(legendpos, xjust=1, yjust=1,\n",
     "    legend=c(paste('FDR<',sigthresh,sep=''),\n",
     "    paste('|LogFC|>',lfcthresh,sep=''), 'both'),\n",
     "    pch=20, col=c('red','orange','green'))\n",
     "}"
  ] }, { "cell_type": "markdown", "metadata": {}, "source": [
    "volcanoplot"
  ] }, { "cell_type": "code", "execution_count": null, "metadata": {}, "outputs": [], "source": [
    "volcanoplot(resdata, lfcthresh=1, sigthresh=0.05, textcx=.8, xlim=c(-2.3, 2))"
   ] }
 ]
}
