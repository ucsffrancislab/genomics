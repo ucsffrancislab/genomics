{
 "cells": [
  {
   "cell_type": "markdown",
   "metadata": {},
   "source": [
    "Based on tutorials like pachterlab-kallisto-sleuth-workshop-2016-e9cb2d3/sleuth.html\n",
    "\n",
    "https://pachterlab.github.io/sleuth_walkthroughs/trapnell/analysis.html\n",
    "\n",
    "https://pachterlab.github.io/sleuth_walkthroughs/pval_agg/analysis.html"
   ]
  },
  {
   "cell_type": "code",
   "execution_count": null,
   "metadata": {},
   "outputs": [],
   "source": [
    "options(repr.plot.width=16, repr.plot.height=9)"
   ]
  },
  {
   "cell_type": "code",
   "execution_count": null,
   "metadata": {},
   "outputs": [],
   "source": [
    "#path='/francislab/data1/raw/20191008_Stanford71/trimmed/unpaired'\n",
    "#metadata='/francislab/data1/raw/20191008_Stanford71/metadata.csv'\n",
    "#suffix='kallisto.single.hp_11'\n",
    "path=Sys.getenv('datapath')\n",
    "metadata=Sys.getenv('metadata')\n",
    "suffix=Sys.getenv('suffix')"
   ]
  },
  {
   "cell_type": "code",
   "execution_count": null,
   "metadata": {},
   "outputs": [],
   "source": [
    "print(path)"
   ]
  },
  {
   "cell_type": "code",
   "execution_count": null,
   "metadata": {},
   "outputs": [],
   "source": [
    "print(metadata)"
   ]
  },
  {
   "cell_type": "code",
   "execution_count": null,
   "metadata": {},
   "outputs": [],
   "source": [
    "print(suffix)"
   ]
  },
  {
   "cell_type": "markdown",
   "metadata": {},
   "source": [
    "First, we load the sleuth package. Next, we load cowplot which has some nice formatting modifications of the standard ggplot2 figures."
   ]
  },
  {
   "cell_type": "code",
   "execution_count": null,
   "metadata": {},
   "outputs": [],
   "source": [
    "library('sleuth')\n",
    "library('cowplot')\n",
    "library('ggplot2')"
   ]
  },
  {
   "cell_type": "code",
   "execution_count": null,
   "metadata": {},
   "outputs": [],
   "source": [
    "print(paste0('Processing ',suffix))"
   ]
  },
  {
   "cell_type": "markdown",
   "metadata": {},
   "source": [
    "Reading metadata"
   ]
  },
  {
   "cell_type": "code",
   "execution_count": null,
   "metadata": {},
   "outputs": [],
   "source": [
    "md <- read.table(metadata, sep=',',\n",
    "  header=TRUE,\n",
    "  stringsAsFactors = FALSE,\n",
    "  colClasses='character')\n",
    "head(md)"
   ]
  },
  {
   "cell_type": "markdown",
   "metadata": {},
   "source": [
    "Only want the 2 columns, but metadata file may contain more."
   ]
  },
  {
   "cell_type": "code",
   "execution_count": null,
   "metadata": {},
   "outputs": [],
   "source": [
    "md <- dplyr::select(md, c( 'id','cc') )\n",
    "head(md)"
   ]
  },
  {
   "cell_type": "markdown",
   "metadata": {},
   "source": [
    "Only non-empty rows ..."
   ]
  },
  {
   "cell_type": "code",
   "execution_count": null,
   "metadata": {},
   "outputs": [],
   "source": [
    "md[is.na(md)] <- 0\n",
    "head(md)"
   ]
  },
  {
   "cell_type": "code",
   "execution_count": null,
   "metadata": {},
   "outputs": [],
   "source": [
    "nrow(md)"
   ]
  },
  {
   "cell_type": "markdown",
   "metadata": {},
   "source": [
    "Rename \"id\" column to \"sample\"."
   ]
  },
  {
   "cell_type": "code",
   "execution_count": null,
   "metadata": {},
   "outputs": [],
   "source": [
    "md <- dplyr::rename(md, sample = id )\n",
    "head(md)"
   ]
  },
  {
   "cell_type": "markdown",
   "metadata": {},
   "source": [
    "Really could've / should've just had the metadata file like that."
   ]
  },
  {
   "cell_type": "markdown",
   "metadata": {},
   "source": [
    "Set paths to abundance files."
   ]
  },
  {
   "cell_type": "code",
   "execution_count": null,
   "metadata": {},
   "outputs": [],
   "source": [
    "md <- dplyr::mutate(md, path = file.path( paste0(path,'/',sample,'.',suffix), 'abundance.h5'))\n",
    "head(md)"
   ]
  },
  {
   "cell_type": "code",
   "execution_count": null,
   "metadata": {},
   "outputs": [],
   "source": [
    "#norm_factors(md)  # do or do not do???\n",
    "#head(md)\n",
    "#\n",
    "# Not sure why this errors. Wrong order?\n",
    "#\n",
    "#Error in round(row): non-numeric argument to mathematical function\n",
    "#Traceback:\n",
    "#1. norm_factors(metadata)\n",
    "#2. apply(mat, 1, function(row) !any(round(row) == 0))\n",
    "#3. FUN(newX[, i], ...)"
   ]
  },
  {
   "cell_type": "code",
   "execution_count": null,
   "metadata": {
    "scrolled": false
   },
   "outputs": [],
   "source": [
    "so <- sleuth_prep(md, extra_bootstrap_summary = TRUE)\n",
    "# so <- sleuth_prep(stc, ~tissue + center, target_mapping = ttg, max_bootstrap = 30)\n",
    "#head(so)  # do??"
   ]
  },
  {
   "cell_type": "code",
   "execution_count": null,
   "metadata": {},
   "outputs": [],
   "source": [
    "plot_pca(so, text_labels = TRUE, color_by = 'cc')"
   ]
  },
  {
   "cell_type": "markdown",
   "metadata": {},
   "source": [
    "Fitting full"
   ]
  },
  {
   "cell_type": "code",
   "execution_count": null,
   "metadata": {},
   "outputs": [],
   "source": [
    "so <- sleuth_fit(so, ~cc, 'full')"
   ]
  },
  {
   "cell_type": "markdown",
   "metadata": {},
   "source": [
    "Fitting reduced"
   ]
  },
  {
   "cell_type": "code",
   "execution_count": null,
   "metadata": {},
   "outputs": [],
   "source": [
    "so <- sleuth_fit(so, ~1, 'reduced')"
   ]
  },
  {
   "cell_type": "markdown",
   "metadata": {},
   "source": [
    "Performing likelihood ratio test"
   ]
  },
  {
   "cell_type": "code",
   "execution_count": null,
   "metadata": {},
   "outputs": [],
   "source": [
    "so <- sleuth_lrt(so, 'reduced', 'full')"
   ]
  },
  {
   "cell_type": "code",
   "execution_count": null,
   "metadata": {},
   "outputs": [],
   "source": [
    "models(so)"
   ]
  },
  {
   "cell_type": "code",
   "execution_count": null,
   "metadata": {},
   "outputs": [],
   "source": [
    "tests(so)"
   ]
  },
  {
   "cell_type": "markdown",
   "metadata": {},
   "source": [
    "Obtaining differential expression results"
   ]
  },
  {
   "cell_type": "code",
   "execution_count": null,
   "metadata": {},
   "outputs": [],
   "source": [
    "sleuth_table <- sleuth_results(so, 'reduced:full', 'lrt', show_all = FALSE)\n",
    "head(sleuth_table,20)"
   ]
  },
  {
   "cell_type": "code",
   "execution_count": null,
   "metadata": {},
   "outputs": [],
   "source": [
    "head(sleuth_table[order(sleuth_table$pval),],20)"
   ]
  },
  {
   "cell_type": "code",
   "execution_count": null,
   "metadata": {},
   "outputs": [],
   "source": [
    "sleuth_table_select <- dplyr::filter(sleuth_table, qval <= 0.05)\n",
    "head(sleuth_table_select,20)"
   ]
  },
  {
   "cell_type": "code",
   "execution_count": null,
   "metadata": {
    "scrolled": false
   },
   "outputs": [],
   "source": [
    "print('Looping over top 10')\n",
    "print(head(sleuth_table[order(sleuth_table$pval),],10)[['target_id']])\n",
    "for(ref in head(sleuth_table[order(sleuth_table$pval),],10)[['target_id']]){\n",
    "  l=sleuth_table[sleuth_table$target_id == ref, ]\n",
    "  #print(l$target_id)\n",
    "  #print(l$pval)\n",
    "  #print(l$qval)\n",
    "  p <- plot_bootstrap(so, ref, units = 'est_counts', color_by = 'cc') + \n",
    "   ggtitle(paste(ref,' - pval',l$pval, 'qval',l$qval, sep=' : ')) + \n",
    "   #labs(title = paste(ref,' - pval',l$pval, 'qval',l$qval, sep=' : ')) + \n",
    "   theme( plot.title = element_text( size=30, face='bold', hjust = 0.5 ) )\n",
    "  print(p)\n",
    "}\n",
    "print('end loop over top 10')"
   ]
  },
  {
   "cell_type": "code",
   "execution_count": null,
   "metadata": {},
   "outputs": [],
   "source": [
    "plot_pca(so, color_by = 'cc')"
   ]
  },
  {
   "cell_type": "code",
   "execution_count": null,
   "metadata": {},
   "outputs": [],
   "source": [
    "plot_pca(so, text_labels = TRUE, color_by = 'cc')"
   ]
  },
  {
   "cell_type": "code",
   "execution_count": null,
   "metadata": {},
   "outputs": [],
   "source": [
    "plot_group_density(so, use_filtered = TRUE, units = \"est_counts\",\n",
    "  trans = \"log\", grouping = setdiff(colnames(so$sample_to_covariates),\n",
    "  \"sample\"), offset = 1)"
   ]
  },
  {
   "cell_type": "code",
   "execution_count": null,
   "metadata": {},
   "outputs": [],
   "source": [
    "\n",
    "#obj - a sleuth object\n",
    "#which_df - character vector of length one. Which type of data to use (\"obs_norm\" or \"obs_raw\")\n",
    "#which_units - character vector of length one. Which units to use (\"tpm\" or \"est_counts\")\n",
    "\n",
    "sm <- sleuth_to_matrix(so, 'obs_norm', 'est_counts')\n",
    "head(sm)"
   ]
  },
  {
   "cell_type": "code",
   "execution_count": null,
   "metadata": {},
   "outputs": [],
   "source": [
    "sm <- sleuth_to_matrix(so, 'obs_raw', 'est_counts')\n",
    "head(sm)"
   ]
  },
  {
   "cell_type": "code",
   "execution_count": null,
   "metadata": {},
   "outputs": [],
   "source": [
    "sm <- sleuth_to_matrix(so, 'obs_norm', 'tpm')\n",
    "head(sm)"
   ]
  },
  {
   "cell_type": "code",
   "execution_count": null,
   "metadata": {},
   "outputs": [],
   "source": [
    "sm <- sleuth_to_matrix(so, 'obs_raw', 'tpm')\n",
    "head(sm)"
   ]
  },
  {
   "cell_type": "code",
   "execution_count": null,
   "metadata": {},
   "outputs": [],
   "source": [
    "sm <- sleuth_to_matrix(so, 'obs_norm', 'est_counts')\n",
    "pc<-prcomp(t(sm)) #$data))"
   ]
  },
  {
   "cell_type": "code",
   "execution_count": null,
   "metadata": {},
   "outputs": [],
   "source": [
    "head(pc$x[,1])"
   ]
  },
  {
   "cell_type": "code",
   "execution_count": null,
   "metadata": {},
   "outputs": [],
   "source": [
    "md$cc"
   ]
  },
  {
   "cell_type": "code",
   "execution_count": null,
   "metadata": {},
   "outputs": [],
   "source": [
    "md$colors = 'Red'\n",
    "head(md$colors)"
   ]
  },
  {
   "cell_type": "code",
   "execution_count": null,
   "metadata": {},
   "outputs": [],
   "source": [
    "md$colors[md$cc == 'Case'] = 'Blue'\n",
    "head(md$colors)"
   ]
  },
  {
   "cell_type": "code",
   "execution_count": null,
   "metadata": {
    "scrolled": false
   },
   "outputs": [],
   "source": [
    "plot(pc$x[,1],pc$x[,2],\n",
    "  col=md$colors,\n",
    "  main='PCA of normalized and est counts')"
   ]
  },
  {
   "cell_type": "markdown",
   "metadata": {},
   "source": [
    "\n",
    "From https://www.biostars.org/p/282685\n"
   ]
  },
  {
   "cell_type": "code",
   "execution_count": null,
   "metadata": {},
   "outputs": [],
   "source": [
    "project.pca <- pc #prcomp(t(MyReadCountMatrix))"
   ]
  },
  {
   "cell_type": "code",
   "execution_count": null,
   "metadata": {},
   "outputs": [],
   "source": [
    "summary(project.pca)"
   ]
  },
  {
   "cell_type": "code",
   "execution_count": null,
   "metadata": {},
   "outputs": [],
   "source": [
    "#Determine the proportion of variance of each component\n",
    "#Proportion of variance equals (PC stdev^2) / (sum all PCs stdev^2)\n",
    "project.pca.proportionvariances <- ((project.pca$sdev^2) / (sum(project.pca$sdev^2)))*100"
   ]
  },
  {
   "cell_type": "code",
   "execution_count": null,
   "metadata": {},
   "outputs": [],
   "source": [
    "barplot(project.pca.proportionvariances, \n",
    "        cex.names=1, \n",
    "        xlab=paste(\"Principal component (PC), 1-\", length(project.pca$sdev)), \n",
    "        ylab=\"Proportion of variation (%)\", \n",
    "        main=\"Scree plot\", \n",
    "        ylim=c(0,100))"
   ]
  },
  {
   "cell_type": "code",
   "execution_count": null,
   "metadata": {},
   "outputs": [],
   "source": [
    "par(cex=1.0, cex.axis=0.8, cex.main=0.8)\n",
    "pairs(project.pca$x[,1:5], col=md$colors, \n",
    "      main=\"Principal components analysis bi-plot\\nPCs 1-5\", pch=16)\n",
    "pairs(project.pca$x[,6:10], col=md$colors, \n",
    "      main=\"Principal components analysis bi-plot\\nPCs 6-10\", pch=16)"
   ]
  },
  {
   "cell_type": "code",
   "execution_count": null,
   "metadata": {},
   "outputs": [],
   "source": [
    "par(mar=c(4,4,4,4), mfrow=c(1,3), cex=1.0, cex.main=0.8, cex.axis=0.8)\n",
    "\n",
    "#Plots scatter plot for PC 1 and 2\n",
    "plot(project.pca$x, type=\"n\", \n",
    "     main=\"Principal components analysis bi-plot\", \n",
    "     xlab=paste(\"PC1, \", round(project.pca.proportionvariances[1], 2), \"%\"), \n",
    "     ylab=paste(\"PC2, \", round(project.pca.proportionvariances[2], 2), \"%\"))\n",
    "points(project.pca$x, col=md$colors, pch=16, cex=1)\n",
    "\n",
    "#Plots scatter plot for PC 1 and 3\n",
    "plot(project.pca$x[,1], project.pca$x[,3], type=\"n\", \n",
    "     main=\"Principal components analysis bi-plot\", \n",
    "     xlab=paste(\"PC1, \", round(project.pca.proportionvariances[1], 2), \"%\"), \n",
    "     ylab=paste(\"PC3, \", round(project.pca.proportionvariances[3], 2), \"%\"))\n",
    "points(project.pca$x[,1], project.pca$x[,3], \n",
    "       col=md$colors, pch=16, cex=1)\n",
    "\n",
    "#Plots scatter plot for PC 2 and 3\n",
    "plot(project.pca$x[,2], project.pca$x[,3], type=\"n\", \n",
    "     main=\"Principal components analysis bi-plot\", \n",
    "     xlab=paste(\"PC2, \", round(project.pca.proportionvariances[2], 2), \"%\"), \n",
    "     ylab=paste(\"PC3, \", round(project.pca.proportionvariances[3], 2), \"%\"))\n",
    "points(project.pca$x[,2], project.pca$x[,3],\n",
    "       col=md$colors, pch=16, cex=1)"
   ]
  },
  {
   "cell_type": "code",
   "execution_count": null,
   "metadata": {},
   "outputs": [],
   "source": []
  }
 ],
 "metadata": {
  "kernelspec": {
   "display_name": "R",
   "language": "R",
   "name": "ir"
  },
  "language_info": {
   "codemirror_mode": "r",
   "file_extension": ".r",
   "mimetype": "text/x-r-source",
   "name": "R",
   "pygments_lexer": "r",
   "version": "3.6.1"
  }
 },
 "nbformat": 4,
 "nbformat_minor": 2
}
