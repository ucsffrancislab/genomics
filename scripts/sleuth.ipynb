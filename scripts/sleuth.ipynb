{
 "metadata": {
  "kernelspec": {
   "display_name": "R",
   "language": "R",
   "name": "ir"
  },
  "language_info": {
   "codemirror_mode": "r",
   "file_extension": ".r",
   "mimetype": "text/x-r-source",
   "name": "R",
   "pygments_lexer": "r",
   "version": "3.4.3"
  }
 },
 "nbformat": 4,
 "nbformat_minor": 2,
 "cells": [
   { "cell_type": "code", "execution_count": null, "metadata": {}, "outputs": [], "source": [
      "options(repr.plot.width=16, repr.plot.height=9)"
   ] }, { "cell_type": "code", "execution_count": null, "metadata": {}, "outputs": [], "source": [
     "path='/francislab/data1/raw/20191008_Stanford71/trimmed/unpaired'\n",
     "metadata='/francislab/data1/raw/20191008_Stanford71/metadata.csv'\n",
     "suffix='kallisto.single.hp_11'"
   ] }, { "cell_type": "code", "execution_count": null, "metadata": {}, "outputs": [], "source": [
     "library('cowplot')\n",
     "library('sleuth')\n",
     "#options(bitmapType='cairo')# need in notebook?\n",
     "#options(bitmapType='Xlib')"
   ] }, { "cell_type": "code", "execution_count": null, "metadata": {}, "outputs": [], "source": [
     "print(paste0('Processing ',suffix))"
   ] }, { "cell_type": "markdown", "metadata": {}, "source": [
     "Reading metadata"
   ] }, { "cell_type": "code", "execution_count": null, "metadata": {}, "outputs": [], "source": [
     "metadata <- read.table(metadata, sep=',',\n",
     "  header=TRUE,\n",
     "  stringsAsFactors = FALSE,\n",
     "  colClasses='character')"
   ] }, { "cell_type": "code", "execution_count": null, "metadata": {}, "outputs": [], "source": [
     "metadata <- dplyr::select(metadata, c( 'id','cc') )\n",
     "head(metadata)"
   ] }, { "cell_type": "code", "execution_count": null, "metadata": {}, "outputs": [], "source": [
     "metadata[is.na(metadata)] <- 0\n",
     "head(metadata)"
   ] }, { "cell_type": "code", "execution_count": null, "metadata": {}, "outputs": [], "source": [
     "metadata <- dplyr::rename(metadata, sample = id )\n",
     "head(metadata)"
   ] }, { "cell_type": "code", "execution_count": null, "metadata": {}, "outputs": [], "source": [
     "metadata <- dplyr::mutate(metadata, path = file.path( paste0(path,'/',sample,'.',suffix), 'abundance.h5'))\n",
     "head(metadata)"
   ] }, { "cell_type": "code", "execution_count": null, "metadata": {}, "outputs": [], "source": [
     "#norm_factors(metadata)  # do or do not do???\n",
     "#head(metadata)\n",
     "#Error in round(row): non-numeric argument to mathematical function\n",
     "#Traceback:\n",
     "#1. norm_factors(metadata)\n",
     "#2. apply(mat, 1, function(row) !any(round(row) == 0))\n",
     "#3. FUN(newX[, i], ...)"
   ] }, { "cell_type": "code", "execution_count": null, "metadata": {}, "outputs": [], "source": [
     "so <- sleuth_prep(metadata, extra_bootstrap_summary = TRUE)\n",
     "head(so)  # do??"
   ] }, { "cell_type": "markdown", "metadata": {}, "source": [
     "Fitting full"
   ] }, { "cell_type": "code", "execution_count": null, "metadata": {}, "outputs": [], "source": [
     "so <- sleuth_fit(so, ~cc, 'full')"
   ] }, { "cell_type": "markdown", "metadata": {}, "source": [
     "Fitting reduced"
   ] }, { "cell_type": "code", "execution_count": null, "metadata": {}, "outputs": [], "source": [
     "so <- sleuth_fit(so, ~1, 'reduced')"
   ] }, { "cell_type": "markdown", "metadata": {}, "source": [
     "Performing likelihood ratio test"
   ] }, { "cell_type": "code", "execution_count": null, "metadata": {}, "outputs": [], "source": [
     "so <- sleuth_lrt(so, 'reduced', 'full')"
   ] }, { "cell_type": "markdown", "metadata": {}, "source": [
     "models(so)",
   ] }, { "cell_type": "code", "execution_count": null, "metadata": {}, "outputs": [], "source": [
     "models(so)"
   ] }, { "cell_type": "markdown", "metadata": {}, "source": [
     "tests(so)",
   ] }, { "cell_type": "code", "execution_count": null, "metadata": {}, "outputs": [], "source": [
     "tests(so)"
   ] }, { "cell_type": "markdown", "metadata": {}, "source": [
     "Obtaining differential expression results"
   ] }, { "cell_type": "code", "execution_count": null, "metadata": {}, "outputs": [], "source": [
     "sleuth_table <- sleuth_results(so, 'reduced:full', 'lrt', show_all = FALSE)\n",
     "head(sleuth_table,20)"
   ] }, { "cell_type": "markdown", "metadata": {}, "source": [
     "head(sleuth_table[order(sleuth_table$pval),],20)",
   ] }, { "cell_type": "code", "execution_count": null, "metadata": {}, "outputs": [], "source": [
     "head(sleuth_table[order(sleuth_table$pval),],20)"
   ] }, { "cell_type": "code", "execution_count": null, "metadata": {}, "outputs": [], "source": [
     "sleuth_table_select <- dplyr::filter(sleuth_table, qval <= 0.05)\n",
     "head(sleuth_table_select,20)"
   ] }, { "cell_type": "code", "execution_count": null, "metadata": {}, "outputs": [], "source": [
     "print('Looping over top 10')\n",
     "print(head(sleuth_table[order(sleuth_table$pval),],10)[['target_id']])\n",
     "for(ref in head(sleuth_table[order(sleuth_table$pval),],10)[['target_id']]){\n",
     "  print(ref)\n",
     "  print(plot_bootstrap(so, ref, units = 'est_counts', color_by = 'cc'))\n",
     "}\n",
     "print('end loop over top 10')"
   ] }, { "cell_type": "markdown", "metadata": {}, "source": [
     "plot_pca(so, color_by = 'cc')",
   ] }, { "cell_type": "code", "execution_count": null, "metadata": {}, "outputs": [], "source": [
     "plot_pca(so, color_by = 'cc')"
   ] }, { "cell_type": "markdown", "metadata": {}, "source": [
     "plot_pca(so, text_labels = TRUE, color_by = 'cc')",
   ] }, { "cell_type": "code", "execution_count": null, "metadata": {}, "outputs": [], "source": [
     "plot_pca(so, text_labels = TRUE, color_by = 'cc')"
   ] }
 ]
}
