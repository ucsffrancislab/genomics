{
 "cells": [
  {
   "cell_type": "markdown",
   "metadata": {},
   "source": [
    "Based on tutorials like pachterlab-kallisto-sleuth-workshop-2016-e9cb2d3/sleuth.html\n",
    "\n",
    "https://pachterlab.github.io/sleuth_walkthroughs/trapnell/analysis.html\n",
    "\n",
    "https://pachterlab.github.io/sleuth_walkthroughs/pval_agg/analysis.html"
   ]
  },
  {
   "cell_type": "code",
   "execution_count": null,
   "metadata": {},
   "outputs": [],
   "source": [
    "options(repr.plot.width=16, repr.plot.height=9)"
   ]
  },
  {
   "cell_type": "code",
   "execution_count": null,
   "metadata": {},
   "outputs": [],
   "source": [
    "path='/francislab/data1/raw/20191008_Stanford71/trimmed/unpaired'\n",
    "metadata='/francislab/data1/raw/20191008_Stanford71/metadata.csv'\n",
    "suffix='kallisto.single.hp_11'"
   ]
  },
  {
   "cell_type": "markdown",
   "metadata": {},
   "source": [
    "First, we load the sleuth package. Next, we load cowplot which has some nice formatting modifications of the standard ggplot2 figures."
   ]
  },
  {
   "cell_type": "code",
   "execution_count": null,
   "metadata": {},
   "outputs": [],
   "source": [
    "library('sleuth')\n",
    "library('cowplot')"
   ]
  },
  {
   "cell_type": "code",
   "execution_count": null,
   "metadata": {},
   "outputs": [],
   "source": [
    "print(paste0('Processing ',suffix))"
   ]
  },
  {
   "cell_type": "markdown",
   "metadata": {},
   "source": [
    "Reading metadata"
   ]
  },
  {
   "cell_type": "code",
   "execution_count": null,
   "metadata": {},
   "outputs": [],
   "source": [
    "md <- read.table(metadata, sep=',',\n",
    "  header=TRUE,\n",
    "  stringsAsFactors = FALSE,\n",
    "  colClasses='character')\n",
    "head(md)"
   ]
  },
  {
   "cell_type": "markdown",
   "metadata": {},
   "source": [
    "Only want the 2 columns, but metadata file may contain more."
   ]
  },
  {
   "cell_type": "code",
   "execution_count": null,
   "metadata": {},
   "outputs": [],
   "source": [
    "md <- dplyr::select(md, c( 'id','cc') )\n",
    "head(md)"
   ]
  },
  {
   "cell_type": "markdown",
   "metadata": {},
   "source": [
    "Only non-empty rows ..."
   ]
  },
  {
   "cell_type": "code",
   "execution_count": null,
   "metadata": {},
   "outputs": [],
   "source": [
    "md[is.na(md)] <- 0\n",
    "head(md)"
   ]
  },
  {
   "cell_type": "code",
   "execution_count": null,
   "metadata": {},
   "outputs": [],
   "source": [
    "nrow(md)"
   ]
  },
  {
   "cell_type": "markdown",
   "metadata": {},
   "source": [
    "Rename \"id\" column to \"sample\"."
   ]
  },
  {
   "cell_type": "code",
   "execution_count": null,
   "metadata": {},
   "outputs": [],
   "source": [
    "md <- dplyr::rename(md, sample = id )\n",
    "head(md)"
   ]
  },
  {
   "cell_type": "markdown",
   "metadata": {},
   "source": [
    "Really could've / should've just had the metadata file like that."
   ]
  },
  {
   "cell_type": "markdown",
   "metadata": {},
   "source": [
    "Set paths to abundance files."
   ]
  },
  {
   "cell_type": "code",
   "execution_count": null,
   "metadata": {},
   "outputs": [],
   "source": [
    "md <- dplyr::mutate(md, path = file.path( paste0(path,'/',sample,'.',suffix), 'abundance.h5'))\n",
    "head(md)"
   ]
  },
  {
   "cell_type": "code",
   "execution_count": null,
   "metadata": {},
   "outputs": [],
   "source": [
    "#norm_factors(md)  # do or do not do???\n",
    "#head(md)\n",
    "#\n",
    "# Not sure why this errors. Wrong order?\n",
    "#\n",
    "#Error in round(row): non-numeric argument to mathematical function\n",
    "#Traceback:\n",
    "#1. norm_factors(metadata)\n",
    "#2. apply(mat, 1, function(row) !any(round(row) == 0))\n",
    "#3. FUN(newX[, i], ...)"
   ]
  },
  {
   "cell_type": "code",
   "execution_count": null,
   "metadata": {
    "scrolled": false
   },
   "outputs": [],
   "source": [
    "so <- sleuth_prep(md, extra_bootstrap_summary = TRUE)\n",
    "# so <- sleuth_prep(stc, ~tissue + center, target_mapping = ttg, max_bootstrap = 30)\n",
    "head(so)  # do??"
   ]
  },
  {
   "cell_type": "code",
   "execution_count": null,
   "metadata": {},
   "outputs": [],
   "source": [
    "plot_pca(so, text_labels = TRUE, color_by = 'cc')"
   ]
  },
  {
   "cell_type": "markdown",
   "metadata": {},
   "source": [
    "Fitting full"
   ]
  },
  {
   "cell_type": "code",
   "execution_count": null,
   "metadata": {},
   "outputs": [],
   "source": [
    "so <- sleuth_fit(so, ~cc, 'full')"
   ]
  },
  {
   "cell_type": "markdown",
   "metadata": {},
   "source": [
    "Fitting reduced"
   ]
  },
  {
   "cell_type": "code",
   "execution_count": null,
   "metadata": {},
   "outputs": [],
   "source": [
    "so <- sleuth_fit(so, ~1, 'reduced')"
   ]
  },
  {
   "cell_type": "markdown",
   "metadata": {},
   "source": [
    "Performing likelihood ratio test"
   ]
  },
  {
   "cell_type": "code",
   "execution_count": null,
   "metadata": {},
   "outputs": [],
   "source": [
    "so <- sleuth_lrt(so, 'reduced', 'full')"
   ]
  },
  {
   "cell_type": "code",
   "execution_count": null,
   "metadata": {},
   "outputs": [],
   "source": [
    "models(so)"
   ]
  },
  {
   "cell_type": "code",
   "execution_count": null,
   "metadata": {},
   "outputs": [],
   "source": [
    "tests(so)"
   ]
  },
  {
   "cell_type": "markdown",
   "metadata": {},
   "source": [
    "Obtaining differential expression results"
   ]
  },
  {
   "cell_type": "code",
   "execution_count": null,
   "metadata": {},
   "outputs": [],
   "source": [
    "sleuth_table <- sleuth_results(so, 'reduced:full', 'lrt', show_all = FALSE)\n",
    "head(sleuth_table,20)"
   ]
  },
  {
   "cell_type": "code",
   "execution_count": null,
   "metadata": {},
   "outputs": [],
   "source": [
    "head(sleuth_table[order(sleuth_table$pval),],20)"
   ]
  },
  {
   "cell_type": "code",
   "execution_count": null,
   "metadata": {},
   "outputs": [],
   "source": [
    "sleuth_table_select <- dplyr::filter(sleuth_table, qval <= 0.05)\n",
    "head(sleuth_table_select,20)"
   ]
  },
  {
   "cell_type": "code",
   "execution_count": null,
   "metadata": {
    "scrolled": false
   },
   "outputs": [],
   "source": [
    "print('Looping over top 10')\n",
    "print(head(sleuth_table[order(sleuth_table$pval),],10)[['target_id']])\n",
    "for(ref in head(sleuth_table[order(sleuth_table$pval),],10)[['target_id']]){\n",
    "  print(ref)\n",
    "  print(plot_bootstrap(so, ref, units = 'est_counts', color_by = 'cc'))\n",
    "}\n",
    "print('end loop over top 10')"
   ]
  },
  {
   "cell_type": "code",
   "execution_count": null,
   "metadata": {},
   "outputs": [],
   "source": [
    "plot_pca(so, color_by = 'cc')"
   ]
  },
  {
   "cell_type": "code",
   "execution_count": null,
   "metadata": {},
   "outputs": [],
   "source": [
    "plot_pca(so, text_labels = TRUE, color_by = 'cc')"
   ]
  },
  {
   "cell_type": "code",
   "execution_count": null,
   "metadata": {},
   "outputs": [],
   "source": [
    "plot_group_density(so, use_filtered = TRUE, units = \"est_counts\",\n",
    "  trans = \"log\", grouping = setdiff(colnames(so$sample_to_covariates),\n",
    "  \"sample\"), offset = 1)"
   ]
  }
 ],
 "metadata": {
  "kernelspec": {
   "display_name": "R",
   "language": "R",
   "name": "ir"
  },
  "language_info": {
   "codemirror_mode": "r",
   "file_extension": ".r",
   "mimetype": "text/x-r-source",
   "name": "R",
   "pygments_lexer": "r",
   "version": "3.6.1"
  }
 },
 "nbformat": 4,
 "nbformat_minor": 2
}
