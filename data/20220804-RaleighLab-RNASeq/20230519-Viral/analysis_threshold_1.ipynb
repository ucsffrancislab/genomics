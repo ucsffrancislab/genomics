{
 "cells": [
  {
   "cell_type": "code",
   "execution_count": 1,
   "id": "dfadb730",
   "metadata": {},
   "outputs": [],
   "source": [
    "import numpy as np"
   ]
  },
  {
   "cell_type": "code",
   "execution_count": 2,
   "id": "26f29e06",
   "metadata": {},
   "outputs": [],
   "source": [
    "import pandas as pd"
   ]
  },
  {
   "cell_type": "code",
   "execution_count": 3,
   "id": "eec51e0d",
   "metadata": {},
   "outputs": [],
   "source": [
    "import seaborn as sns"
   ]
  },
  {
   "cell_type": "code",
   "execution_count": null,
   "id": "24f2fbce",
   "metadata": {},
   "outputs": [],
   "source": []
  },
  {
   "cell_type": "code",
   "execution_count": 4,
   "id": "c92a8bfc",
   "metadata": {},
   "outputs": [],
   "source": [
    "# could be e2e_counts.tsv or local_counts.tsv\n",
    "viral_counts=pd.read_csv(\"local_counts.tsv\",sep=\"\\t\",index_col=[\"accession\"]) \n",
    "#viral_counts=pd.read_csv(\"e2e_counts.tsv\",sep=\"\\t\",index_col=[\"accession\"]) "
   ]
  },
  {
   "cell_type": "code",
   "execution_count": 5,
   "id": "92fe5147",
   "metadata": {},
   "outputs": [
    {
     "data": {
      "text/html": [
       "<div>\n",
       "<style scoped>\n",
       "    .dataframe tbody tr th:only-of-type {\n",
       "        vertical-align: middle;\n",
       "    }\n",
       "\n",
       "    .dataframe tbody tr th {\n",
       "        vertical-align: top;\n",
       "    }\n",
       "\n",
       "    .dataframe thead th {\n",
       "        text-align: right;\n",
       "    }\n",
       "</style>\n",
       "<table border=\"1\" class=\"dataframe\">\n",
       "  <thead>\n",
       "    <tr style=\"text-align: right;\">\n",
       "      <th></th>\n",
       "      <th>description</th>\n",
       "      <th>QM100</th>\n",
       "      <th>QM101</th>\n",
       "      <th>QM102</th>\n",
       "      <th>QM103</th>\n",
       "      <th>QM104</th>\n",
       "      <th>QM105</th>\n",
       "      <th>QM106</th>\n",
       "      <th>QM107</th>\n",
       "      <th>QM108</th>\n",
       "      <th>...</th>\n",
       "      <th>QM90</th>\n",
       "      <th>QM91</th>\n",
       "      <th>QM92</th>\n",
       "      <th>QM93</th>\n",
       "      <th>QM94</th>\n",
       "      <th>QM95</th>\n",
       "      <th>QM96</th>\n",
       "      <th>QM98</th>\n",
       "      <th>QM99</th>\n",
       "      <th>QM9</th>\n",
       "    </tr>\n",
       "    <tr>\n",
       "      <th>accession</th>\n",
       "      <th></th>\n",
       "      <th></th>\n",
       "      <th></th>\n",
       "      <th></th>\n",
       "      <th></th>\n",
       "      <th></th>\n",
       "      <th></th>\n",
       "      <th></th>\n",
       "      <th></th>\n",
       "      <th></th>\n",
       "      <th></th>\n",
       "      <th></th>\n",
       "      <th></th>\n",
       "      <th></th>\n",
       "      <th></th>\n",
       "      <th></th>\n",
       "      <th></th>\n",
       "      <th></th>\n",
       "      <th></th>\n",
       "      <th></th>\n",
       "      <th></th>\n",
       "    </tr>\n",
       "  </thead>\n",
       "  <tbody>\n",
       "    <tr>\n",
       "      <th>AC_000001.1</th>\n",
       "      <td>Ovine adenovirus A, complete genome</td>\n",
       "      <td>0</td>\n",
       "      <td>0</td>\n",
       "      <td>0</td>\n",
       "      <td>0</td>\n",
       "      <td>0</td>\n",
       "      <td>0</td>\n",
       "      <td>0</td>\n",
       "      <td>0</td>\n",
       "      <td>0</td>\n",
       "      <td>...</td>\n",
       "      <td>0</td>\n",
       "      <td>0</td>\n",
       "      <td>0</td>\n",
       "      <td>0</td>\n",
       "      <td>0</td>\n",
       "      <td>0</td>\n",
       "      <td>0</td>\n",
       "      <td>0</td>\n",
       "      <td>0</td>\n",
       "      <td>0</td>\n",
       "    </tr>\n",
       "    <tr>\n",
       "      <th>AC_000002.1</th>\n",
       "      <td>Bovine adenovirus B, complete genome</td>\n",
       "      <td>0</td>\n",
       "      <td>0</td>\n",
       "      <td>0</td>\n",
       "      <td>0</td>\n",
       "      <td>0</td>\n",
       "      <td>0</td>\n",
       "      <td>0</td>\n",
       "      <td>0</td>\n",
       "      <td>0</td>\n",
       "      <td>...</td>\n",
       "      <td>0</td>\n",
       "      <td>0</td>\n",
       "      <td>0</td>\n",
       "      <td>0</td>\n",
       "      <td>0</td>\n",
       "      <td>0</td>\n",
       "      <td>0</td>\n",
       "      <td>0</td>\n",
       "      <td>0</td>\n",
       "      <td>0</td>\n",
       "    </tr>\n",
       "    <tr>\n",
       "      <th>AC_000003.1</th>\n",
       "      <td>Canine adenovirus 1, complete genome</td>\n",
       "      <td>0</td>\n",
       "      <td>0</td>\n",
       "      <td>0</td>\n",
       "      <td>0</td>\n",
       "      <td>0</td>\n",
       "      <td>0</td>\n",
       "      <td>0</td>\n",
       "      <td>0</td>\n",
       "      <td>0</td>\n",
       "      <td>...</td>\n",
       "      <td>0</td>\n",
       "      <td>0</td>\n",
       "      <td>0</td>\n",
       "      <td>0</td>\n",
       "      <td>0</td>\n",
       "      <td>0</td>\n",
       "      <td>0</td>\n",
       "      <td>0</td>\n",
       "      <td>0</td>\n",
       "      <td>1</td>\n",
       "    </tr>\n",
       "    <tr>\n",
       "      <th>AC_000004.1</th>\n",
       "      <td>Duck adenovirus A, complete genome</td>\n",
       "      <td>0</td>\n",
       "      <td>0</td>\n",
       "      <td>0</td>\n",
       "      <td>0</td>\n",
       "      <td>0</td>\n",
       "      <td>0</td>\n",
       "      <td>0</td>\n",
       "      <td>0</td>\n",
       "      <td>0</td>\n",
       "      <td>...</td>\n",
       "      <td>0</td>\n",
       "      <td>0</td>\n",
       "      <td>0</td>\n",
       "      <td>0</td>\n",
       "      <td>0</td>\n",
       "      <td>0</td>\n",
       "      <td>0</td>\n",
       "      <td>0</td>\n",
       "      <td>0</td>\n",
       "      <td>0</td>\n",
       "    </tr>\n",
       "    <tr>\n",
       "      <th>AC_000005.1</th>\n",
       "      <td>Human mastadenovirus A, complete genome</td>\n",
       "      <td>0</td>\n",
       "      <td>0</td>\n",
       "      <td>0</td>\n",
       "      <td>0</td>\n",
       "      <td>0</td>\n",
       "      <td>0</td>\n",
       "      <td>0</td>\n",
       "      <td>0</td>\n",
       "      <td>0</td>\n",
       "      <td>...</td>\n",
       "      <td>0</td>\n",
       "      <td>0</td>\n",
       "      <td>0</td>\n",
       "      <td>0</td>\n",
       "      <td>0</td>\n",
       "      <td>0</td>\n",
       "      <td>0</td>\n",
       "      <td>0</td>\n",
       "      <td>0</td>\n",
       "      <td>0</td>\n",
       "    </tr>\n",
       "    <tr>\n",
       "      <th>...</th>\n",
       "      <td>...</td>\n",
       "      <td>...</td>\n",
       "      <td>...</td>\n",
       "      <td>...</td>\n",
       "      <td>...</td>\n",
       "      <td>...</td>\n",
       "      <td>...</td>\n",
       "      <td>...</td>\n",
       "      <td>...</td>\n",
       "      <td>...</td>\n",
       "      <td>...</td>\n",
       "      <td>...</td>\n",
       "      <td>...</td>\n",
       "      <td>...</td>\n",
       "      <td>...</td>\n",
       "      <td>...</td>\n",
       "      <td>...</td>\n",
       "      <td>...</td>\n",
       "      <td>...</td>\n",
       "      <td>...</td>\n",
       "      <td>...</td>\n",
       "    </tr>\n",
       "    <tr>\n",
       "      <th>NC_055918.1</th>\n",
       "      <td>Mycobacterium phage OhShagHennessy, complete g...</td>\n",
       "      <td>0</td>\n",
       "      <td>0</td>\n",
       "      <td>0</td>\n",
       "      <td>0</td>\n",
       "      <td>0</td>\n",
       "      <td>0</td>\n",
       "      <td>0</td>\n",
       "      <td>0</td>\n",
       "      <td>0</td>\n",
       "      <td>...</td>\n",
       "      <td>0</td>\n",
       "      <td>0</td>\n",
       "      <td>0</td>\n",
       "      <td>0</td>\n",
       "      <td>0</td>\n",
       "      <td>0</td>\n",
       "      <td>0</td>\n",
       "      <td>0</td>\n",
       "      <td>0</td>\n",
       "      <td>0</td>\n",
       "    </tr>\n",
       "    <tr>\n",
       "      <th>NC_055919.1</th>\n",
       "      <td>Klebsiella phage vB KpnP P184, complete genome</td>\n",
       "      <td>0</td>\n",
       "      <td>0</td>\n",
       "      <td>0</td>\n",
       "      <td>0</td>\n",
       "      <td>0</td>\n",
       "      <td>0</td>\n",
       "      <td>0</td>\n",
       "      <td>0</td>\n",
       "      <td>0</td>\n",
       "      <td>...</td>\n",
       "      <td>0</td>\n",
       "      <td>0</td>\n",
       "      <td>0</td>\n",
       "      <td>0</td>\n",
       "      <td>0</td>\n",
       "      <td>0</td>\n",
       "      <td>0</td>\n",
       "      <td>0</td>\n",
       "      <td>0</td>\n",
       "      <td>0</td>\n",
       "    </tr>\n",
       "    <tr>\n",
       "      <th>NC_055920.1</th>\n",
       "      <td>Gordonia phage Phlop, complete genome</td>\n",
       "      <td>0</td>\n",
       "      <td>0</td>\n",
       "      <td>0</td>\n",
       "      <td>0</td>\n",
       "      <td>0</td>\n",
       "      <td>0</td>\n",
       "      <td>0</td>\n",
       "      <td>0</td>\n",
       "      <td>0</td>\n",
       "      <td>...</td>\n",
       "      <td>0</td>\n",
       "      <td>0</td>\n",
       "      <td>0</td>\n",
       "      <td>0</td>\n",
       "      <td>0</td>\n",
       "      <td>0</td>\n",
       "      <td>0</td>\n",
       "      <td>0</td>\n",
       "      <td>0</td>\n",
       "      <td>0</td>\n",
       "    </tr>\n",
       "    <tr>\n",
       "      <th>NC_055921.1</th>\n",
       "      <td>Salmonella phage vB SalP TR2, complete genome</td>\n",
       "      <td>0</td>\n",
       "      <td>0</td>\n",
       "      <td>0</td>\n",
       "      <td>0</td>\n",
       "      <td>0</td>\n",
       "      <td>0</td>\n",
       "      <td>0</td>\n",
       "      <td>0</td>\n",
       "      <td>0</td>\n",
       "      <td>...</td>\n",
       "      <td>0</td>\n",
       "      <td>0</td>\n",
       "      <td>0</td>\n",
       "      <td>0</td>\n",
       "      <td>0</td>\n",
       "      <td>0</td>\n",
       "      <td>0</td>\n",
       "      <td>0</td>\n",
       "      <td>0</td>\n",
       "      <td>0</td>\n",
       "    </tr>\n",
       "    <tr>\n",
       "      <th>NC_056724.1</th>\n",
       "      <td>Lactococcus lactis phage BK5-T complete genome</td>\n",
       "      <td>0</td>\n",
       "      <td>0</td>\n",
       "      <td>0</td>\n",
       "      <td>0</td>\n",
       "      <td>0</td>\n",
       "      <td>0</td>\n",
       "      <td>0</td>\n",
       "      <td>0</td>\n",
       "      <td>0</td>\n",
       "      <td>...</td>\n",
       "      <td>0</td>\n",
       "      <td>0</td>\n",
       "      <td>0</td>\n",
       "      <td>0</td>\n",
       "      <td>0</td>\n",
       "      <td>1</td>\n",
       "      <td>0</td>\n",
       "      <td>0</td>\n",
       "      <td>0</td>\n",
       "      <td>1</td>\n",
       "    </tr>\n",
       "  </tbody>\n",
       "</table>\n",
       "<p>14721 rows × 303 columns</p>\n",
       "</div>"
      ],
      "text/plain": [
       "                                                   description  QM100  QM101  \\\n",
       "accession                                                                      \n",
       "AC_000001.1                Ovine adenovirus A, complete genome      0      0   \n",
       "AC_000002.1               Bovine adenovirus B, complete genome      0      0   \n",
       "AC_000003.1               Canine adenovirus 1, complete genome      0      0   \n",
       "AC_000004.1                 Duck adenovirus A, complete genome      0      0   \n",
       "AC_000005.1            Human mastadenovirus A, complete genome      0      0   \n",
       "...                                                        ...    ...    ...   \n",
       "NC_055918.1  Mycobacterium phage OhShagHennessy, complete g...      0      0   \n",
       "NC_055919.1     Klebsiella phage vB KpnP P184, complete genome      0      0   \n",
       "NC_055920.1              Gordonia phage Phlop, complete genome      0      0   \n",
       "NC_055921.1      Salmonella phage vB SalP TR2, complete genome      0      0   \n",
       "NC_056724.1     Lactococcus lactis phage BK5-T complete genome      0      0   \n",
       "\n",
       "             QM102  QM103  QM104  QM105  QM106  QM107  QM108  ...  QM90  QM91  \\\n",
       "accession                                                     ...               \n",
       "AC_000001.1      0      0      0      0      0      0      0  ...     0     0   \n",
       "AC_000002.1      0      0      0      0      0      0      0  ...     0     0   \n",
       "AC_000003.1      0      0      0      0      0      0      0  ...     0     0   \n",
       "AC_000004.1      0      0      0      0      0      0      0  ...     0     0   \n",
       "AC_000005.1      0      0      0      0      0      0      0  ...     0     0   \n",
       "...            ...    ...    ...    ...    ...    ...    ...  ...   ...   ...   \n",
       "NC_055918.1      0      0      0      0      0      0      0  ...     0     0   \n",
       "NC_055919.1      0      0      0      0      0      0      0  ...     0     0   \n",
       "NC_055920.1      0      0      0      0      0      0      0  ...     0     0   \n",
       "NC_055921.1      0      0      0      0      0      0      0  ...     0     0   \n",
       "NC_056724.1      0      0      0      0      0      0      0  ...     0     0   \n",
       "\n",
       "             QM92  QM93  QM94  QM95  QM96  QM98  QM99  QM9  \n",
       "accession                                                   \n",
       "AC_000001.1     0     0     0     0     0     0     0    0  \n",
       "AC_000002.1     0     0     0     0     0     0     0    0  \n",
       "AC_000003.1     0     0     0     0     0     0     0    1  \n",
       "AC_000004.1     0     0     0     0     0     0     0    0  \n",
       "AC_000005.1     0     0     0     0     0     0     0    0  \n",
       "...           ...   ...   ...   ...   ...   ...   ...  ...  \n",
       "NC_055918.1     0     0     0     0     0     0     0    0  \n",
       "NC_055919.1     0     0     0     0     0     0     0    0  \n",
       "NC_055920.1     0     0     0     0     0     0     0    0  \n",
       "NC_055921.1     0     0     0     0     0     0     0    0  \n",
       "NC_056724.1     0     0     0     1     0     0     0    1  \n",
       "\n",
       "[14721 rows x 303 columns]"
      ]
     },
     "execution_count": 5,
     "metadata": {},
     "output_type": "execute_result"
    }
   ],
   "source": [
    "viral_counts"
   ]
  },
  {
   "cell_type": "code",
   "execution_count": 6,
   "id": "0ef3693f",
   "metadata": {},
   "outputs": [],
   "source": [
    "sv40=viral_counts.loc[[\"NC_001669.1\"]]"
   ]
  },
  {
   "cell_type": "code",
   "execution_count": 7,
   "id": "0cac8371",
   "metadata": {},
   "outputs": [
    {
     "data": {
      "text/html": [
       "<div>\n",
       "<style scoped>\n",
       "    .dataframe tbody tr th:only-of-type {\n",
       "        vertical-align: middle;\n",
       "    }\n",
       "\n",
       "    .dataframe tbody tr th {\n",
       "        vertical-align: top;\n",
       "    }\n",
       "\n",
       "    .dataframe thead th {\n",
       "        text-align: right;\n",
       "    }\n",
       "</style>\n",
       "<table border=\"1\" class=\"dataframe\">\n",
       "  <thead>\n",
       "    <tr style=\"text-align: right;\">\n",
       "      <th></th>\n",
       "      <th>description</th>\n",
       "      <th>QM100</th>\n",
       "      <th>QM101</th>\n",
       "      <th>QM102</th>\n",
       "      <th>QM103</th>\n",
       "      <th>QM104</th>\n",
       "      <th>QM105</th>\n",
       "      <th>QM106</th>\n",
       "      <th>QM107</th>\n",
       "      <th>QM108</th>\n",
       "      <th>...</th>\n",
       "      <th>QM90</th>\n",
       "      <th>QM91</th>\n",
       "      <th>QM92</th>\n",
       "      <th>QM93</th>\n",
       "      <th>QM94</th>\n",
       "      <th>QM95</th>\n",
       "      <th>QM96</th>\n",
       "      <th>QM98</th>\n",
       "      <th>QM99</th>\n",
       "      <th>QM9</th>\n",
       "    </tr>\n",
       "    <tr>\n",
       "      <th>accession</th>\n",
       "      <th></th>\n",
       "      <th></th>\n",
       "      <th></th>\n",
       "      <th></th>\n",
       "      <th></th>\n",
       "      <th></th>\n",
       "      <th></th>\n",
       "      <th></th>\n",
       "      <th></th>\n",
       "      <th></th>\n",
       "      <th></th>\n",
       "      <th></th>\n",
       "      <th></th>\n",
       "      <th></th>\n",
       "      <th></th>\n",
       "      <th></th>\n",
       "      <th></th>\n",
       "      <th></th>\n",
       "      <th></th>\n",
       "      <th></th>\n",
       "      <th></th>\n",
       "    </tr>\n",
       "  </thead>\n",
       "  <tbody>\n",
       "    <tr>\n",
       "      <th>NC_001669.1</th>\n",
       "      <td>Simian virus 40 complete genome</td>\n",
       "      <td>0</td>\n",
       "      <td>0</td>\n",
       "      <td>0</td>\n",
       "      <td>0</td>\n",
       "      <td>0</td>\n",
       "      <td>0</td>\n",
       "      <td>0</td>\n",
       "      <td>0</td>\n",
       "      <td>0</td>\n",
       "      <td>...</td>\n",
       "      <td>0</td>\n",
       "      <td>0</td>\n",
       "      <td>0</td>\n",
       "      <td>0</td>\n",
       "      <td>0</td>\n",
       "      <td>0</td>\n",
       "      <td>0</td>\n",
       "      <td>0</td>\n",
       "      <td>0</td>\n",
       "      <td>0</td>\n",
       "    </tr>\n",
       "  </tbody>\n",
       "</table>\n",
       "<p>1 rows × 303 columns</p>\n",
       "</div>"
      ],
      "text/plain": [
       "                                 description  QM100  QM101  QM102  QM103  \\\n",
       "accession                                                                  \n",
       "NC_001669.1  Simian virus 40 complete genome      0      0      0      0   \n",
       "\n",
       "             QM104  QM105  QM106  QM107  QM108  ...  QM90  QM91  QM92  QM93  \\\n",
       "accession                                       ...                           \n",
       "NC_001669.1      0      0      0      0      0  ...     0     0     0     0   \n",
       "\n",
       "             QM94  QM95  QM96  QM98  QM99  QM9  \n",
       "accession                                       \n",
       "NC_001669.1     0     0     0     0     0    0  \n",
       "\n",
       "[1 rows x 303 columns]"
      ]
     },
     "execution_count": 7,
     "metadata": {},
     "output_type": "execute_result"
    }
   ],
   "source": [
    "sv40"
   ]
  },
  {
   "cell_type": "code",
   "execution_count": 8,
   "id": "e047d30f",
   "metadata": {},
   "outputs": [],
   "source": [
    "sv40=sv40.drop([\"description\"],axis='columns').T"
   ]
  },
  {
   "cell_type": "code",
   "execution_count": null,
   "id": "67da9c1c",
   "metadata": {},
   "outputs": [],
   "source": []
  },
  {
   "cell_type": "code",
   "execution_count": null,
   "id": "d9378dc2",
   "metadata": {},
   "outputs": [],
   "source": []
  },
  {
   "cell_type": "code",
   "execution_count": 9,
   "id": "3d5631e8",
   "metadata": {},
   "outputs": [],
   "source": [
    "threshold=1"
   ]
  },
  {
   "cell_type": "code",
   "execution_count": null,
   "id": "6ee4f1a8",
   "metadata": {},
   "outputs": [],
   "source": []
  },
  {
   "cell_type": "code",
   "execution_count": null,
   "id": "7a378251",
   "metadata": {},
   "outputs": [],
   "source": []
  },
  {
   "cell_type": "code",
   "execution_count": 10,
   "id": "d99906cc",
   "metadata": {},
   "outputs": [],
   "source": [
    "sv40_pos=sv40[sv40['NC_001669.1']>=threshold].index.array"
   ]
  },
  {
   "cell_type": "code",
   "execution_count": 11,
   "id": "63a0ecd0",
   "metadata": {},
   "outputs": [
    {
     "data": {
      "text/plain": [
       "<PandasArray>\n",
       "['QM116', 'QM117', 'QM152', 'QM173',  'QM25', 'QM270', 'QM287', 'QM289',\n",
       " 'QM298', 'QM299', 'QM308', 'QM311', 'QM331', 'QM335', 'QM336', 'QM337',\n",
       " 'QM361', 'QM365', 'QM366', 'QM368', 'QM370', 'QM377', 'QM378', 'QM381',\n",
       " 'QM384', 'QM388', 'QM389', 'QM390', 'QM395', 'QM396', 'QM397',  'QM39',\n",
       " 'QM401', 'QM403', 'QM405', 'QM406',  'QM40', 'QM410', 'QM411',  'QM42',\n",
       "  'QM46',  'QM63',  'QM72']\n",
       "Length: 43, dtype: object"
      ]
     },
     "execution_count": 11,
     "metadata": {},
     "output_type": "execute_result"
    }
   ],
   "source": [
    "sv40_pos"
   ]
  },
  {
   "cell_type": "markdown",
   "id": "94abc77e",
   "metadata": {},
   "source": [
    "# note that this is different from the list provided"
   ]
  },
  {
   "cell_type": "code",
   "execution_count": 12,
   "id": "b5a5f7a5",
   "metadata": {},
   "outputs": [],
   "source": [
    "sv40_neg=sv40[sv40['NC_001669.1']<threshold].index.array"
   ]
  },
  {
   "cell_type": "code",
   "execution_count": 13,
   "id": "8f172444",
   "metadata": {},
   "outputs": [
    {
     "data": {
      "text/plain": [
       "<PandasArray>\n",
       "['QM100', 'QM101', 'QM102', 'QM103', 'QM104', 'QM105', 'QM106', 'QM107',\n",
       " 'QM108', 'QM109',\n",
       " ...\n",
       "  'QM90',  'QM91',  'QM92',  'QM93',  'QM94',  'QM95',  'QM96',  'QM98',\n",
       "  'QM99',   'QM9']\n",
       "Length: 259, dtype: object"
      ]
     },
     "execution_count": 13,
     "metadata": {},
     "output_type": "execute_result"
    }
   ],
   "source": [
    "sv40_neg"
   ]
  },
  {
   "cell_type": "code",
   "execution_count": null,
   "id": "c8e8cb38",
   "metadata": {},
   "outputs": [],
   "source": []
  },
  {
   "cell_type": "code",
   "execution_count": 14,
   "id": "6245580c",
   "metadata": {},
   "outputs": [],
   "source": [
    "# could be QM.TP53.GAPDH.exon.tsv or QM.TP53.GAPDH.transcript.tsv\n",
    "#feature_counts=pd.read_csv(\"QM.TP53.GAPDH.transcript.tsv\",sep=\"\\t\",header=1,index_col=[\"Geneid\"]) \n",
    "feature_counts=pd.read_csv(\"QM.TP53.GAPDH.exon.tsv\",sep=\"\\t\",header=1,index_col=[\"Geneid\"]) "
   ]
  },
  {
   "cell_type": "code",
   "execution_count": 15,
   "id": "f1e83e8f",
   "metadata": {},
   "outputs": [
    {
     "data": {
      "text/html": [
       "<div>\n",
       "<style scoped>\n",
       "    .dataframe tbody tr th:only-of-type {\n",
       "        vertical-align: middle;\n",
       "    }\n",
       "\n",
       "    .dataframe tbody tr th {\n",
       "        vertical-align: top;\n",
       "    }\n",
       "\n",
       "    .dataframe thead th {\n",
       "        text-align: right;\n",
       "    }\n",
       "</style>\n",
       "<table border=\"1\" class=\"dataframe\">\n",
       "  <thead>\n",
       "    <tr style=\"text-align: right;\">\n",
       "      <th></th>\n",
       "      <th>Chr</th>\n",
       "      <th>Start</th>\n",
       "      <th>End</th>\n",
       "      <th>Strand</th>\n",
       "      <th>Length</th>\n",
       "      <th>QM100</th>\n",
       "      <th>QM101</th>\n",
       "      <th>QM102</th>\n",
       "      <th>QM103</th>\n",
       "      <th>QM104</th>\n",
       "      <th>...</th>\n",
       "      <th>QM90</th>\n",
       "      <th>QM91</th>\n",
       "      <th>QM92</th>\n",
       "      <th>QM93</th>\n",
       "      <th>QM94</th>\n",
       "      <th>QM95</th>\n",
       "      <th>QM96</th>\n",
       "      <th>QM98</th>\n",
       "      <th>QM99</th>\n",
       "      <th>QM9</th>\n",
       "    </tr>\n",
       "    <tr>\n",
       "      <th>Geneid</th>\n",
       "      <th></th>\n",
       "      <th></th>\n",
       "      <th></th>\n",
       "      <th></th>\n",
       "      <th></th>\n",
       "      <th></th>\n",
       "      <th></th>\n",
       "      <th></th>\n",
       "      <th></th>\n",
       "      <th></th>\n",
       "      <th></th>\n",
       "      <th></th>\n",
       "      <th></th>\n",
       "      <th></th>\n",
       "      <th></th>\n",
       "      <th></th>\n",
       "      <th></th>\n",
       "      <th></th>\n",
       "      <th></th>\n",
       "      <th></th>\n",
       "      <th></th>\n",
       "    </tr>\n",
       "  </thead>\n",
       "  <tbody>\n",
       "    <tr>\n",
       "      <th>GAPDH</th>\n",
       "      <td>chr12;chr12;chr12;chr12;chr12;chr12;chr12;chr1...</td>\n",
       "      <td>6534512;6534517;6534532;6534533;6534534;653454...</td>\n",
       "      <td>6534569;6534569;6534569;6534569;6534661;653456...</td>\n",
       "      <td>+;+;+;+;+;+;+;+;+;+;+;+;+;+;+;+;+;+;+;+;+;+;+;...</td>\n",
       "      <td>2396</td>\n",
       "      <td>277682</td>\n",
       "      <td>200142</td>\n",
       "      <td>299528</td>\n",
       "      <td>220381</td>\n",
       "      <td>411470</td>\n",
       "      <td>...</td>\n",
       "      <td>383645</td>\n",
       "      <td>406218</td>\n",
       "      <td>410588</td>\n",
       "      <td>409558</td>\n",
       "      <td>207181</td>\n",
       "      <td>345564</td>\n",
       "      <td>338121</td>\n",
       "      <td>316419</td>\n",
       "      <td>374597</td>\n",
       "      <td>233815</td>\n",
       "    </tr>\n",
       "    <tr>\n",
       "      <th>TP53</th>\n",
       "      <td>chr17;chr17;chr17;chr17;chr17;chr17;chr17;chr1...</td>\n",
       "      <td>7661779;7665416;7666086;7666902;7668402;766840...</td>\n",
       "      <td>7662014;7665531;7666244;7667425;7669690;766969...</td>\n",
       "      <td>-;-;-;-;-;-;-;-;-;-;-;-;-;-;-;-;-;-;-;-;-;-;-;...</td>\n",
       "      <td>5676</td>\n",
       "      <td>9696</td>\n",
       "      <td>7933</td>\n",
       "      <td>14250</td>\n",
       "      <td>7923</td>\n",
       "      <td>7321</td>\n",
       "      <td>...</td>\n",
       "      <td>10545</td>\n",
       "      <td>10462</td>\n",
       "      <td>7799</td>\n",
       "      <td>8402</td>\n",
       "      <td>8315</td>\n",
       "      <td>8296</td>\n",
       "      <td>8559</td>\n",
       "      <td>3105</td>\n",
       "      <td>7211</td>\n",
       "      <td>8059</td>\n",
       "    </tr>\n",
       "  </tbody>\n",
       "</table>\n",
       "<p>2 rows × 307 columns</p>\n",
       "</div>"
      ],
      "text/plain": [
       "                                                      Chr  \\\n",
       "Geneid                                                      \n",
       "GAPDH   chr12;chr12;chr12;chr12;chr12;chr12;chr12;chr1...   \n",
       "TP53    chr17;chr17;chr17;chr17;chr17;chr17;chr17;chr1...   \n",
       "\n",
       "                                                    Start  \\\n",
       "Geneid                                                      \n",
       "GAPDH   6534512;6534517;6534532;6534533;6534534;653454...   \n",
       "TP53    7661779;7665416;7666086;7666902;7668402;766840...   \n",
       "\n",
       "                                                      End  \\\n",
       "Geneid                                                      \n",
       "GAPDH   6534569;6534569;6534569;6534569;6534661;653456...   \n",
       "TP53    7662014;7665531;7666244;7667425;7669690;766969...   \n",
       "\n",
       "                                                   Strand  Length   QM100  \\\n",
       "Geneid                                                                      \n",
       "GAPDH   +;+;+;+;+;+;+;+;+;+;+;+;+;+;+;+;+;+;+;+;+;+;+;...    2396  277682   \n",
       "TP53    -;-;-;-;-;-;-;-;-;-;-;-;-;-;-;-;-;-;-;-;-;-;-;...    5676    9696   \n",
       "\n",
       "         QM101   QM102   QM103   QM104  ...    QM90    QM91    QM92    QM93  \\\n",
       "Geneid                                  ...                                   \n",
       "GAPDH   200142  299528  220381  411470  ...  383645  406218  410588  409558   \n",
       "TP53      7933   14250    7923    7321  ...   10545   10462    7799    8402   \n",
       "\n",
       "          QM94    QM95    QM96    QM98    QM99     QM9  \n",
       "Geneid                                                  \n",
       "GAPDH   207181  345564  338121  316419  374597  233815  \n",
       "TP53      8315    8296    8559    3105    7211    8059  \n",
       "\n",
       "[2 rows x 307 columns]"
      ]
     },
     "execution_count": 15,
     "metadata": {},
     "output_type": "execute_result"
    }
   ],
   "source": [
    "feature_counts"
   ]
  },
  {
   "cell_type": "markdown",
   "id": "311d2a59",
   "metadata": {},
   "source": [
    "# note that neither of these are normalized"
   ]
  },
  {
   "cell_type": "code",
   "execution_count": 16,
   "id": "fe6e65bd",
   "metadata": {},
   "outputs": [],
   "source": [
    "feature_counts.drop([\"Chr\",\"Start\",\"End\",\"Strand\",\"Length\"],axis='columns',inplace=True)"
   ]
  },
  {
   "cell_type": "code",
   "execution_count": 17,
   "id": "c2b1f804",
   "metadata": {},
   "outputs": [
    {
     "data": {
      "text/html": [
       "<div>\n",
       "<style scoped>\n",
       "    .dataframe tbody tr th:only-of-type {\n",
       "        vertical-align: middle;\n",
       "    }\n",
       "\n",
       "    .dataframe tbody tr th {\n",
       "        vertical-align: top;\n",
       "    }\n",
       "\n",
       "    .dataframe thead th {\n",
       "        text-align: right;\n",
       "    }\n",
       "</style>\n",
       "<table border=\"1\" class=\"dataframe\">\n",
       "  <thead>\n",
       "    <tr style=\"text-align: right;\">\n",
       "      <th></th>\n",
       "      <th>QM100</th>\n",
       "      <th>QM101</th>\n",
       "      <th>QM102</th>\n",
       "      <th>QM103</th>\n",
       "      <th>QM104</th>\n",
       "      <th>QM105</th>\n",
       "      <th>QM106</th>\n",
       "      <th>QM107</th>\n",
       "      <th>QM108</th>\n",
       "      <th>QM109</th>\n",
       "      <th>...</th>\n",
       "      <th>QM90</th>\n",
       "      <th>QM91</th>\n",
       "      <th>QM92</th>\n",
       "      <th>QM93</th>\n",
       "      <th>QM94</th>\n",
       "      <th>QM95</th>\n",
       "      <th>QM96</th>\n",
       "      <th>QM98</th>\n",
       "      <th>QM99</th>\n",
       "      <th>QM9</th>\n",
       "    </tr>\n",
       "    <tr>\n",
       "      <th>Geneid</th>\n",
       "      <th></th>\n",
       "      <th></th>\n",
       "      <th></th>\n",
       "      <th></th>\n",
       "      <th></th>\n",
       "      <th></th>\n",
       "      <th></th>\n",
       "      <th></th>\n",
       "      <th></th>\n",
       "      <th></th>\n",
       "      <th></th>\n",
       "      <th></th>\n",
       "      <th></th>\n",
       "      <th></th>\n",
       "      <th></th>\n",
       "      <th></th>\n",
       "      <th></th>\n",
       "      <th></th>\n",
       "      <th></th>\n",
       "      <th></th>\n",
       "      <th></th>\n",
       "    </tr>\n",
       "  </thead>\n",
       "  <tbody>\n",
       "    <tr>\n",
       "      <th>GAPDH</th>\n",
       "      <td>277682</td>\n",
       "      <td>200142</td>\n",
       "      <td>299528</td>\n",
       "      <td>220381</td>\n",
       "      <td>411470</td>\n",
       "      <td>252836</td>\n",
       "      <td>376088</td>\n",
       "      <td>297193</td>\n",
       "      <td>441518</td>\n",
       "      <td>404080</td>\n",
       "      <td>...</td>\n",
       "      <td>383645</td>\n",
       "      <td>406218</td>\n",
       "      <td>410588</td>\n",
       "      <td>409558</td>\n",
       "      <td>207181</td>\n",
       "      <td>345564</td>\n",
       "      <td>338121</td>\n",
       "      <td>316419</td>\n",
       "      <td>374597</td>\n",
       "      <td>233815</td>\n",
       "    </tr>\n",
       "    <tr>\n",
       "      <th>TP53</th>\n",
       "      <td>9696</td>\n",
       "      <td>7933</td>\n",
       "      <td>14250</td>\n",
       "      <td>7923</td>\n",
       "      <td>7321</td>\n",
       "      <td>5155</td>\n",
       "      <td>10188</td>\n",
       "      <td>5428</td>\n",
       "      <td>6190</td>\n",
       "      <td>7654</td>\n",
       "      <td>...</td>\n",
       "      <td>10545</td>\n",
       "      <td>10462</td>\n",
       "      <td>7799</td>\n",
       "      <td>8402</td>\n",
       "      <td>8315</td>\n",
       "      <td>8296</td>\n",
       "      <td>8559</td>\n",
       "      <td>3105</td>\n",
       "      <td>7211</td>\n",
       "      <td>8059</td>\n",
       "    </tr>\n",
       "  </tbody>\n",
       "</table>\n",
       "<p>2 rows × 302 columns</p>\n",
       "</div>"
      ],
      "text/plain": [
       "         QM100   QM101   QM102   QM103   QM104   QM105   QM106   QM107  \\\n",
       "Geneid                                                                   \n",
       "GAPDH   277682  200142  299528  220381  411470  252836  376088  297193   \n",
       "TP53      9696    7933   14250    7923    7321    5155   10188    5428   \n",
       "\n",
       "         QM108   QM109  ...    QM90    QM91    QM92    QM93    QM94    QM95  \\\n",
       "Geneid                  ...                                                   \n",
       "GAPDH   441518  404080  ...  383645  406218  410588  409558  207181  345564   \n",
       "TP53      6190    7654  ...   10545   10462    7799    8402    8315    8296   \n",
       "\n",
       "          QM96    QM98    QM99     QM9  \n",
       "Geneid                                  \n",
       "GAPDH   338121  316419  374597  233815  \n",
       "TP53      8559    3105    7211    8059  \n",
       "\n",
       "[2 rows x 302 columns]"
      ]
     },
     "execution_count": 17,
     "metadata": {},
     "output_type": "execute_result"
    }
   ],
   "source": [
    "feature_counts"
   ]
  },
  {
   "cell_type": "code",
   "execution_count": null,
   "id": "52dedee5",
   "metadata": {},
   "outputs": [],
   "source": []
  },
  {
   "cell_type": "code",
   "execution_count": 18,
   "id": "7a5a65bb",
   "metadata": {},
   "outputs": [],
   "source": [
    "#feature_counts=np.log(feature_counts)"
   ]
  },
  {
   "cell_type": "code",
   "execution_count": null,
   "id": "b1c71ba4",
   "metadata": {},
   "outputs": [],
   "source": []
  },
  {
   "cell_type": "code",
   "execution_count": 19,
   "id": "cfd1eff7",
   "metadata": {},
   "outputs": [],
   "source": [
    "sv40_neg_feature_counts=feature_counts[sv40_neg]"
   ]
  },
  {
   "cell_type": "code",
   "execution_count": 20,
   "id": "ba9cae74",
   "metadata": {},
   "outputs": [
    {
     "data": {
      "text/html": [
       "<div>\n",
       "<style scoped>\n",
       "    .dataframe tbody tr th:only-of-type {\n",
       "        vertical-align: middle;\n",
       "    }\n",
       "\n",
       "    .dataframe tbody tr th {\n",
       "        vertical-align: top;\n",
       "    }\n",
       "\n",
       "    .dataframe thead th {\n",
       "        text-align: right;\n",
       "    }\n",
       "</style>\n",
       "<table border=\"1\" class=\"dataframe\">\n",
       "  <thead>\n",
       "    <tr style=\"text-align: right;\">\n",
       "      <th></th>\n",
       "      <th>QM100</th>\n",
       "      <th>QM101</th>\n",
       "      <th>QM102</th>\n",
       "      <th>QM103</th>\n",
       "      <th>QM104</th>\n",
       "      <th>QM105</th>\n",
       "      <th>QM106</th>\n",
       "      <th>QM107</th>\n",
       "      <th>QM108</th>\n",
       "      <th>QM109</th>\n",
       "      <th>...</th>\n",
       "      <th>QM90</th>\n",
       "      <th>QM91</th>\n",
       "      <th>QM92</th>\n",
       "      <th>QM93</th>\n",
       "      <th>QM94</th>\n",
       "      <th>QM95</th>\n",
       "      <th>QM96</th>\n",
       "      <th>QM98</th>\n",
       "      <th>QM99</th>\n",
       "      <th>QM9</th>\n",
       "    </tr>\n",
       "    <tr>\n",
       "      <th>Geneid</th>\n",
       "      <th></th>\n",
       "      <th></th>\n",
       "      <th></th>\n",
       "      <th></th>\n",
       "      <th></th>\n",
       "      <th></th>\n",
       "      <th></th>\n",
       "      <th></th>\n",
       "      <th></th>\n",
       "      <th></th>\n",
       "      <th></th>\n",
       "      <th></th>\n",
       "      <th></th>\n",
       "      <th></th>\n",
       "      <th></th>\n",
       "      <th></th>\n",
       "      <th></th>\n",
       "      <th></th>\n",
       "      <th></th>\n",
       "      <th></th>\n",
       "      <th></th>\n",
       "    </tr>\n",
       "  </thead>\n",
       "  <tbody>\n",
       "    <tr>\n",
       "      <th>GAPDH</th>\n",
       "      <td>277682</td>\n",
       "      <td>200142</td>\n",
       "      <td>299528</td>\n",
       "      <td>220381</td>\n",
       "      <td>411470</td>\n",
       "      <td>252836</td>\n",
       "      <td>376088</td>\n",
       "      <td>297193</td>\n",
       "      <td>441518</td>\n",
       "      <td>404080</td>\n",
       "      <td>...</td>\n",
       "      <td>383645</td>\n",
       "      <td>406218</td>\n",
       "      <td>410588</td>\n",
       "      <td>409558</td>\n",
       "      <td>207181</td>\n",
       "      <td>345564</td>\n",
       "      <td>338121</td>\n",
       "      <td>316419</td>\n",
       "      <td>374597</td>\n",
       "      <td>233815</td>\n",
       "    </tr>\n",
       "    <tr>\n",
       "      <th>TP53</th>\n",
       "      <td>9696</td>\n",
       "      <td>7933</td>\n",
       "      <td>14250</td>\n",
       "      <td>7923</td>\n",
       "      <td>7321</td>\n",
       "      <td>5155</td>\n",
       "      <td>10188</td>\n",
       "      <td>5428</td>\n",
       "      <td>6190</td>\n",
       "      <td>7654</td>\n",
       "      <td>...</td>\n",
       "      <td>10545</td>\n",
       "      <td>10462</td>\n",
       "      <td>7799</td>\n",
       "      <td>8402</td>\n",
       "      <td>8315</td>\n",
       "      <td>8296</td>\n",
       "      <td>8559</td>\n",
       "      <td>3105</td>\n",
       "      <td>7211</td>\n",
       "      <td>8059</td>\n",
       "    </tr>\n",
       "  </tbody>\n",
       "</table>\n",
       "<p>2 rows × 259 columns</p>\n",
       "</div>"
      ],
      "text/plain": [
       "         QM100   QM101   QM102   QM103   QM104   QM105   QM106   QM107  \\\n",
       "Geneid                                                                   \n",
       "GAPDH   277682  200142  299528  220381  411470  252836  376088  297193   \n",
       "TP53      9696    7933   14250    7923    7321    5155   10188    5428   \n",
       "\n",
       "         QM108   QM109  ...    QM90    QM91    QM92    QM93    QM94    QM95  \\\n",
       "Geneid                  ...                                                   \n",
       "GAPDH   441518  404080  ...  383645  406218  410588  409558  207181  345564   \n",
       "TP53      6190    7654  ...   10545   10462    7799    8402    8315    8296   \n",
       "\n",
       "          QM96    QM98    QM99     QM9  \n",
       "Geneid                                  \n",
       "GAPDH   338121  316419  374597  233815  \n",
       "TP53      8559    3105    7211    8059  \n",
       "\n",
       "[2 rows x 259 columns]"
      ]
     },
     "execution_count": 20,
     "metadata": {},
     "output_type": "execute_result"
    }
   ],
   "source": [
    "sv40_neg_feature_counts"
   ]
  },
  {
   "cell_type": "code",
   "execution_count": 21,
   "id": "fb0d0c17",
   "metadata": {},
   "outputs": [],
   "source": [
    "sv40_pos_feature_counts=feature_counts[sv40_pos]"
   ]
  },
  {
   "cell_type": "code",
   "execution_count": 22,
   "id": "64209036",
   "metadata": {},
   "outputs": [
    {
     "data": {
      "text/html": [
       "<div>\n",
       "<style scoped>\n",
       "    .dataframe tbody tr th:only-of-type {\n",
       "        vertical-align: middle;\n",
       "    }\n",
       "\n",
       "    .dataframe tbody tr th {\n",
       "        vertical-align: top;\n",
       "    }\n",
       "\n",
       "    .dataframe thead th {\n",
       "        text-align: right;\n",
       "    }\n",
       "</style>\n",
       "<table border=\"1\" class=\"dataframe\">\n",
       "  <thead>\n",
       "    <tr style=\"text-align: right;\">\n",
       "      <th></th>\n",
       "      <th>QM116</th>\n",
       "      <th>QM117</th>\n",
       "      <th>QM152</th>\n",
       "      <th>QM173</th>\n",
       "      <th>QM25</th>\n",
       "      <th>QM270</th>\n",
       "      <th>QM287</th>\n",
       "      <th>QM289</th>\n",
       "      <th>QM298</th>\n",
       "      <th>QM299</th>\n",
       "      <th>...</th>\n",
       "      <th>QM403</th>\n",
       "      <th>QM405</th>\n",
       "      <th>QM406</th>\n",
       "      <th>QM40</th>\n",
       "      <th>QM410</th>\n",
       "      <th>QM411</th>\n",
       "      <th>QM42</th>\n",
       "      <th>QM46</th>\n",
       "      <th>QM63</th>\n",
       "      <th>QM72</th>\n",
       "    </tr>\n",
       "    <tr>\n",
       "      <th>Geneid</th>\n",
       "      <th></th>\n",
       "      <th></th>\n",
       "      <th></th>\n",
       "      <th></th>\n",
       "      <th></th>\n",
       "      <th></th>\n",
       "      <th></th>\n",
       "      <th></th>\n",
       "      <th></th>\n",
       "      <th></th>\n",
       "      <th></th>\n",
       "      <th></th>\n",
       "      <th></th>\n",
       "      <th></th>\n",
       "      <th></th>\n",
       "      <th></th>\n",
       "      <th></th>\n",
       "      <th></th>\n",
       "      <th></th>\n",
       "      <th></th>\n",
       "      <th></th>\n",
       "    </tr>\n",
       "  </thead>\n",
       "  <tbody>\n",
       "    <tr>\n",
       "      <th>GAPDH</th>\n",
       "      <td>396265</td>\n",
       "      <td>300894</td>\n",
       "      <td>336959</td>\n",
       "      <td>394723</td>\n",
       "      <td>225549</td>\n",
       "      <td>316526</td>\n",
       "      <td>374712</td>\n",
       "      <td>493442</td>\n",
       "      <td>659630</td>\n",
       "      <td>800548</td>\n",
       "      <td>...</td>\n",
       "      <td>737399</td>\n",
       "      <td>436814</td>\n",
       "      <td>369438</td>\n",
       "      <td>299221</td>\n",
       "      <td>464336</td>\n",
       "      <td>671547</td>\n",
       "      <td>251840</td>\n",
       "      <td>320744</td>\n",
       "      <td>367905</td>\n",
       "      <td>551437</td>\n",
       "    </tr>\n",
       "    <tr>\n",
       "      <th>TP53</th>\n",
       "      <td>4039</td>\n",
       "      <td>4936</td>\n",
       "      <td>9053</td>\n",
       "      <td>10084</td>\n",
       "      <td>5702</td>\n",
       "      <td>4700</td>\n",
       "      <td>7407</td>\n",
       "      <td>9715</td>\n",
       "      <td>9602</td>\n",
       "      <td>6391</td>\n",
       "      <td>...</td>\n",
       "      <td>9550</td>\n",
       "      <td>10793</td>\n",
       "      <td>7718</td>\n",
       "      <td>16141</td>\n",
       "      <td>3680</td>\n",
       "      <td>7349</td>\n",
       "      <td>14173</td>\n",
       "      <td>9472</td>\n",
       "      <td>7382</td>\n",
       "      <td>7174</td>\n",
       "    </tr>\n",
       "  </tbody>\n",
       "</table>\n",
       "<p>2 rows × 43 columns</p>\n",
       "</div>"
      ],
      "text/plain": [
       "         QM116   QM117   QM152   QM173    QM25   QM270   QM287   QM289  \\\n",
       "Geneid                                                                   \n",
       "GAPDH   396265  300894  336959  394723  225549  316526  374712  493442   \n",
       "TP53      4039    4936    9053   10084    5702    4700    7407    9715   \n",
       "\n",
       "         QM298   QM299  ...   QM403   QM405   QM406    QM40   QM410   QM411  \\\n",
       "Geneid                  ...                                                   \n",
       "GAPDH   659630  800548  ...  737399  436814  369438  299221  464336  671547   \n",
       "TP53      9602    6391  ...    9550   10793    7718   16141    3680    7349   \n",
       "\n",
       "          QM42    QM46    QM63    QM72  \n",
       "Geneid                                  \n",
       "GAPDH   251840  320744  367905  551437  \n",
       "TP53     14173    9472    7382    7174  \n",
       "\n",
       "[2 rows x 43 columns]"
      ]
     },
     "execution_count": 22,
     "metadata": {},
     "output_type": "execute_result"
    }
   ],
   "source": [
    "sv40_pos_feature_counts"
   ]
  },
  {
   "cell_type": "code",
   "execution_count": null,
   "id": "22227e0e",
   "metadata": {},
   "outputs": [],
   "source": []
  },
  {
   "cell_type": "code",
   "execution_count": 23,
   "id": "036624f8",
   "metadata": {},
   "outputs": [],
   "source": [
    "from scipy.stats import ttest_ind"
   ]
  },
  {
   "cell_type": "code",
   "execution_count": 24,
   "id": "8bf8fe68",
   "metadata": {},
   "outputs": [
    {
     "data": {
      "text/plain": [
       "array([396265, 300894, 336959, 394723, 225549, 316526, 374712, 493442,\n",
       "       659630, 800548, 191010, 278400, 239668, 338678, 397288, 144342,\n",
       "       378353, 390073, 383160, 266888, 503355, 324312, 472447, 346169,\n",
       "       309911, 189265, 221392, 381092, 300569, 316446, 430411, 769987,\n",
       "       315565, 737399, 436814, 369438, 299221, 464336, 671547, 251840,\n",
       "       320744, 367905, 551437])"
      ]
     },
     "execution_count": 24,
     "metadata": {},
     "output_type": "execute_result"
    }
   ],
   "source": [
    "sv40_pos_feature_counts.loc['GAPDH'].values"
   ]
  },
  {
   "cell_type": "code",
   "execution_count": 25,
   "id": "cf6dcfe7",
   "metadata": {},
   "outputs": [
    {
     "data": {
      "text/plain": [
       "array([ 277682,  200142,  299528,  220381,  411470,  252836,  376088,\n",
       "        297193,  441518,  404080,  208090,  660659,  306645,  365937,\n",
       "        205186,  338757,  267665,  201953,  402510,  472023,  326079,\n",
       "        471678,  727236,  346579,  594129,  335956,  203231,  346671,\n",
       "        205914,  277066,  681291,  292373,  530430,  233760,  284048,\n",
       "        736850,  225875,  500425,  534194,  299761,  222925,  558514,\n",
       "        544694,  505711,  378633,  436614,  369450,  327099,  462713,\n",
       "        356426,  316469,  464988,  666998,  325004, 1019528,  366806,\n",
       "        890218,  613042,  359030,  351019,  292417,  306373,  422965,\n",
       "        295174,  605267,  516543,  313129,   91815,  331509,  346684,\n",
       "        507620,  367387,  264156,  713324,  359587,  364362,  293924,\n",
       "        839584,  234022,  413602,  548547,  773987,  345212,  445832,\n",
       "        386866,  430284,  430532,  310472,  347115,  423118,  590083,\n",
       "        189084,  328795,  137595,  381876,  580864,  400757,  904507,\n",
       "        650626,  515767,  573170,  190629,  398270,  281331,  208088,\n",
       "        261383,  356160,  432925,  655579,  397037,  200773,  451342,\n",
       "        262309,  239116,  585730,  325787,  427778,  248741,  636435,\n",
       "        541803,  468105,  349538,  298770,  125556,  349773,  694199,\n",
       "        447987,  337923,  197872,  208213,  389415,  357524,  411973,\n",
       "        207717,  274128,  322765,  327031,  668972,  312982,  194103,\n",
       "        273398,  309597,  298466,  309330,  281623,  546912,  373640,\n",
       "        306439,  524660,  753586,  331802,  295537,  504901,  321287,\n",
       "        305608,  286116,  308599,  430690,  177479,  198202,  418693,\n",
       "        461765,  317511,  323423,  111062,  256457,  294705,  293043,\n",
       "        495114,  266512,  228420,  213383,  364902,  348750,  232752,\n",
       "        332309,  572754,  248523,  683226,  312561,  397614,  457407,\n",
       "        245250,  305058,  317793,  404788,  490318,  276374,  327488,\n",
       "        208692,  251051,  259387,  353412,  186631,  278341,  367680,\n",
       "        366706,  260808,  623164,  370671,  361532,  255066,  190198,\n",
       "        261370,  336457,  493910,  330071,  308689,  292562,  516378,\n",
       "        293160,  532989,  120126,  379590,   88023,  707465,  291011,\n",
       "        290535,  197514,  336811,  312068,  271179,  607419,  672394,\n",
       "        444244,  493458,  512485,  686431,  667484,  195808,  255759,\n",
       "        214195,  438586,  435240,  252505,  160496,  202700,  429832,\n",
       "        145716,  245097,  340647,  369512,  452810,  341228,  343224,\n",
       "        269091,  463996,  360045,  265146,  383645,  406218,  410588,\n",
       "        409558,  207181,  345564,  338121,  316419,  374597,  233815])"
      ]
     },
     "execution_count": 25,
     "metadata": {},
     "output_type": "execute_result"
    }
   ],
   "source": [
    "sv40_neg_feature_counts.loc['GAPDH'].values"
   ]
  },
  {
   "cell_type": "code",
   "execution_count": 26,
   "id": "276aee31",
   "metadata": {},
   "outputs": [],
   "source": [
    "t_stat, p_value = ttest_ind(\n",
    "    sv40_pos_feature_counts.loc['GAPDH'].values, \n",
    "    sv40_neg_feature_counts.loc['GAPDH'].values)"
   ]
  },
  {
   "cell_type": "code",
   "execution_count": 27,
   "id": "6167afd5",
   "metadata": {},
   "outputs": [
    {
     "data": {
      "text/plain": [
       "(0.4407466072020642, 0.6597138824942079)"
      ]
     },
     "execution_count": 27,
     "metadata": {},
     "output_type": "execute_result"
    }
   ],
   "source": [
    "t_stat, p_value"
   ]
  },
  {
   "cell_type": "code",
   "execution_count": 28,
   "id": "04e9b151",
   "metadata": {},
   "outputs": [
    {
     "data": {
      "text/plain": [
       "<AxesSubplot: >"
      ]
     },
     "execution_count": 28,
     "metadata": {},
     "output_type": "execute_result"
    },
    {
     "data": {
      "image/png": "[encoded data removed]",
      "text/plain": [
       "<Figure size 640x480 with 1 Axes>"
      ]
     },
     "metadata": {},
     "output_type": "display_data"
    }
   ],
   "source": [
    "sns.boxplot(data=[sv40_pos_feature_counts.loc['GAPDH'].values, \n",
    "    sv40_neg_feature_counts.loc['GAPDH'].values])"
   ]
  },
  {
   "cell_type": "code",
   "execution_count": null,
   "id": "7d1490cb",
   "metadata": {},
   "outputs": [],
   "source": []
  },
  {
   "cell_type": "code",
   "execution_count": 29,
   "id": "28567553",
   "metadata": {},
   "outputs": [],
   "source": [
    "t_stat, p_value = ttest_ind(\n",
    "    sv40_pos_feature_counts.loc['TP53'].values, \n",
    "    sv40_neg_feature_counts.loc['TP53'].values)"
   ]
  },
  {
   "cell_type": "code",
   "execution_count": 30,
   "id": "f34c54fc",
   "metadata": {},
   "outputs": [
    {
     "data": {
      "text/plain": [
       "(-1.7063745942986392, 0.08897322104814274)"
      ]
     },
     "execution_count": 30,
     "metadata": {},
     "output_type": "execute_result"
    }
   ],
   "source": [
    "t_stat, p_value"
   ]
  },
  {
   "cell_type": "code",
   "execution_count": 31,
   "id": "4a9f7289",
   "metadata": {},
   "outputs": [
    {
     "data": {
      "text/plain": [
       "<AxesSubplot: >"
      ]
     },
     "execution_count": 31,
     "metadata": {},
     "output_type": "execute_result"
    },
    {
     "data": {
      "image/png": "[encoded data removed]",
      "text/plain": [
       "<Figure size 640x480 with 1 Axes>"
      ]
     },
     "metadata": {},
     "output_type": "display_data"
    }
   ],
   "source": [
    "sns.boxplot(data=[sv40_pos_feature_counts.loc['TP53'].values, \n",
    "    sv40_neg_feature_counts.loc['TP53'].values])"
   ]
  },
  {
   "cell_type": "code",
   "execution_count": null,
   "id": "46f0acc0",
   "metadata": {},
   "outputs": [],
   "source": []
  },
  {
   "cell_type": "code",
   "execution_count": null,
   "id": "02076ee6",
   "metadata": {},
   "outputs": [],
   "source": []
  },
  {
   "cell_type": "code",
   "execution_count": 32,
   "id": "d70dee8b",
   "metadata": {},
   "outputs": [],
   "source": [
    "sv40_pos_div=sv40_pos_feature_counts.loc['TP53'].values / sv40_pos_feature_counts.loc['GAPDH'].values"
   ]
  },
  {
   "cell_type": "code",
   "execution_count": 33,
   "id": "ab96203f",
   "metadata": {},
   "outputs": [
    {
     "data": {
      "text/plain": [
       "array([0.01019267, 0.01640445, 0.02686677, 0.02554703, 0.02528054,\n",
       "       0.0148487 , 0.01976718, 0.01968823, 0.01455665, 0.00798328,\n",
       "       0.01769017, 0.01770474, 0.02374535, 0.01938124, 0.01948209,\n",
       "       0.01464577, 0.01869154, 0.01511256, 0.02045621, 0.0233731 ,\n",
       "       0.01783234, 0.01443055, 0.01866241, 0.0302049 , 0.01354905,\n",
       "       0.01717169, 0.02143709, 0.03219433, 0.01904388, 0.02441175,\n",
       "       0.02620519, 0.01837044, 0.02633055, 0.01295093, 0.02470846,\n",
       "       0.02089119, 0.05394341, 0.0079253 , 0.01094339, 0.0562778 ,\n",
       "       0.02953134, 0.02006496, 0.01300965])"
      ]
     },
     "execution_count": 33,
     "metadata": {},
     "output_type": "execute_result"
    }
   ],
   "source": [
    "sv40_pos_div"
   ]
  },
  {
   "cell_type": "code",
   "execution_count": 34,
   "id": "b7097565",
   "metadata": {},
   "outputs": [],
   "source": [
    "sv40_neg_div=sv40_neg_feature_counts.loc['TP53'].values / sv40_neg_feature_counts.loc['GAPDH'].values"
   ]
  },
  {
   "cell_type": "code",
   "execution_count": 35,
   "id": "ac4ff93b",
   "metadata": {},
   "outputs": [
    {
     "data": {
      "text/plain": [
       "array([0.03491764, 0.03963686, 0.04757485, 0.03595138, 0.01779231,\n",
       "       0.02038871, 0.0270894 , 0.01826423, 0.01401981, 0.01894179,\n",
       "       0.04046807, 0.01771564, 0.01313245, 0.01825451, 0.04122114,\n",
       "       0.02201873, 0.02674986, 0.02713007, 0.02161685, 0.01262862,\n",
       "       0.02542022, 0.0118195 , 0.01667272, 0.02080045, 0.01639375,\n",
       "       0.03613271, 0.01745305, 0.02013148, 0.03259613, 0.01609364,\n",
       "       0.01391182, 0.03374457, 0.01222782, 0.03366701, 0.03430054,\n",
       "       0.01020696, 0.03520531, 0.02620573, 0.01853259, 0.02878293,\n",
       "       0.03572502, 0.01752329, 0.01352686, 0.01133058, 0.02135841,\n",
       "       0.02464877, 0.02289078, 0.03197197, 0.03182534, 0.02133683,\n",
       "       0.02229918, 0.01311647, 0.01422943, 0.0173444 , 0.0120595 ,\n",
       "       0.0190673 , 0.00736449, 0.0086552 , 0.01277331, 0.0236369 ,\n",
       "       0.05412818, 0.00933829, 0.02131855, 0.02364707, 0.04613832,\n",
       "       0.05369543, 0.05818049, 0.07284213, 0.01968272, 0.02464781,\n",
       "       0.0122572 , 0.01939644, 0.03650116, 0.01785444, 0.02299304,\n",
       "       0.01616524, 0.04053769, 0.01062907, 0.02357898, 0.01964207,\n",
       "       0.01897741, 0.00125842, 0.02165915, 0.0173294 , 0.03139847,\n",
       "       0.01304487, 0.02001013, 0.01621724, 0.02254008, 0.01728123,\n",
       "       0.02440165, 0.0165482 , 0.01439195, 0.06746611, 0.02193906,\n",
       "       0.02209812, 0.02037145, 0.02462668, 0.02769026, 0.01426032,\n",
       "       0.0150444 , 0.02664338, 0.01745047, 0.02341015, 0.03460075,\n",
       "       0.01963785, 0.02923967, 0.01612058, 0.01076453, 0.02959926,\n",
       "       0.06231914, 0.02452686, 0.01860783, 0.02305576, 0.01371792,\n",
       "       0.03300316, 0.0163496 , 0.02881712, 0.01234219, 0.0145994 ,\n",
       "       0.01193536, 0.01419302, 0.01943636, 0.02800344, 0.0157302 ,\n",
       "       0.01927689, 0.00872793, 0.02345801, 0.02037176, 0.04080917,\n",
       "       0.02110602, 0.02421096, 0.02523709, 0.02189036, 0.06151141,\n",
       "       0.05822502, 0.05602527, 0.02061073, 0.04514317, 0.02849003,\n",
       "       0.02688754, 0.01958998, 0.03688862, 0.02150777, 0.05579445,\n",
       "       0.026635  , 0.03312279, 0.01735745, 0.02632181, 0.01410987,\n",
       "       0.02246219, 0.01649201, 0.02031289, 0.02325647, 0.0288376 ,\n",
       "       0.03118665, 0.03013944, 0.01590935, 0.08971202, 0.03160412,\n",
       "       0.02428987, 0.01618572, 0.0228496 , 0.0286838 , 0.06892547,\n",
       "       0.02419509, 0.04771212, 0.02883195, 0.01668707, 0.0229258 ,\n",
       "       0.04205849, 0.03205972, 0.02157566, 0.02397419, 0.05387709,\n",
       "       0.01587077, 0.0171138 , 0.02966727, 0.01287568, 0.02945665,\n",
       "       0.0180728 , 0.01179037, 0.03003058, 0.02035023, 0.02187902,\n",
       "       0.08165509, 0.04749163, 0.03259713, 0.0231978 , 0.03042282,\n",
       "       0.02184417, 0.02158165, 0.02112831, 0.03207399, 0.04327785,\n",
       "       0.02114339, 0.02618719, 0.03119536, 0.0180434 , 0.02455547,\n",
       "       0.01958056, 0.02968643, 0.02702973, 0.03764013, 0.01477455,\n",
       "       0.02229758, 0.01793251, 0.01631415, 0.02732754, 0.00968864,\n",
       "       0.03586779, 0.01561008, 0.05341891, 0.02189994, 0.03489997,\n",
       "       0.01934654, 0.01530183, 0.03775105, 0.03178003, 0.01538251,\n",
       "       0.01601574, 0.03960115, 0.02744728, 0.01535558, 0.01521011,\n",
       "       0.01897426, 0.02380167, 0.01866466, 0.00306674, 0.03456958,\n",
       "       0.03449732, 0.03170942, 0.02702777, 0.01565343, 0.02047088,\n",
       "       0.06882415, 0.02882092, 0.02592408, 0.06076203, 0.02975965,\n",
       "       0.02014402, 0.02857282, 0.01498421, 0.02593281, 0.01979174,\n",
       "       0.03173276, 0.01773507, 0.01880043, 0.02183325, 0.02748635,\n",
       "       0.02575464, 0.01899471, 0.0205148 , 0.04013399, 0.02400713,\n",
       "       0.02531342, 0.00981294, 0.01925002, 0.03446742])"
      ]
     },
     "execution_count": 35,
     "metadata": {},
     "output_type": "execute_result"
    }
   ],
   "source": [
    "sv40_neg_div"
   ]
  },
  {
   "cell_type": "code",
   "execution_count": 36,
   "id": "43391acb",
   "metadata": {},
   "outputs": [],
   "source": [
    "#t_stat, p_value = ttest_ind(sv40_pos_div,sv40_neg_div)\n",
    "t_stat, p_value = ttest_ind(np.log(sv40_pos_div),np.log(sv40_neg_div))"
   ]
  },
  {
   "cell_type": "code",
   "execution_count": 37,
   "id": "3591634f",
   "metadata": {},
   "outputs": [
    {
     "data": {
      "text/plain": [
       "(-2.1935776786898296, 0.029032872187909044)"
      ]
     },
     "execution_count": 37,
     "metadata": {},
     "output_type": "execute_result"
    }
   ],
   "source": [
    "t_stat, p_value"
   ]
  },
  {
   "cell_type": "code",
   "execution_count": 38,
   "id": "4a0c9358",
   "metadata": {},
   "outputs": [
    {
     "data": {
      "text/plain": [
       "<AxesSubplot: >"
      ]
     },
     "execution_count": 38,
     "metadata": {},
     "output_type": "execute_result"
    },
    {
     "data": {
      "image/png": "[encoded data removed]",
      "text/plain": [
       "<Figure size 640x480 with 1 Axes>"
      ]
     },
     "metadata": {},
     "output_type": "display_data"
    }
   ],
   "source": [
    "sns.boxplot(data=[sv40_pos_div, sv40_neg_div])"
   ]
  },
  {
   "cell_type": "code",
   "execution_count": 39,
   "id": "b03543cd",
   "metadata": {},
   "outputs": [
    {
     "data": {
      "text/plain": [
       "<AxesSubplot: >"
      ]
     },
     "execution_count": 39,
     "metadata": {},
     "output_type": "execute_result"
    },
    {
     "data": {
      "image/png": "[encoded data removed]",
      "text/plain": [
       "<Figure size 640x480 with 1 Axes>"
      ]
     },
     "metadata": {},
     "output_type": "display_data"
    }
   ],
   "source": [
    "sns.boxplot(data=[np.log(sv40_pos_div), np.log(sv40_neg_div)])"
   ]
  },
  {
   "cell_type": "code",
   "execution_count": null,
   "id": "772a93dd",
   "metadata": {},
   "outputs": [],
   "source": []
  },
  {
   "cell_type": "code",
   "execution_count": null,
   "id": "01ce3978",
   "metadata": {},
   "outputs": [],
   "source": []
  },
  {
   "cell_type": "code",
   "execution_count": 40,
   "id": "48b785ea",
   "metadata": {},
   "outputs": [
    {
     "data": {
      "text/html": [
       "<div>\n",
       "<style scoped>\n",
       "    .dataframe tbody tr th:only-of-type {\n",
       "        vertical-align: middle;\n",
       "    }\n",
       "\n",
       "    .dataframe tbody tr th {\n",
       "        vertical-align: top;\n",
       "    }\n",
       "\n",
       "    .dataframe thead th {\n",
       "        text-align: right;\n",
       "    }\n",
       "</style>\n",
       "<table border=\"1\" class=\"dataframe\">\n",
       "  <thead>\n",
       "    <tr style=\"text-align: right;\">\n",
       "      <th></th>\n",
       "      <th>QM116</th>\n",
       "      <th>QM117</th>\n",
       "      <th>QM152</th>\n",
       "      <th>QM173</th>\n",
       "      <th>QM25</th>\n",
       "      <th>QM270</th>\n",
       "      <th>QM287</th>\n",
       "      <th>QM289</th>\n",
       "      <th>QM298</th>\n",
       "      <th>QM299</th>\n",
       "      <th>...</th>\n",
       "      <th>QM403</th>\n",
       "      <th>QM405</th>\n",
       "      <th>QM406</th>\n",
       "      <th>QM40</th>\n",
       "      <th>QM410</th>\n",
       "      <th>QM411</th>\n",
       "      <th>QM42</th>\n",
       "      <th>QM46</th>\n",
       "      <th>QM63</th>\n",
       "      <th>QM72</th>\n",
       "    </tr>\n",
       "    <tr>\n",
       "      <th>Geneid</th>\n",
       "      <th></th>\n",
       "      <th></th>\n",
       "      <th></th>\n",
       "      <th></th>\n",
       "      <th></th>\n",
       "      <th></th>\n",
       "      <th></th>\n",
       "      <th></th>\n",
       "      <th></th>\n",
       "      <th></th>\n",
       "      <th></th>\n",
       "      <th></th>\n",
       "      <th></th>\n",
       "      <th></th>\n",
       "      <th></th>\n",
       "      <th></th>\n",
       "      <th></th>\n",
       "      <th></th>\n",
       "      <th></th>\n",
       "      <th></th>\n",
       "      <th></th>\n",
       "    </tr>\n",
       "  </thead>\n",
       "  <tbody>\n",
       "    <tr>\n",
       "      <th>GAPDH</th>\n",
       "      <td>396265</td>\n",
       "      <td>300894</td>\n",
       "      <td>336959</td>\n",
       "      <td>394723</td>\n",
       "      <td>225549</td>\n",
       "      <td>316526</td>\n",
       "      <td>374712</td>\n",
       "      <td>493442</td>\n",
       "      <td>659630</td>\n",
       "      <td>800548</td>\n",
       "      <td>...</td>\n",
       "      <td>737399</td>\n",
       "      <td>436814</td>\n",
       "      <td>369438</td>\n",
       "      <td>299221</td>\n",
       "      <td>464336</td>\n",
       "      <td>671547</td>\n",
       "      <td>251840</td>\n",
       "      <td>320744</td>\n",
       "      <td>367905</td>\n",
       "      <td>551437</td>\n",
       "    </tr>\n",
       "    <tr>\n",
       "      <th>TP53</th>\n",
       "      <td>4039</td>\n",
       "      <td>4936</td>\n",
       "      <td>9053</td>\n",
       "      <td>10084</td>\n",
       "      <td>5702</td>\n",
       "      <td>4700</td>\n",
       "      <td>7407</td>\n",
       "      <td>9715</td>\n",
       "      <td>9602</td>\n",
       "      <td>6391</td>\n",
       "      <td>...</td>\n",
       "      <td>9550</td>\n",
       "      <td>10793</td>\n",
       "      <td>7718</td>\n",
       "      <td>16141</td>\n",
       "      <td>3680</td>\n",
       "      <td>7349</td>\n",
       "      <td>14173</td>\n",
       "      <td>9472</td>\n",
       "      <td>7382</td>\n",
       "      <td>7174</td>\n",
       "    </tr>\n",
       "  </tbody>\n",
       "</table>\n",
       "<p>2 rows × 43 columns</p>\n",
       "</div>"
      ],
      "text/plain": [
       "         QM116   QM117   QM152   QM173    QM25   QM270   QM287   QM289  \\\n",
       "Geneid                                                                   \n",
       "GAPDH   396265  300894  336959  394723  225549  316526  374712  493442   \n",
       "TP53      4039    4936    9053   10084    5702    4700    7407    9715   \n",
       "\n",
       "         QM298   QM299  ...   QM403   QM405   QM406    QM40   QM410   QM411  \\\n",
       "Geneid                  ...                                                   \n",
       "GAPDH   659630  800548  ...  737399  436814  369438  299221  464336  671547   \n",
       "TP53      9602    6391  ...    9550   10793    7718   16141    3680    7349   \n",
       "\n",
       "          QM42    QM46    QM63    QM72  \n",
       "Geneid                                  \n",
       "GAPDH   251840  320744  367905  551437  \n",
       "TP53     14173    9472    7382    7174  \n",
       "\n",
       "[2 rows x 43 columns]"
      ]
     },
     "execution_count": 40,
     "metadata": {},
     "output_type": "execute_result"
    }
   ],
   "source": [
    "sv40_pos_feature_counts"
   ]
  },
  {
   "cell_type": "code",
   "execution_count": 41,
   "id": "abc54d21",
   "metadata": {},
   "outputs": [
    {
     "data": {
      "text/html": [
       "<div>\n",
       "<style scoped>\n",
       "    .dataframe tbody tr th:only-of-type {\n",
       "        vertical-align: middle;\n",
       "    }\n",
       "\n",
       "    .dataframe tbody tr th {\n",
       "        vertical-align: top;\n",
       "    }\n",
       "\n",
       "    .dataframe thead th {\n",
       "        text-align: right;\n",
       "    }\n",
       "</style>\n",
       "<table border=\"1\" class=\"dataframe\">\n",
       "  <thead>\n",
       "    <tr style=\"text-align: right;\">\n",
       "      <th></th>\n",
       "      <th>QM100</th>\n",
       "      <th>QM101</th>\n",
       "      <th>QM102</th>\n",
       "      <th>QM103</th>\n",
       "      <th>QM104</th>\n",
       "      <th>QM105</th>\n",
       "      <th>QM106</th>\n",
       "      <th>QM107</th>\n",
       "      <th>QM108</th>\n",
       "      <th>QM109</th>\n",
       "      <th>...</th>\n",
       "      <th>QM90</th>\n",
       "      <th>QM91</th>\n",
       "      <th>QM92</th>\n",
       "      <th>QM93</th>\n",
       "      <th>QM94</th>\n",
       "      <th>QM95</th>\n",
       "      <th>QM96</th>\n",
       "      <th>QM98</th>\n",
       "      <th>QM99</th>\n",
       "      <th>QM9</th>\n",
       "    </tr>\n",
       "    <tr>\n",
       "      <th>accession</th>\n",
       "      <th></th>\n",
       "      <th></th>\n",
       "      <th></th>\n",
       "      <th></th>\n",
       "      <th></th>\n",
       "      <th></th>\n",
       "      <th></th>\n",
       "      <th></th>\n",
       "      <th></th>\n",
       "      <th></th>\n",
       "      <th></th>\n",
       "      <th></th>\n",
       "      <th></th>\n",
       "      <th></th>\n",
       "      <th></th>\n",
       "      <th></th>\n",
       "      <th></th>\n",
       "      <th></th>\n",
       "      <th></th>\n",
       "      <th></th>\n",
       "      <th></th>\n",
       "    </tr>\n",
       "  </thead>\n",
       "  <tbody>\n",
       "    <tr>\n",
       "      <th>NC_001669.1</th>\n",
       "      <td>0</td>\n",
       "      <td>0</td>\n",
       "      <td>0</td>\n",
       "      <td>0</td>\n",
       "      <td>0</td>\n",
       "      <td>0</td>\n",
       "      <td>0</td>\n",
       "      <td>0</td>\n",
       "      <td>0</td>\n",
       "      <td>0</td>\n",
       "      <td>...</td>\n",
       "      <td>0</td>\n",
       "      <td>0</td>\n",
       "      <td>0</td>\n",
       "      <td>0</td>\n",
       "      <td>0</td>\n",
       "      <td>0</td>\n",
       "      <td>0</td>\n",
       "      <td>0</td>\n",
       "      <td>0</td>\n",
       "      <td>0</td>\n",
       "    </tr>\n",
       "  </tbody>\n",
       "</table>\n",
       "<p>1 rows × 302 columns</p>\n",
       "</div>"
      ],
      "text/plain": [
       "             QM100  QM101  QM102  QM103  QM104  QM105  QM106  QM107  QM108  \\\n",
       "accession                                                                    \n",
       "NC_001669.1      0      0      0      0      0      0      0      0      0   \n",
       "\n",
       "             QM109  ...  QM90  QM91  QM92  QM93  QM94  QM95  QM96  QM98  QM99  \\\n",
       "accession           ...                                                         \n",
       "NC_001669.1      0  ...     0     0     0     0     0     0     0     0     0   \n",
       "\n",
       "             QM9  \n",
       "accession         \n",
       "NC_001669.1    0  \n",
       "\n",
       "[1 rows x 302 columns]"
      ]
     },
     "execution_count": 41,
     "metadata": {},
     "output_type": "execute_result"
    }
   ],
   "source": [
    "sv40.T"
   ]
  },
  {
   "cell_type": "code",
   "execution_count": 42,
   "id": "6bc76b80",
   "metadata": {},
   "outputs": [],
   "source": [
    "sv40_pos_feature_counts_plus=pd.concat([sv40_pos_feature_counts,sv40.T],join=\"inner\")"
   ]
  },
  {
   "cell_type": "code",
   "execution_count": 43,
   "id": "d3e2c2fc",
   "metadata": {},
   "outputs": [
    {
     "data": {
      "text/html": [
       "<div>\n",
       "<style scoped>\n",
       "    .dataframe tbody tr th:only-of-type {\n",
       "        vertical-align: middle;\n",
       "    }\n",
       "\n",
       "    .dataframe tbody tr th {\n",
       "        vertical-align: top;\n",
       "    }\n",
       "\n",
       "    .dataframe thead th {\n",
       "        text-align: right;\n",
       "    }\n",
       "</style>\n",
       "<table border=\"1\" class=\"dataframe\">\n",
       "  <thead>\n",
       "    <tr style=\"text-align: right;\">\n",
       "      <th></th>\n",
       "      <th>QM116</th>\n",
       "      <th>QM117</th>\n",
       "      <th>QM152</th>\n",
       "      <th>QM173</th>\n",
       "      <th>QM25</th>\n",
       "      <th>QM270</th>\n",
       "      <th>QM287</th>\n",
       "      <th>QM289</th>\n",
       "      <th>QM298</th>\n",
       "      <th>QM299</th>\n",
       "      <th>...</th>\n",
       "      <th>QM403</th>\n",
       "      <th>QM405</th>\n",
       "      <th>QM406</th>\n",
       "      <th>QM40</th>\n",
       "      <th>QM410</th>\n",
       "      <th>QM411</th>\n",
       "      <th>QM42</th>\n",
       "      <th>QM46</th>\n",
       "      <th>QM63</th>\n",
       "      <th>QM72</th>\n",
       "    </tr>\n",
       "  </thead>\n",
       "  <tbody>\n",
       "    <tr>\n",
       "      <th>GAPDH</th>\n",
       "      <td>396265</td>\n",
       "      <td>300894</td>\n",
       "      <td>336959</td>\n",
       "      <td>394723</td>\n",
       "      <td>225549</td>\n",
       "      <td>316526</td>\n",
       "      <td>374712</td>\n",
       "      <td>493442</td>\n",
       "      <td>659630</td>\n",
       "      <td>800548</td>\n",
       "      <td>...</td>\n",
       "      <td>737399</td>\n",
       "      <td>436814</td>\n",
       "      <td>369438</td>\n",
       "      <td>299221</td>\n",
       "      <td>464336</td>\n",
       "      <td>671547</td>\n",
       "      <td>251840</td>\n",
       "      <td>320744</td>\n",
       "      <td>367905</td>\n",
       "      <td>551437</td>\n",
       "    </tr>\n",
       "    <tr>\n",
       "      <th>TP53</th>\n",
       "      <td>4039</td>\n",
       "      <td>4936</td>\n",
       "      <td>9053</td>\n",
       "      <td>10084</td>\n",
       "      <td>5702</td>\n",
       "      <td>4700</td>\n",
       "      <td>7407</td>\n",
       "      <td>9715</td>\n",
       "      <td>9602</td>\n",
       "      <td>6391</td>\n",
       "      <td>...</td>\n",
       "      <td>9550</td>\n",
       "      <td>10793</td>\n",
       "      <td>7718</td>\n",
       "      <td>16141</td>\n",
       "      <td>3680</td>\n",
       "      <td>7349</td>\n",
       "      <td>14173</td>\n",
       "      <td>9472</td>\n",
       "      <td>7382</td>\n",
       "      <td>7174</td>\n",
       "    </tr>\n",
       "    <tr>\n",
       "      <th>NC_001669.1</th>\n",
       "      <td>64</td>\n",
       "      <td>128</td>\n",
       "      <td>32</td>\n",
       "      <td>1479</td>\n",
       "      <td>4</td>\n",
       "      <td>2</td>\n",
       "      <td>1577</td>\n",
       "      <td>2088</td>\n",
       "      <td>46335</td>\n",
       "      <td>73549</td>\n",
       "      <td>...</td>\n",
       "      <td>52</td>\n",
       "      <td>101</td>\n",
       "      <td>282</td>\n",
       "      <td>1016</td>\n",
       "      <td>8571</td>\n",
       "      <td>778</td>\n",
       "      <td>2090</td>\n",
       "      <td>184</td>\n",
       "      <td>10</td>\n",
       "      <td>178</td>\n",
       "    </tr>\n",
       "  </tbody>\n",
       "</table>\n",
       "<p>3 rows × 43 columns</p>\n",
       "</div>"
      ],
      "text/plain": [
       "              QM116   QM117   QM152   QM173    QM25   QM270   QM287   QM289  \\\n",
       "GAPDH        396265  300894  336959  394723  225549  316526  374712  493442   \n",
       "TP53           4039    4936    9053   10084    5702    4700    7407    9715   \n",
       "NC_001669.1      64     128      32    1479       4       2    1577    2088   \n",
       "\n",
       "              QM298   QM299  ...   QM403   QM405   QM406    QM40   QM410  \\\n",
       "GAPDH        659630  800548  ...  737399  436814  369438  299221  464336   \n",
       "TP53           9602    6391  ...    9550   10793    7718   16141    3680   \n",
       "NC_001669.1   46335   73549  ...      52     101     282    1016    8571   \n",
       "\n",
       "              QM411    QM42    QM46    QM63    QM72  \n",
       "GAPDH        671547  251840  320744  367905  551437  \n",
       "TP53           7349   14173    9472    7382    7174  \n",
       "NC_001669.1     778    2090     184      10     178  \n",
       "\n",
       "[3 rows x 43 columns]"
      ]
     },
     "execution_count": 43,
     "metadata": {},
     "output_type": "execute_result"
    }
   ],
   "source": [
    "sv40_pos_feature_counts_plus"
   ]
  },
  {
   "cell_type": "code",
   "execution_count": 44,
   "id": "ee62c3f5",
   "metadata": {},
   "outputs": [
    {
     "data": {
      "text/plain": [
       "<AxesSubplot: xlabel='NC_001669.1', ylabel='TP53'>"
      ]
     },
     "execution_count": 44,
     "metadata": {},
     "output_type": "execute_result"
    },
    {
     "data": {
      "image/png": "[encoded data removed]",
      "text/plain": [
       "<Figure size 640x480 with 1 Axes>"
      ]
     },
     "metadata": {},
     "output_type": "display_data"
    }
   ],
   "source": [
    "sns.scatterplot(data=sv40_pos_feature_counts_plus.T, x=\"NC_001669.1\", y=\"TP53\")"
   ]
  },
  {
   "cell_type": "code",
   "execution_count": 45,
   "id": "e51f7448",
   "metadata": {},
   "outputs": [
    {
     "data": {
      "text/plain": [
       "<AxesSubplot: xlabel='NC_001669.1', ylabel='TP53'>"
      ]
     },
     "execution_count": 45,
     "metadata": {},
     "output_type": "execute_result"
    },
    {
     "data": {
      "image/png": "[encoded data removed]",
      "text/plain": [
       "<Figure size 640x480 with 1 Axes>"
      ]
     },
     "metadata": {},
     "output_type": "display_data"
    }
   ],
   "source": [
    "sns.regplot(data=sv40_pos_feature_counts_plus.T, x=\"NC_001669.1\", y=\"TP53\")"
   ]
  },
  {
   "cell_type": "code",
   "execution_count": 46,
   "id": "ecfcf8bb",
   "metadata": {},
   "outputs": [
    {
     "data": {
      "text/plain": [
       "<seaborn.axisgrid.FacetGrid at 0x1415bed90>"
      ]
     },
     "execution_count": 46,
     "metadata": {},
     "output_type": "execute_result"
    },
    {
     "data": {
      "image/png": "[encoded data removed]",
      "text/plain": [
       "<Figure size 500x500 with 1 Axes>"
      ]
     },
     "metadata": {},
     "output_type": "display_data"
    }
   ],
   "source": [
    "sns.lmplot(data=sv40_pos_feature_counts_plus.T, x=\"NC_001669.1\", y=\"TP53\")"
   ]
  },
  {
   "cell_type": "code",
   "execution_count": null,
   "id": "d630375b",
   "metadata": {},
   "outputs": [],
   "source": []
  },
  {
   "cell_type": "code",
   "execution_count": 47,
   "id": "1943d878",
   "metadata": {},
   "outputs": [
    {
     "data": {
      "text/plain": [
       "<AxesSubplot: xlabel='NC_001669.1', ylabel='TP53'>"
      ]
     },
     "execution_count": 47,
     "metadata": {},
     "output_type": "execute_result"
    },
    {
     "data": {
      "image/png": "[encoded data removed]",
      "text/plain": [
       "<Figure size 640x480 with 1 Axes>"
      ]
     },
     "metadata": {},
     "output_type": "display_data"
    }
   ],
   "source": [
    "sns.scatterplot(data=np.log(sv40_pos_feature_counts_plus.T), x=\"NC_001669.1\", y=\"TP53\")"
   ]
  },
  {
   "cell_type": "code",
   "execution_count": 48,
   "id": "14183301",
   "metadata": {},
   "outputs": [
    {
     "data": {
      "text/plain": [
       "<AxesSubplot: xlabel='NC_001669.1', ylabel='TP53'>"
      ]
     },
     "execution_count": 48,
     "metadata": {},
     "output_type": "execute_result"
    },
    {
     "data": {
      "image/png": "[encoded data removed]",
      "text/plain": [
       "<Figure size 640x480 with 1 Axes>"
      ]
     },
     "metadata": {},
     "output_type": "display_data"
    }
   ],
   "source": [
    "sns.regplot(data=np.log(sv40_pos_feature_counts_plus.T), x=\"NC_001669.1\", y=\"TP53\")"
   ]
  },
  {
   "cell_type": "code",
   "execution_count": 49,
   "id": "4f30744c",
   "metadata": {},
   "outputs": [
    {
     "data": {
      "text/plain": [
       "<seaborn.axisgrid.FacetGrid at 0x141776910>"
      ]
     },
     "execution_count": 49,
     "metadata": {},
     "output_type": "execute_result"
    },
    {
     "data": {
      "image/png": "[encoded data removed]",
      "text/plain": [
       "<Figure size 500x500 with 1 Axes>"
      ]
     },
     "metadata": {},
     "output_type": "display_data"
    }
   ],
   "source": [
    "sns.lmplot(data=np.log(sv40_pos_feature_counts_plus.T), x=\"NC_001669.1\", y=\"TP53\")"
   ]
  }
 ],
 "metadata": {
  "kernelspec": {
   "display_name": "Python 3 (ipykernel)",
   "language": "python",
   "name": "python3"
  },
  "language_info": {
   "codemirror_mode": {
    "name": "ipython",
    "version": 3
   },
   "file_extension": ".py",
   "mimetype": "text/x-python",
   "name": "python",
   "nbconvert_exporter": "python",
   "pygments_lexer": "ipython3",
   "version": "3.8.16"
  }
 },
 "nbformat": 4,
 "nbformat_minor": 5
}
