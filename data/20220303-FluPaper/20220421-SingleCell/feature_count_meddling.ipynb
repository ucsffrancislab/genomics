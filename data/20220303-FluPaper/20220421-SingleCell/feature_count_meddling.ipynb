{
 "cells": [
  {
   "cell_type": "code",
   "execution_count": null,
   "id": "894f1fca",
   "metadata": {},
   "outputs": [],
   "source": [
    "import numpy as np\n",
    "np.__version__"
   ]
  },
  {
   "cell_type": "code",
   "execution_count": null,
   "id": "d8ab70cc",
   "metadata": {},
   "outputs": [],
   "source": [
    "import pandas as pd\n",
    "pd.__version__"
   ]
  },
  {
   "cell_type": "code",
   "execution_count": null,
   "id": "3ee7fdf0",
   "metadata": {},
   "outputs": [],
   "source": [
    "import matplotlib\n",
    "matplotlib.__version__"
   ]
  },
  {
   "cell_type": "code",
   "execution_count": null,
   "id": "71e0199d",
   "metadata": {},
   "outputs": [],
   "source": [
    "import matplotlib.pyplot as plt"
   ]
  },
  {
   "cell_type": "code",
   "execution_count": null,
   "id": "5e937cb8",
   "metadata": {},
   "outputs": [],
   "source": [
    "from matplotlib.colors import LogNorm"
   ]
  },
  {
   "cell_type": "code",
   "execution_count": null,
   "id": "259bb72b",
   "metadata": {},
   "outputs": [],
   "source": [
    "import scipy\n",
    "scipy.__version__"
   ]
  },
  {
   "cell_type": "code",
   "execution_count": null,
   "id": "8ea5350b",
   "metadata": {},
   "outputs": [],
   "source": [
    "from scipy import stats\n"
   ]
  },
  {
   "cell_type": "code",
   "execution_count": null,
   "id": "c15b5156",
   "metadata": {},
   "outputs": [],
   "source": []
  },
  {
   "cell_type": "code",
   "execution_count": null,
   "id": "c2e59515",
   "metadata": {},
   "outputs": [],
   "source": [
    "# Adjust plot size\n",
    "#options(repr.plot.width=16, repr.plot.height=6)\n",
    "\n",
    "# For some reason, if this is in the same cell as the import command, it doesn't work.\n",
    "plt.rcParams[\"figure.figsize\"] = [18.0,8.0]"
   ]
  },
  {
   "cell_type": "code",
   "execution_count": null,
   "id": "058c5b0f",
   "metadata": {},
   "outputs": [],
   "source": [
    "import seaborn as sns\n",
    "sns.__version__"
   ]
  },
  {
   "cell_type": "code",
   "execution_count": null,
   "id": "d3c99b9b",
   "metadata": {},
   "outputs": [],
   "source": [
    "from datetime import datetime\n"
   ]
  },
  {
   "cell_type": "code",
   "execution_count": null,
   "id": "3de40b9b",
   "metadata": {},
   "outputs": [],
   "source": [
    "import sklearn\n",
    "sklearn.__version__\n"
   ]
  },
  {
   "cell_type": "code",
   "execution_count": null,
   "id": "0748cfc6",
   "metadata": {},
   "outputs": [],
   "source": [
    "from sklearn.preprocessing import StandardScaler\n",
    "from sklearn.decomposition import PCA"
   ]
  },
  {
   "cell_type": "code",
   "execution_count": null,
   "id": "5fd74248",
   "metadata": {},
   "outputs": [],
   "source": []
  },
  {
   "cell_type": "code",
   "execution_count": null,
   "id": "ce5c974e",
   "metadata": {},
   "outputs": [],
   "source": [
    "default_max_columns=pd.get_option('display.max_columns')\n",
    "default_max_rows=pd.get_option('display.max_rows')\n",
    "default_precision=pd.get_option('display.precision')\n",
    "pd.set_option('display.precision', 2)"
   ]
  },
  {
   "cell_type": "code",
   "execution_count": null,
   "id": "6c6e0903",
   "metadata": {},
   "outputs": [],
   "source": []
  },
  {
   "cell_type": "code",
   "execution_count": null,
   "id": "4b7e53cb",
   "metadata": {},
   "outputs": [],
   "source": [
    "read_counts = pd.read_csv('barcode_read_counts.csv',sep=\",\",header=None,index_col=0,names=['barcode','count'])\n",
    "read_counts.head()"
   ]
  },
  {
   "cell_type": "code",
   "execution_count": null,
   "id": "6fb31d67",
   "metadata": {},
   "outputs": [],
   "source": [
    "read_counts.shape"
   ]
  },
  {
   "cell_type": "code",
   "execution_count": null,
   "id": "13f9aff5",
   "metadata": {},
   "outputs": [],
   "source": []
  },
  {
   "cell_type": "code",
   "execution_count": null,
   "id": "f7056165",
   "metadata": {
    "scrolled": true
   },
   "outputs": [],
   "source": [
    "metadata = pd.read_csv('mergedAllCells_withCellTypeIdents_CLEAN.csv',sep=\",\",index_col=0)\n",
    "metadata.head()"
   ]
  },
  {
   "cell_type": "code",
   "execution_count": null,
   "id": "7696556f",
   "metadata": {},
   "outputs": [],
   "source": [
    "metadata.shape"
   ]
  },
  {
   "cell_type": "code",
   "execution_count": null,
   "id": "b2d0beda",
   "metadata": {},
   "outputs": [],
   "source": []
  },
  {
   "cell_type": "code",
   "execution_count": null,
   "id": "dc7fef70",
   "metadata": {},
   "outputs": [],
   "source": [
    "metadata=metadata[['SOC_indiv_ID','SOC_infection_status','SOC_genetic_ancestry','celltype']]\n",
    "metadata.head()"
   ]
  },
  {
   "cell_type": "code",
   "execution_count": null,
   "id": "8fa5f762",
   "metadata": {},
   "outputs": [],
   "source": [
    "metadata.shape"
   ]
  },
  {
   "cell_type": "code",
   "execution_count": null,
   "id": "8602946b",
   "metadata": {},
   "outputs": [],
   "source": []
  },
  {
   "cell_type": "code",
   "execution_count": null,
   "id": "191fa7d9",
   "metadata": {},
   "outputs": [],
   "source": [
    "#feature_counts = pd.read_csv('featureCounts.B1.19.transcript.gene_name.csv.gz',sep=\"\\t\",\n",
    "#feature_counts = pd.read_csv('featureCounts.B1.LTR.feature.feature_name.csv.gz',sep=\"\\t\",\n",
    "#feature_counts = pd.read_csv('featureCounts.B1.Other.feature.feature_name.csv.gz',sep=\"\\t\",\n",
    "feature_counts = pd.read_csv('featureCounts.B1.19.exon.gene_name.csv.gz',sep=\"\\t\",\n",
    "                    dtype = {'Chr': str, 'Start': str, 'End': str}, index_col=0,header=1)\n",
    "feature_counts.head()"
   ]
  },
  {
   "cell_type": "code",
   "execution_count": null,
   "id": "4ebedac3",
   "metadata": {},
   "outputs": [],
   "source": [
    "feature_counts.dtypes"
   ]
  },
  {
   "cell_type": "code",
   "execution_count": null,
   "id": "5c917fc6",
   "metadata": {},
   "outputs": [],
   "source": [
    "feature_counts.shape"
   ]
  },
  {
   "cell_type": "code",
   "execution_count": null,
   "id": "40c886bb",
   "metadata": {},
   "outputs": [],
   "source": []
  },
  {
   "cell_type": "code",
   "execution_count": null,
   "id": "4704ac1b",
   "metadata": {},
   "outputs": [],
   "source": [
    "feature_counts.drop(['Chr','Start','End','Length','Strand'],axis='columns',inplace=True)\n",
    "feature_counts.head()"
   ]
  },
  {
   "cell_type": "code",
   "execution_count": null,
   "id": "2c139944",
   "metadata": {},
   "outputs": [],
   "source": [
    "feature_counts.sum(axis='columns')"
   ]
  },
  {
   "cell_type": "code",
   "execution_count": null,
   "id": "45ec982c",
   "metadata": {},
   "outputs": [],
   "source": [
    "feature_counts.columns=feature_counts.columns.str.rstrip('.bam')\n",
    "feature_counts"
   ]
  },
  {
   "cell_type": "code",
   "execution_count": null,
   "id": "63d40448",
   "metadata": {},
   "outputs": [],
   "source": []
  },
  {
   "cell_type": "markdown",
   "id": "d4539b19",
   "metadata": {},
   "source": [
    "# Normalize"
   ]
  },
  {
   "cell_type": "code",
   "execution_count": null,
   "id": "6ab5d9cd",
   "metadata": {},
   "outputs": [],
   "source": []
  },
  {
   "cell_type": "code",
   "execution_count": null,
   "id": "be71d33f",
   "metadata": {},
   "outputs": [],
   "source": []
  },
  {
   "cell_type": "code",
   "execution_count": null,
   "id": "8604b449",
   "metadata": {},
   "outputs": [],
   "source": []
  },
  {
   "cell_type": "code",
   "execution_count": null,
   "id": "76d58f1a",
   "metadata": {},
   "outputs": [],
   "source": []
  },
  {
   "cell_type": "code",
   "execution_count": null,
   "id": "646a7dcf",
   "metadata": {},
   "outputs": [],
   "source": []
  },
  {
   "cell_type": "code",
   "execution_count": null,
   "id": "8c91acda",
   "metadata": {},
   "outputs": [],
   "source": []
  },
  {
   "cell_type": "code",
   "execution_count": null,
   "id": "9323b468",
   "metadata": {},
   "outputs": [],
   "source": []
  },
  {
   "cell_type": "code",
   "execution_count": null,
   "id": "47d843f3",
   "metadata": {},
   "outputs": [],
   "source": [
    "#feature_counts.drop(feature_counts[feature_counts.sum(axis='columns')<=1000].index,inplace=True)\n",
    "feature_counts=feature_counts[feature_counts.sum(axis='columns')>100]\n",
    "feature_counts"
   ]
  },
  {
   "cell_type": "code",
   "execution_count": null,
   "id": "057a41bc",
   "metadata": {},
   "outputs": [],
   "source": [
    "feature_counts=feature_counts.T.merge(metadata,left_index=True,right_index=True)\n",
    "feature_counts"
   ]
  },
  {
   "cell_type": "code",
   "execution_count": null,
   "id": "a5b5b73d",
   "metadata": {},
   "outputs": [],
   "source": [
    "feature_counts=feature_counts.reset_index()\n",
    "feature_counts=feature_counts.rename(columns={\"index\": \"barcode\"})\n",
    "feature_counts=feature_counts.set_index(\n",
    "    ['barcode','SOC_indiv_ID','SOC_infection_status','SOC_genetic_ancestry','celltype'])\n",
    "feature_counts"
   ]
  },
  {
   "cell_type": "code",
   "execution_count": null,
   "id": "f5315d7e",
   "metadata": {},
   "outputs": [],
   "source": [
    "feature_counts.shape"
   ]
  },
  {
   "cell_type": "code",
   "execution_count": null,
   "id": "58a6a3c8",
   "metadata": {},
   "outputs": [],
   "source": [
    "data_columns=feature_counts.columns"
   ]
  },
  {
   "cell_type": "code",
   "execution_count": null,
   "id": "0c2d295b",
   "metadata": {},
   "outputs": [],
   "source": []
  },
  {
   "cell_type": "code",
   "execution_count": null,
   "id": "18f6d3a0",
   "metadata": {},
   "outputs": [],
   "source": [
    "def ttests_boxplots_and_heatmaps(localdf,columns,group_column,box_p=0.05,heat_p=0.15):\n",
    "    select_p_values=[]\n",
    "#    localdf.reset_index(inplace=True)\n",
    "    groups=localdf[group_column].unique().tolist()\n",
    "    print(\"T-Testing\")\n",
    "    print(groups)\n",
    "    for col in columns:\n",
    "        if ( col not in localdf.columns ):\n",
    "            continue\n",
    "#        print(col)\n",
    "        for group in groups:\n",
    "            others = groups.copy()\n",
    "            others.remove(group)\n",
    "            #print(localdf[localdf[group_column]==group][col])\n",
    "            #print(localdf[localdf[group_column]==group][col])\n",
    "\n",
    "            for other in others:\n",
    "                t,p = stats.ttest_ind(\n",
    "#                t,p = stats.ttest_rel(\n",
    "                    localdf[localdf[group_column]==group][col],\n",
    "                    localdf[localdf[group_column]==other][col])\n",
    "                #if(p<0.1):\n",
    "                #    print(col,group,other,t,p)\n",
    "                if(( p > 0 ) and ( p < heat_p )):\n",
    "                    select_p_values.append([abs(t),p,col])\n",
    "#                    print([abs(t),p,col])\n",
    "                    \n",
    "    pdf = pd.DataFrame(select_p_values, columns=['t','p','col'])                        \n",
    "    pdf=pdf.drop_duplicates().sort_values('p')\n",
    "    print(\"Boxplotting\")\n",
    "    for index, row in pdf.iterrows():\n",
    "        if(( row['p'] > 0 ) and ( row['p'] < box_p )):\n",
    "            print(\" p : \"+str(row['p'])+\"  ( t : \"+str(row['t'])+\" ) :  \"+str(row['col']))\n",
    "            \n",
    "            localdf.boxplot(column=row['col'],by=[group_column])\n",
    "            plt.title(str(row['col']))\n",
    "            plt.xticks(rotation=75,ha='right')\n",
    "            plt.show()                            \n",
    "\n",
    "\n",
    "    print(\"Clustermapping\")\n",
    "\n",
    "    selected=['barcode',group_column]\n",
    "#    selected=['subject',group_column]\n",
    "#    selected=['sample',group_column]\n",
    "    selected=np.append(selected,pdf['col'])\n",
    "    selected=np.unique(selected)\n",
    "    print(selected)\n",
    "    \n",
    "    if len(selected) > 3: #7:\n",
    "        tmp=localdf[selected].copy()\n",
    "        tmp.set_index(['barcode',group_column],inplace=True)\n",
    "\n",
    "        #tmp-=tmp.min() # This may almost always be 0 now.\n",
    "#        tmp/=tmp.max() # given that there should be no NAs now, coule let clustermap do this\n",
    "        # ...\n",
    "        #standard_scale int or None, optional\n",
    "        #Either 0 (rows) or 1 (columns).\n",
    "        #Whether or not to standardize that dimension, meaning for each row or column,\n",
    "        #subtract the minimum and divide each by its maximum.\n",
    "        # how would that deal with 0s or empty cells\n",
    "\n",
    "        tmp=tmp.fillna(0) # Somehow, some scaled values become NaN so keep this\n",
    "\n",
    "        #tmp.reset_index(inplace=True)\n",
    "        tmp=tmp.reset_index()\n",
    "\n",
    "        tmp=tmp.sort_values([group_column])\n",
    "        tmp.set_index(['barcode'],inplace=True)\n",
    "\n",
    "        diagnoses=tmp.pop(group_column)\n",
    "        tmp=tmp.T\n",
    "\n",
    "        network_pal = sns.cubehelix_palette(len(diagnoses.unique()),\n",
    "                            light=.9, dark=.1, reverse=True,\n",
    "                            start=1, rot=-2)\n",
    "        network_pal\n",
    "        network_lut = dict(zip(diagnoses.unique(), network_pal))\n",
    "\n",
    "        # Convert the palette to vectors that will be drawn on the side of the matrix\n",
    "        network_labels = diagnoses\n",
    "        network_colors = pd.Series(network_labels, index=tmp.columns).map(network_lut)                \n",
    "\n",
    "\n",
    "        g=sns.clustermap(tmp,col_cluster=False,figsize=(15,20),cmap=\"Spectral\",\n",
    "                         col_colors=network_colors,xticklabels=True,norm=LogNorm())\n",
    "        g.fig.suptitle(\"Clustermap 1 : \" + group_column + \" : select p < \" + str(heat_p) )\n",
    "        plt.setp(g.ax_heatmap.get_xticklabels(), rotation=75, horizontalalignment='right')\n",
    "\n",
    "        # Draw the legend bar for the classes                 \n",
    "        for label in network_labels.unique():\n",
    "            g.ax_col_dendrogram.bar(0, 0, color=network_lut[label],\n",
    "                                    label=label, linewidth=0)\n",
    "        g.ax_col_dendrogram.legend(loc=\"center\", ncol=4)\n",
    "\n",
    "        # Adjust the postion of the main colorbar for the heatmap\n",
    "        g.cax.set_position([0, .15, .005, .6])\n",
    "        plt.show()\n",
    "\n",
    "        g=sns.clustermap(tmp,figsize=(15,20),cmap=\"Spectral\",\n",
    "                         col_colors=network_colors,xticklabels=True,norm=LogNorm())\n",
    "        g.fig.suptitle(\"Clustermap 2 : \" + group_column + \" : select p < \" + str(heat_p) )\n",
    "        plt.setp(g.ax_heatmap.get_xticklabels(), rotation=75, horizontalalignment='right')\n",
    "\n",
    "        # Draw the legend bar for the classes                 \n",
    "        for label in network_labels.unique():\n",
    "            g.ax_col_dendrogram.bar(0, 0, color=network_lut[label],\n",
    "                                    label=label, linewidth=0)\n",
    "        g.ax_col_dendrogram.legend(loc=\"center\", ncol=4)\n",
    "\n",
    "        # Adjust the postion of the main colorbar for the heatmap\n",
    "        # [dist from left,dist from bottom?,width?,height?]\n",
    "        g.cax.set_position([0, .15, .005, .6])\n",
    "        plt.show()  \n",
    "        \n",
    "\n",
    "\n",
    "        pcadf=localdf[selected].copy()\n",
    "\n",
    "        pcadf.set_index(['barcode',group_column],inplace=True)\n",
    "        \n",
    "        elements=pcadf.columns\n",
    "        \n",
    "        #pcadf.reset_index(inplace=True)\n",
    "        pcadf=pcadf.reset_index()\n",
    "        \n",
    "        scaler = StandardScaler()\n",
    "        scaler.fit(pcadf[elements])\n",
    "        scaled_data = scaler.transform(pcadf[elements])\n",
    "        \n",
    "        #ValueError: n_components=8 must be between 0 and min(n_samples, n_features)=2 with svd_solver='full'\n",
    "        n=min([len(pcadf),len(pcadf.columns)-2,8])\n",
    "        pca = PCA(n_components=n)\n",
    "        \n",
    "        pca.fit(scaled_data)\n",
    "        x_pca = pca.transform(scaled_data)\n",
    "        \n",
    "        # for color\n",
    "        groups=pcadf[group_column].unique().tolist()\n",
    "        pcadf['group_index']=pcadf[group_column].apply(lambda x: groups.index(x))\n",
    "        \n",
    "        fig = plt.figure(figsize = (18,8))\n",
    "        ax = fig.add_subplot(1,1,1) \n",
    "        ax.set_xlabel('Principal Component 1', fontsize = 15)\n",
    "        ax.set_ylabel('Principal Component 2', fontsize = 15)\n",
    "        ax.set_title(''+str(n)+' component PCA '+group_column + \" : select p < \" + str(heat_p) , fontsize = 20)\n",
    "\n",
    "        colors = ['r','g','b','c','m','y','k']\n",
    "        for target, color in zip(groups,colors):\n",
    "            indicesToKeep = pcadf[group_column] == target\n",
    "            ax.scatter(x_pca[indicesToKeep, 0], x_pca[indicesToKeep, 1], c = color, s = 50)\n",
    "        ax.legend(groups)\n",
    "        ax.grid()\n",
    "        plt.show()\n",
    "\n",
    "    else:\n",
    "        print(\"Not enough data to produce cluster maps\")    \n",
    "    \n",
    "                "
   ]
  },
  {
   "cell_type": "code",
   "execution_count": null,
   "id": "704ee303",
   "metadata": {},
   "outputs": [],
   "source": []
  },
  {
   "cell_type": "code",
   "execution_count": null,
   "id": "8bee49c8",
   "metadata": {
    "scrolled": false
   },
   "outputs": [],
   "source": [
    "#ttests_boxplots_and_heatmaps(\n",
    "#    feature_counts.reset_index(), data_columns[0:100],\n",
    "#    'SOC_infection_status',box_p=0.005,heat_p=0.05)\n",
    "#for column in ['SOC_infection_status','SOC_genetic_ancestry','celltype']:\n",
    "#    print(column)\n",
    "#    ttests_boxplots_and_heatmaps(feature_counts.reset_index(),data_columns,column,box_p=0.005,heat_p=0.05)    \n",
    "#ttests_boxplots_and_heatmaps(\n",
    "#    feature_counts.reset_index(),data_columns[0:10],'celltype',box_p=0.0005,heat_p=0.005)    \n",
    "\n",
    "#ttests_boxplots_and_heatmaps(\n",
    "#    feature_counts.reset_index()[0:5000],[\"ISG15\",\"NOC2L\",\"HES4\"],'celltype',box_p=0.0005,heat_p=0.005)    \n",
    "\n",
    "ttests_boxplots_and_heatmaps(\n",
    "    feature_counts.reset_index(),data_columns,'celltype',box_p=0.0001,heat_p=0.005)    \n"
   ]
  },
  {
   "cell_type": "code",
   "execution_count": null,
   "id": "93febfef",
   "metadata": {},
   "outputs": [],
   "source": [
    "\n",
    "\n",
    "\n",
    "\n",
    "\n"
   ]
  }
 ],
 "metadata": {
  "kernelspec": {
   "display_name": "Python 3",
   "language": "python",
   "name": "python3"
  },
  "language_info": {
   "codemirror_mode": {
    "name": "ipython",
    "version": 3
   },
   "file_extension": ".py",
   "mimetype": "text/x-python",
   "name": "python",
   "nbconvert_exporter": "python",
   "pygments_lexer": "ipython3",
   "version": "3.8.13"
  }
 },
 "nbformat": 4,
 "nbformat_minor": 5
}
