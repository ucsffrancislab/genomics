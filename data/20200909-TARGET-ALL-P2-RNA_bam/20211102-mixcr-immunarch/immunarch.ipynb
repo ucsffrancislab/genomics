{
 "cells": [
  {
   "cell_type": "code",
   "execution_count": null,
   "id": "5d15ba2d",
   "metadata": {},
   "outputs": [],
   "source": [
    "#options(repr.plot.width = 10, repr.plot.height = 6, repr.plot.res = 250)"
   ]
  },
  {
   "cell_type": "code",
   "execution_count": null,
   "id": "213e317c",
   "metadata": {},
   "outputs": [],
   "source": [
    "options(repr.plot.width = 10, repr.plot.height = 10, repr.plot.res = 250)"
   ]
  },
  {
   "cell_type": "code",
   "execution_count": null,
   "id": "fadd9158",
   "metadata": {
    "scrolled": true
   },
   "outputs": [],
   "source": [
    "library(immunarch)"
   ]
  },
  {
   "cell_type": "code",
   "execution_count": null,
   "id": "97c059a0",
   "metadata": {
    "scrolled": true
   },
   "outputs": [],
   "source": [
    "immdata <- repLoad(\"data\")"
   ]
  },
  {
   "cell_type": "code",
   "execution_count": null,
   "id": "b4cee7df",
   "metadata": {},
   "outputs": [],
   "source": [
    "immdata$meta"
   ]
  },
  {
   "cell_type": "code",
   "execution_count": null,
   "id": "9e518bb4",
   "metadata": {},
   "outputs": [],
   "source": [
    "#immdata$data[]"
   ]
  },
  {
   "cell_type": "code",
   "execution_count": null,
   "id": "ca4d23d7",
   "metadata": {},
   "outputs": [],
   "source": [
    "#immdata$data[[1]]"
   ]
  },
  {
   "cell_type": "code",
   "execution_count": null,
   "id": "71d34855",
   "metadata": {},
   "outputs": [],
   "source": [
    "# WAY TOO MANY SAMPLES NOW. CAN'T EVEN SEE PLOT\n",
    "# How to not show legend? Or show it separately?\n",
    "p = repExplore(immdata$data, \"len\") %>% vis()\n",
    "p + theme(legend.position = \"none\")"
   ]
  },
  {
   "cell_type": "code",
   "execution_count": null,
   "id": "d0a35fb8",
   "metadata": {
    "scrolled": false
   },
   "outputs": [],
   "source": [
    "options(repr.plot.width = 10, repr.plot.height = 20, repr.plot.res = 250)\n",
    "repExplore(immdata$data, \"len\") %>% vis() + theme(legend.position = \"none\") + coord_flip()\n",
    "options(repr.plot.width = 10, repr.plot.height = 10, repr.plot.res = 250)"
   ]
  },
  {
   "cell_type": "code",
   "execution_count": null,
   "id": "ca48e177",
   "metadata": {
    "scrolled": false
   },
   "outputs": [],
   "source": [
    "repExplore(immdata$data, .method = \"volume\") %>% vis()"
   ]
  },
  {
   "cell_type": "code",
   "execution_count": null,
   "id": "64298744",
   "metadata": {
    "scrolled": false
   },
   "outputs": [],
   "source": [
    "options(repr.plot.width = 10, repr.plot.height = 20, repr.plot.res = 250)\n",
    "repExplore(immdata$data, \"volume\") %>% vis() + theme(legend.position = \"none\") + coord_flip()\n",
    "options(repr.plot.width = 10, repr.plot.height = 10, repr.plot.res = 250)"
   ]
  },
  {
   "cell_type": "code",
   "execution_count": null,
   "id": "2de70b0a",
   "metadata": {},
   "outputs": [],
   "source": [
    "repExplore(immdata$data, .method = \"clones\") %>% vis()"
   ]
  },
  {
   "cell_type": "code",
   "execution_count": null,
   "id": "0ebcfae2",
   "metadata": {
    "scrolled": false
   },
   "outputs": [],
   "source": [
    "options(repr.plot.width = 10, repr.plot.height = 20, repr.plot.res = 250)\n",
    "repExplore(immdata$data, \"clones\") %>% vis() + theme(legend.position = \"none\") + coord_flip()\n",
    "options(repr.plot.width = 10, repr.plot.height = 10, repr.plot.res = 250)"
   ]
  },
  {
   "cell_type": "code",
   "execution_count": null,
   "id": "72207734",
   "metadata": {},
   "outputs": [],
   "source": [
    "#repClonality(immdata$data, \"homeo\") %>% vis()"
   ]
  },
  {
   "cell_type": "code",
   "execution_count": null,
   "id": "f51fcbf5",
   "metadata": {},
   "outputs": [],
   "source": [
    "#p = repClonality(immdata$data, \"homeo\") %>% vis()\n",
    "#p + theme(legend.position = \"none\")"
   ]
  },
  {
   "cell_type": "code",
   "execution_count": null,
   "id": "6779d898",
   "metadata": {
    "scrolled": false
   },
   "outputs": [],
   "source": [
    "options(repr.plot.width = 10, repr.plot.height = 40, repr.plot.res = 250)\n",
    "repClonality(immdata$data, \"homeo\") %>% vis() + coord_flip()"
   ]
  },
  {
   "cell_type": "code",
   "execution_count": null,
   "id": "2a3a05b0",
   "metadata": {},
   "outputs": [],
   "source": [
    "options(repr.plot.width = 10, repr.plot.height = 10, repr.plot.res = 250)\n",
    "# apparently can't stretch a heat map out of square"
   ]
  },
  {
   "cell_type": "code",
   "execution_count": null,
   "id": "8cbdefe4",
   "metadata": {
    "scrolled": false
   },
   "outputs": [],
   "source": [
    "#p = repClonality(immdata$data, \"homeo\") %>% vis()\n",
    "#p + geom_bar(fill=0) + theme(legend.position = \"none\")"
   ]
  },
  {
   "cell_type": "code",
   "execution_count": null,
   "id": "d33c6160",
   "metadata": {},
   "outputs": [],
   "source": [
    "#options(repr.plot.width = 10, repr.plot.height = 10, repr.plot.res = 250)"
   ]
  },
  {
   "cell_type": "code",
   "execution_count": null,
   "id": "524a3be0",
   "metadata": {
    "scrolled": false
   },
   "outputs": [],
   "source": [
    "# TOO MANY SAMPLES. How to not plot value?\n",
    "p = repOverlap(immdata$data) %>% vis()\n",
    "p + geom_tile()"
   ]
  },
  {
   "cell_type": "code",
   "execution_count": null,
   "id": "7de84ac3",
   "metadata": {},
   "outputs": [],
   "source": [
    "p = repOverlap(immdata$data) %>% vis(\"heatmap\")\n",
    "p + geom_tile()"
   ]
  },
  {
   "cell_type": "code",
   "execution_count": null,
   "id": "deac13ae",
   "metadata": {
    "scrolled": false
   },
   "outputs": [],
   "source": [
    "repOverlap(immdata$data) %>% vis(\"heatmap2\")"
   ]
  },
  {
   "cell_type": "code",
   "execution_count": null,
   "id": "a0381853",
   "metadata": {},
   "outputs": [],
   "source": [
    "#p = repOverlap(immdata$data) %>% vis(\"circos\")\n",
    "#p\n",
    "# Error: vector memory exhausted (limit reached?)"
   ]
  },
  {
   "cell_type": "code",
   "execution_count": null,
   "id": "00b3f914",
   "metadata": {
    "scrolled": false
   },
   "outputs": [],
   "source": [
    "p = repOverlap(immdata$data,.method ='public') %>% vis()\n",
    "p + geom_tile()"
   ]
  },
  {
   "cell_type": "code",
   "execution_count": null,
   "id": "53a8724a",
   "metadata": {},
   "outputs": [],
   "source": [
    "p = repOverlap(immdata$data,.method ='overlap') %>% vis()\n",
    "p + geom_tile()"
   ]
  },
  {
   "cell_type": "code",
   "execution_count": null,
   "id": "f5634f6b",
   "metadata": {},
   "outputs": [],
   "source": [
    "p = repOverlap(immdata$data,.method ='jaccard') %>% vis()\n",
    "p + geom_tile()"
   ]
  },
  {
   "cell_type": "code",
   "execution_count": null,
   "id": "f81e0567",
   "metadata": {},
   "outputs": [],
   "source": [
    "p = repOverlap(immdata$data,.method ='tversky') %>% vis()\n",
    "p + geom_tile()"
   ]
  },
  {
   "cell_type": "code",
   "execution_count": null,
   "id": "706db0f8",
   "metadata": {},
   "outputs": [],
   "source": [
    "p = repOverlap(immdata$data,.method ='cosine') %>% vis()\n",
    "p + geom_tile()"
   ]
  },
  {
   "cell_type": "code",
   "execution_count": null,
   "id": "5dc84652",
   "metadata": {},
   "outputs": [],
   "source": [
    "p = repOverlap(immdata$data,.method ='morisita') %>% vis()\n",
    "p + geom_tile()"
   ]
  },
  {
   "cell_type": "code",
   "execution_count": null,
   "id": "bccd15c8",
   "metadata": {},
   "outputs": [],
   "source": [
    "#repOverlap(immdata$data,.method ='inc+public') %>% vis()"
   ]
  },
  {
   "cell_type": "code",
   "execution_count": null,
   "id": "d4cc1d29",
   "metadata": {},
   "outputs": [],
   "source": [
    "#repOverlap(immdata$data,.method ='inc+morisita') %>% vis()"
   ]
  },
  {
   "cell_type": "code",
   "execution_count": null,
   "id": "b1de9028",
   "metadata": {},
   "outputs": [],
   "source": [
    "options(repr.plot.width = 10, repr.plot.height = 10, repr.plot.res = 250)"
   ]
  },
  {
   "cell_type": "code",
   "execution_count": null,
   "id": "29afbc40",
   "metadata": {},
   "outputs": [],
   "source": [
    "#for(sample in immdata$meta$Sample){\n",
    "#    print(sample)\n",
    "#}"
   ]
  },
  {
   "cell_type": "code",
   "execution_count": null,
   "id": "5ce771f5",
   "metadata": {},
   "outputs": [],
   "source": [
    "immdata$data[\"02-0047-01A\"]"
   ]
  },
  {
   "cell_type": "code",
   "execution_count": null,
   "id": "30c20595",
   "metadata": {},
   "outputs": [],
   "source": [
    "sample=\"02-0047-01A\"\n",
    "geneUsage(immdata$data[[sample]]) %>% vis(.title = sample)"
   ]
  },
  {
   "cell_type": "code",
   "execution_count": null,
   "id": "0aabd0d8",
   "metadata": {
    "scrolled": false
   },
   "outputs": [],
   "source": [
    "#for(sample in immdata$meta$Sample){\n",
    "#    #print(sample)\n",
    "#    print(geneUsage(immdata$data[[sample]]) %>% vis(.title = sample))\n",
    "#}"
   ]
  },
  {
   "cell_type": "code",
   "execution_count": null,
   "id": "8eff3067",
   "metadata": {},
   "outputs": [],
   "source": [
    "repDiversity(immdata$data) %>% vis(.by = \"IDH\", .meta = immdata$meta)"
   ]
  },
  {
   "cell_type": "code",
   "execution_count": null,
   "id": "d773c955",
   "metadata": {},
   "outputs": [],
   "source": [
    "repDiversity(immdata$data) %>% vis(.by = \"gender\", .meta = immdata$meta)"
   ]
  },
  {
   "cell_type": "code",
   "execution_count": null,
   "id": "ffc806b7",
   "metadata": {
    "scrolled": false
   },
   "outputs": [],
   "source": [
    "repDiversity(immdata$data) %>% vis(.by = \"x1p19q\", .meta = immdata$meta)"
   ]
  },
  {
   "cell_type": "code",
   "execution_count": null,
   "id": "50cf5518",
   "metadata": {},
   "outputs": [],
   "source": [
    "repDiversity(immdata$data) %>% vis(.by = \"TERT\", .meta = immdata$meta)"
   ]
  },
  {
   "cell_type": "code",
   "execution_count": null,
   "id": "b4b170f3",
   "metadata": {},
   "outputs": [],
   "source": [
    "repDiversity(immdata$data) %>% vis(.by = \"race\", .meta = immdata$meta)"
   ]
  },
  {
   "cell_type": "code",
   "execution_count": null,
   "id": "02281886",
   "metadata": {},
   "outputs": [],
   "source": [
    "repDiversity(immdata$data) %>% vis(.by = \"IDH_1p19q_status\", .meta = immdata$meta)"
   ]
  },
  {
   "cell_type": "code",
   "execution_count": null,
   "id": "5fec65a5",
   "metadata": {},
   "outputs": [],
   "source": [
    "repDiversity(immdata$data) %>% vis(.by = \"WHO_groups\", .meta = immdata$meta)"
   ]
  },
  {
   "cell_type": "code",
   "execution_count": null,
   "id": "5978605c",
   "metadata": {},
   "outputs": [],
   "source": [
    "repDiversity(immdata$data) %>% vis(.by = \"Triple_group\", .meta = immdata$meta)"
   ]
  },
  {
   "cell_type": "code",
   "execution_count": null,
   "id": "62a27135",
   "metadata": {},
   "outputs": [],
   "source": [
    "repDiversity(immdata$data) %>% vis(.by = \"ethnicity\", .meta = immdata$meta)"
   ]
  },
  {
   "cell_type": "code",
   "execution_count": null,
   "id": "3a55c793",
   "metadata": {},
   "outputs": [],
   "source": [
    "repDiversity(immdata$data) %>% vis(.by = \"primary_diagnosis\", .meta = immdata$meta)"
   ]
  }
 ],
 "metadata": {
  "kernelspec": {
   "display_name": "R",
   "language": "R",
   "name": "ir"
  },
  "language_info": {
   "codemirror_mode": "r",
   "file_extension": ".r",
   "mimetype": "text/x-r-source",
   "name": "R",
   "pygments_lexer": "r",
   "version": "4.1.1"
  }
 },
 "nbformat": 4,
 "nbformat_minor": 5
}
